{
  "cells": [
    {
      "cell_type": "markdown",
      "source": [
        "# Optimización de redes neuronales a través de algoritmos genéticos\n"
      ],
      "metadata": {
        "id": "mOwOaIbvwJb4"
      }
    },
    {
      "cell_type": "markdown",
      "source": [
        "En este notebook se llevará a cabo la optimización de los hiperparámetros de una red neuronal mediante el uso de algoritmos genéticos.\n",
        "\n",
        "La función de nuestra red neuronal es la predicción del PH del agua a través de ciertos parámetros"
      ],
      "metadata": {
        "id": "vsAoXhRDwZEK"
      }
    },
    {
      "cell_type": "markdown",
      "source": [
        "1. Cargamos las bibliotecas necesarias"
      ],
      "metadata": {
        "id": "P9jT4uThwuE1"
      }
    },
    {
      "cell_type": "code",
      "source": [
        "!pip install deap"
      ],
      "metadata": {
        "colab": {
          "base_uri": "https://localhost:8080/"
        },
        "id": "0chM7nh63dig",
        "outputId": "82b693ab-ea54-4156-f2d6-46408fa70342"
      },
      "execution_count": 6,
      "outputs": [
        {
          "output_type": "stream",
          "name": "stdout",
          "text": [
            "Requirement already satisfied: deap in /usr/local/lib/python3.10/dist-packages (1.4.1)\n",
            "Requirement already satisfied: numpy in /usr/local/lib/python3.10/dist-packages (from deap) (1.23.5)\n"
          ]
        }
      ]
    },
    {
      "cell_type": "code",
      "source": [
        "from sklearn.neural_network import MLPRegressor\n",
        "from sklearn.model_selection import train_test_split\n",
        "from sklearn.metrics import mean_squared_error\n",
        "from sklearn.preprocessing import MinMaxScaler\n",
        "from deap import base, creator, tools, algorithms\n",
        "\n",
        "import matplotlib.pyplot as plt\n",
        "import pandas as pd\n",
        "import numpy as np\n",
        "import random"
      ],
      "metadata": {
        "id": "HWm66MZwwtwL"
      },
      "execution_count": 29,
      "outputs": []
    },
    {
      "cell_type": "markdown",
      "source": [
        "Cargamos el dataset"
      ],
      "metadata": {
        "id": "_eAvjrzkx3TB"
      }
    },
    {
      "cell_type": "code",
      "source": [
        "path = 'https://raw.githubusercontent.com/Yahred/evolutionary-computation/main/data/PARAMETROS_FINALES_CRUDOS.csv'\n",
        "\n",
        "df = pd.read_csv(path)\n",
        "ph = 'pH_CAMPO'"
      ],
      "metadata": {
        "id": "RwYpjFiKwYd2"
      },
      "execution_count": 3,
      "outputs": []
    },
    {
      "cell_type": "code",
      "execution_count": 4,
      "metadata": {
        "colab": {
          "base_uri": "https://localhost:8080/",
          "height": 236
        },
        "id": "IpruGV6Pv5lr",
        "outputId": "e5b632aa-3893-44c3-a21c-981c34eaa6d4"
      },
      "outputs": [
        {
          "output_type": "execute_result",
          "data": {
            "text/plain": [
              "   CLOROF_A  COLI_FEC  COLI_TOT   E_COLI     COT  COT_SOL  DBO_SOL  DBO_TOT  \\\n",
              "0       NaN   24196.0   24196.0      NaN  2.3560   2.3500     3.33     6.63   \n",
              "1       NaN   24196.0   24196.0  24196.0  8.3441   6.4727     2.73     4.11   \n",
              "2       NaN   24196.0   24196.0   3654.0  8.1953   6.1425     4.97     6.65   \n",
              "3       NaN   24196.0   24196.0    776.0  7.6502   4.0415     2.00     2.34   \n",
              "4       NaN     663.0   12997.0    109.0  9.4452   3.0909     2.00     2.33   \n",
              "\n",
              "   DQO_SOL  DQO_TOT  ...  TURBIEDAD  TEMP_AMB  PROFUNDIDAD    CAUDAL  \\\n",
              "0     12.6  18.0872  ...       46.0      35.3          NaN     430.0   \n",
              "1     15.5  27.8784  ...       60.0      26.7          NaN  420000.0   \n",
              "2     10.0  16.1600  ...       30.0      34.6          NaN     180.0   \n",
              "3     10.0  10.0000  ...       40.0       NaN          NaN       5.0   \n",
              "4     10.0  25.4700  ...        5.5      37.4          NaN       5.0   \n",
              "\n",
              "    DUR_TOT  TEMP_AGUA  CONDUC_CAMPO  pH_CAMPO   OD_%  OD_mg/L  \n",
              "0  303.3400       24.6        1200.0      8.20   83.7     5.26  \n",
              "1  222.9984       24.3         677.0      7.97   85.8     7.21  \n",
              "2  224.4432       25.8         479.0      8.02   89.8     7.31  \n",
              "3  414.9600       29.9         930.0      8.05   94.3     7.07  \n",
              "4  298.9900       33.1        1170.0      8.27  127.6     9.06  \n",
              "\n",
              "[5 rows x 34 columns]"
            ],
            "text/html": [
              "\n",
              "  <div id=\"df-ec40b693-7527-4248-a415-0ce821e5828c\" class=\"colab-df-container\">\n",
              "    <div>\n",
              "<style scoped>\n",
              "    .dataframe tbody tr th:only-of-type {\n",
              "        vertical-align: middle;\n",
              "    }\n",
              "\n",
              "    .dataframe tbody tr th {\n",
              "        vertical-align: top;\n",
              "    }\n",
              "\n",
              "    .dataframe thead th {\n",
              "        text-align: right;\n",
              "    }\n",
              "</style>\n",
              "<table border=\"1\" class=\"dataframe\">\n",
              "  <thead>\n",
              "    <tr style=\"text-align: right;\">\n",
              "      <th></th>\n",
              "      <th>CLOROF_A</th>\n",
              "      <th>COLI_FEC</th>\n",
              "      <th>COLI_TOT</th>\n",
              "      <th>E_COLI</th>\n",
              "      <th>COT</th>\n",
              "      <th>COT_SOL</th>\n",
              "      <th>DBO_SOL</th>\n",
              "      <th>DBO_TOT</th>\n",
              "      <th>DQO_SOL</th>\n",
              "      <th>DQO_TOT</th>\n",
              "      <th>...</th>\n",
              "      <th>TURBIEDAD</th>\n",
              "      <th>TEMP_AMB</th>\n",
              "      <th>PROFUNDIDAD</th>\n",
              "      <th>CAUDAL</th>\n",
              "      <th>DUR_TOT</th>\n",
              "      <th>TEMP_AGUA</th>\n",
              "      <th>CONDUC_CAMPO</th>\n",
              "      <th>pH_CAMPO</th>\n",
              "      <th>OD_%</th>\n",
              "      <th>OD_mg/L</th>\n",
              "    </tr>\n",
              "  </thead>\n",
              "  <tbody>\n",
              "    <tr>\n",
              "      <th>0</th>\n",
              "      <td>NaN</td>\n",
              "      <td>24196.0</td>\n",
              "      <td>24196.0</td>\n",
              "      <td>NaN</td>\n",
              "      <td>2.3560</td>\n",
              "      <td>2.3500</td>\n",
              "      <td>3.33</td>\n",
              "      <td>6.63</td>\n",
              "      <td>12.6</td>\n",
              "      <td>18.0872</td>\n",
              "      <td>...</td>\n",
              "      <td>46.0</td>\n",
              "      <td>35.3</td>\n",
              "      <td>NaN</td>\n",
              "      <td>430.0</td>\n",
              "      <td>303.3400</td>\n",
              "      <td>24.6</td>\n",
              "      <td>1200.0</td>\n",
              "      <td>8.20</td>\n",
              "      <td>83.7</td>\n",
              "      <td>5.26</td>\n",
              "    </tr>\n",
              "    <tr>\n",
              "      <th>1</th>\n",
              "      <td>NaN</td>\n",
              "      <td>24196.0</td>\n",
              "      <td>24196.0</td>\n",
              "      <td>24196.0</td>\n",
              "      <td>8.3441</td>\n",
              "      <td>6.4727</td>\n",
              "      <td>2.73</td>\n",
              "      <td>4.11</td>\n",
              "      <td>15.5</td>\n",
              "      <td>27.8784</td>\n",
              "      <td>...</td>\n",
              "      <td>60.0</td>\n",
              "      <td>26.7</td>\n",
              "      <td>NaN</td>\n",
              "      <td>420000.0</td>\n",
              "      <td>222.9984</td>\n",
              "      <td>24.3</td>\n",
              "      <td>677.0</td>\n",
              "      <td>7.97</td>\n",
              "      <td>85.8</td>\n",
              "      <td>7.21</td>\n",
              "    </tr>\n",
              "    <tr>\n",
              "      <th>2</th>\n",
              "      <td>NaN</td>\n",
              "      <td>24196.0</td>\n",
              "      <td>24196.0</td>\n",
              "      <td>3654.0</td>\n",
              "      <td>8.1953</td>\n",
              "      <td>6.1425</td>\n",
              "      <td>4.97</td>\n",
              "      <td>6.65</td>\n",
              "      <td>10.0</td>\n",
              "      <td>16.1600</td>\n",
              "      <td>...</td>\n",
              "      <td>30.0</td>\n",
              "      <td>34.6</td>\n",
              "      <td>NaN</td>\n",
              "      <td>180.0</td>\n",
              "      <td>224.4432</td>\n",
              "      <td>25.8</td>\n",
              "      <td>479.0</td>\n",
              "      <td>8.02</td>\n",
              "      <td>89.8</td>\n",
              "      <td>7.31</td>\n",
              "    </tr>\n",
              "    <tr>\n",
              "      <th>3</th>\n",
              "      <td>NaN</td>\n",
              "      <td>24196.0</td>\n",
              "      <td>24196.0</td>\n",
              "      <td>776.0</td>\n",
              "      <td>7.6502</td>\n",
              "      <td>4.0415</td>\n",
              "      <td>2.00</td>\n",
              "      <td>2.34</td>\n",
              "      <td>10.0</td>\n",
              "      <td>10.0000</td>\n",
              "      <td>...</td>\n",
              "      <td>40.0</td>\n",
              "      <td>NaN</td>\n",
              "      <td>NaN</td>\n",
              "      <td>5.0</td>\n",
              "      <td>414.9600</td>\n",
              "      <td>29.9</td>\n",
              "      <td>930.0</td>\n",
              "      <td>8.05</td>\n",
              "      <td>94.3</td>\n",
              "      <td>7.07</td>\n",
              "    </tr>\n",
              "    <tr>\n",
              "      <th>4</th>\n",
              "      <td>NaN</td>\n",
              "      <td>663.0</td>\n",
              "      <td>12997.0</td>\n",
              "      <td>109.0</td>\n",
              "      <td>9.4452</td>\n",
              "      <td>3.0909</td>\n",
              "      <td>2.00</td>\n",
              "      <td>2.33</td>\n",
              "      <td>10.0</td>\n",
              "      <td>25.4700</td>\n",
              "      <td>...</td>\n",
              "      <td>5.5</td>\n",
              "      <td>37.4</td>\n",
              "      <td>NaN</td>\n",
              "      <td>5.0</td>\n",
              "      <td>298.9900</td>\n",
              "      <td>33.1</td>\n",
              "      <td>1170.0</td>\n",
              "      <td>8.27</td>\n",
              "      <td>127.6</td>\n",
              "      <td>9.06</td>\n",
              "    </tr>\n",
              "  </tbody>\n",
              "</table>\n",
              "<p>5 rows × 34 columns</p>\n",
              "</div>\n",
              "    <div class=\"colab-df-buttons\">\n",
              "\n",
              "  <div class=\"colab-df-container\">\n",
              "    <button class=\"colab-df-convert\" onclick=\"convertToInteractive('df-ec40b693-7527-4248-a415-0ce821e5828c')\"\n",
              "            title=\"Convert this dataframe to an interactive table.\"\n",
              "            style=\"display:none;\">\n",
              "\n",
              "  <svg xmlns=\"http://www.w3.org/2000/svg\" height=\"24px\" viewBox=\"0 -960 960 960\">\n",
              "    <path d=\"M120-120v-720h720v720H120Zm60-500h600v-160H180v160Zm220 220h160v-160H400v160Zm0 220h160v-160H400v160ZM180-400h160v-160H180v160Zm440 0h160v-160H620v160ZM180-180h160v-160H180v160Zm440 0h160v-160H620v160Z\"/>\n",
              "  </svg>\n",
              "    </button>\n",
              "\n",
              "  <style>\n",
              "    .colab-df-container {\n",
              "      display:flex;\n",
              "      gap: 12px;\n",
              "    }\n",
              "\n",
              "    .colab-df-convert {\n",
              "      background-color: #E8F0FE;\n",
              "      border: none;\n",
              "      border-radius: 50%;\n",
              "      cursor: pointer;\n",
              "      display: none;\n",
              "      fill: #1967D2;\n",
              "      height: 32px;\n",
              "      padding: 0 0 0 0;\n",
              "      width: 32px;\n",
              "    }\n",
              "\n",
              "    .colab-df-convert:hover {\n",
              "      background-color: #E2EBFA;\n",
              "      box-shadow: 0px 1px 2px rgba(60, 64, 67, 0.3), 0px 1px 3px 1px rgba(60, 64, 67, 0.15);\n",
              "      fill: #174EA6;\n",
              "    }\n",
              "\n",
              "    .colab-df-buttons div {\n",
              "      margin-bottom: 4px;\n",
              "    }\n",
              "\n",
              "    [theme=dark] .colab-df-convert {\n",
              "      background-color: #3B4455;\n",
              "      fill: #D2E3FC;\n",
              "    }\n",
              "\n",
              "    [theme=dark] .colab-df-convert:hover {\n",
              "      background-color: #434B5C;\n",
              "      box-shadow: 0px 1px 3px 1px rgba(0, 0, 0, 0.15);\n",
              "      filter: drop-shadow(0px 1px 2px rgba(0, 0, 0, 0.3));\n",
              "      fill: #FFFFFF;\n",
              "    }\n",
              "  </style>\n",
              "\n",
              "    <script>\n",
              "      const buttonEl =\n",
              "        document.querySelector('#df-ec40b693-7527-4248-a415-0ce821e5828c button.colab-df-convert');\n",
              "      buttonEl.style.display =\n",
              "        google.colab.kernel.accessAllowed ? 'block' : 'none';\n",
              "\n",
              "      async function convertToInteractive(key) {\n",
              "        const element = document.querySelector('#df-ec40b693-7527-4248-a415-0ce821e5828c');\n",
              "        const dataTable =\n",
              "          await google.colab.kernel.invokeFunction('convertToInteractive',\n",
              "                                                    [key], {});\n",
              "        if (!dataTable) return;\n",
              "\n",
              "        const docLinkHtml = 'Like what you see? Visit the ' +\n",
              "          '<a target=\"_blank\" href=https://colab.research.google.com/notebooks/data_table.ipynb>data table notebook</a>'\n",
              "          + ' to learn more about interactive tables.';\n",
              "        element.innerHTML = '';\n",
              "        dataTable['output_type'] = 'display_data';\n",
              "        await google.colab.output.renderOutput(dataTable, element);\n",
              "        const docLink = document.createElement('div');\n",
              "        docLink.innerHTML = docLinkHtml;\n",
              "        element.appendChild(docLink);\n",
              "      }\n",
              "    </script>\n",
              "  </div>\n",
              "\n",
              "\n",
              "<div id=\"df-6d84c2b3-c2d7-40c9-9565-5cf7bb0dc07b\">\n",
              "  <button class=\"colab-df-quickchart\" onclick=\"quickchart('df-6d84c2b3-c2d7-40c9-9565-5cf7bb0dc07b')\"\n",
              "            title=\"Suggest charts.\"\n",
              "            style=\"display:none;\">\n",
              "\n",
              "<svg xmlns=\"http://www.w3.org/2000/svg\" height=\"24px\"viewBox=\"0 0 24 24\"\n",
              "     width=\"24px\">\n",
              "    <g>\n",
              "        <path d=\"M19 3H5c-1.1 0-2 .9-2 2v14c0 1.1.9 2 2 2h14c1.1 0 2-.9 2-2V5c0-1.1-.9-2-2-2zM9 17H7v-7h2v7zm4 0h-2V7h2v10zm4 0h-2v-4h2v4z\"/>\n",
              "    </g>\n",
              "</svg>\n",
              "  </button>\n",
              "\n",
              "<style>\n",
              "  .colab-df-quickchart {\n",
              "      --bg-color: #E8F0FE;\n",
              "      --fill-color: #1967D2;\n",
              "      --hover-bg-color: #E2EBFA;\n",
              "      --hover-fill-color: #174EA6;\n",
              "      --disabled-fill-color: #AAA;\n",
              "      --disabled-bg-color: #DDD;\n",
              "  }\n",
              "\n",
              "  [theme=dark] .colab-df-quickchart {\n",
              "      --bg-color: #3B4455;\n",
              "      --fill-color: #D2E3FC;\n",
              "      --hover-bg-color: #434B5C;\n",
              "      --hover-fill-color: #FFFFFF;\n",
              "      --disabled-bg-color: #3B4455;\n",
              "      --disabled-fill-color: #666;\n",
              "  }\n",
              "\n",
              "  .colab-df-quickchart {\n",
              "    background-color: var(--bg-color);\n",
              "    border: none;\n",
              "    border-radius: 50%;\n",
              "    cursor: pointer;\n",
              "    display: none;\n",
              "    fill: var(--fill-color);\n",
              "    height: 32px;\n",
              "    padding: 0;\n",
              "    width: 32px;\n",
              "  }\n",
              "\n",
              "  .colab-df-quickchart:hover {\n",
              "    background-color: var(--hover-bg-color);\n",
              "    box-shadow: 0 1px 2px rgba(60, 64, 67, 0.3), 0 1px 3px 1px rgba(60, 64, 67, 0.15);\n",
              "    fill: var(--button-hover-fill-color);\n",
              "  }\n",
              "\n",
              "  .colab-df-quickchart-complete:disabled,\n",
              "  .colab-df-quickchart-complete:disabled:hover {\n",
              "    background-color: var(--disabled-bg-color);\n",
              "    fill: var(--disabled-fill-color);\n",
              "    box-shadow: none;\n",
              "  }\n",
              "\n",
              "  .colab-df-spinner {\n",
              "    border: 2px solid var(--fill-color);\n",
              "    border-color: transparent;\n",
              "    border-bottom-color: var(--fill-color);\n",
              "    animation:\n",
              "      spin 1s steps(1) infinite;\n",
              "  }\n",
              "\n",
              "  @keyframes spin {\n",
              "    0% {\n",
              "      border-color: transparent;\n",
              "      border-bottom-color: var(--fill-color);\n",
              "      border-left-color: var(--fill-color);\n",
              "    }\n",
              "    20% {\n",
              "      border-color: transparent;\n",
              "      border-left-color: var(--fill-color);\n",
              "      border-top-color: var(--fill-color);\n",
              "    }\n",
              "    30% {\n",
              "      border-color: transparent;\n",
              "      border-left-color: var(--fill-color);\n",
              "      border-top-color: var(--fill-color);\n",
              "      border-right-color: var(--fill-color);\n",
              "    }\n",
              "    40% {\n",
              "      border-color: transparent;\n",
              "      border-right-color: var(--fill-color);\n",
              "      border-top-color: var(--fill-color);\n",
              "    }\n",
              "    60% {\n",
              "      border-color: transparent;\n",
              "      border-right-color: var(--fill-color);\n",
              "    }\n",
              "    80% {\n",
              "      border-color: transparent;\n",
              "      border-right-color: var(--fill-color);\n",
              "      border-bottom-color: var(--fill-color);\n",
              "    }\n",
              "    90% {\n",
              "      border-color: transparent;\n",
              "      border-bottom-color: var(--fill-color);\n",
              "    }\n",
              "  }\n",
              "</style>\n",
              "\n",
              "  <script>\n",
              "    async function quickchart(key) {\n",
              "      const quickchartButtonEl =\n",
              "        document.querySelector('#' + key + ' button');\n",
              "      quickchartButtonEl.disabled = true;  // To prevent multiple clicks.\n",
              "      quickchartButtonEl.classList.add('colab-df-spinner');\n",
              "      try {\n",
              "        const charts = await google.colab.kernel.invokeFunction(\n",
              "            'suggestCharts', [key], {});\n",
              "      } catch (error) {\n",
              "        console.error('Error during call to suggestCharts:', error);\n",
              "      }\n",
              "      quickchartButtonEl.classList.remove('colab-df-spinner');\n",
              "      quickchartButtonEl.classList.add('colab-df-quickchart-complete');\n",
              "    }\n",
              "    (() => {\n",
              "      let quickchartButtonEl =\n",
              "        document.querySelector('#df-6d84c2b3-c2d7-40c9-9565-5cf7bb0dc07b button');\n",
              "      quickchartButtonEl.style.display =\n",
              "        google.colab.kernel.accessAllowed ? 'block' : 'none';\n",
              "    })();\n",
              "  </script>\n",
              "</div>\n",
              "    </div>\n",
              "  </div>\n"
            ]
          },
          "metadata": {},
          "execution_count": 4
        }
      ],
      "source": [
        "df.head()"
      ]
    },
    {
      "cell_type": "markdown",
      "source": [
        "# 1. Limpieza de datos\n"
      ],
      "metadata": {
        "id": "26k0j9w3yCjS"
      }
    },
    {
      "cell_type": "markdown",
      "source": [
        "Removemos las filas con valores nulos de pH_CAMPO, debido a que es el valor que queremos predecir"
      ],
      "metadata": {
        "id": "hQJy7abMyIi8"
      }
    },
    {
      "cell_type": "code",
      "source": [
        "df.shape"
      ],
      "metadata": {
        "colab": {
          "base_uri": "https://localhost:8080/"
        },
        "id": "qWF-0CbIyXuB",
        "outputId": "42da4001-011e-4b21-c8ef-51d9420d3465"
      },
      "execution_count": 5,
      "outputs": [
        {
          "output_type": "execute_result",
          "data": {
            "text/plain": [
              "(6162, 34)"
            ]
          },
          "metadata": {},
          "execution_count": 5
        }
      ]
    },
    {
      "cell_type": "code",
      "source": [
        "df = df.dropna(subset=[ph])"
      ],
      "metadata": {
        "id": "zmaBMLBHyR2G"
      },
      "execution_count": 6,
      "outputs": []
    },
    {
      "cell_type": "code",
      "source": [
        "df.shape"
      ],
      "metadata": {
        "colab": {
          "base_uri": "https://localhost:8080/"
        },
        "id": "ca44l4gYydvp",
        "outputId": "57dfceb0-fcef-401f-ae55-0d5d09b7d0b5"
      },
      "execution_count": 7,
      "outputs": [
        {
          "output_type": "execute_result",
          "data": {
            "text/plain": [
              "(6067, 34)"
            ]
          },
          "metadata": {},
          "execution_count": 7
        }
      ]
    },
    {
      "cell_type": "markdown",
      "source": [
        "Removemos las columnas que no cuentan con al menos el 95% de registros"
      ],
      "metadata": {
        "id": "qeE2CDNbzTtm"
      }
    },
    {
      "cell_type": "code",
      "source": [
        "rows = len(df)\n",
        "umbral = 0.95 * rows\n",
        "\n",
        "df = df.dropna(thresh=umbral, axis=1)"
      ],
      "metadata": {
        "id": "0oT6iyD5zTIs"
      },
      "execution_count": 8,
      "outputs": []
    },
    {
      "cell_type": "code",
      "source": [
        "df.shape"
      ],
      "metadata": {
        "colab": {
          "base_uri": "https://localhost:8080/"
        },
        "id": "B1Lwfpvjz3Ye",
        "outputId": "4f7becfc-dd28-4072-a5a4-87c61cce28ae"
      },
      "execution_count": 9,
      "outputs": [
        {
          "output_type": "execute_result",
          "data": {
            "text/plain": [
              "(6067, 22)"
            ]
          },
          "metadata": {},
          "execution_count": 9
        }
      ]
    },
    {
      "cell_type": "markdown",
      "source": [
        "Nos quedan 22 columnas, ahora para el resto de datos nulos realizaremos una estrategia de imputación con mediana"
      ],
      "metadata": {
        "id": "GQxHDZ3Iz5M1"
      }
    },
    {
      "cell_type": "code",
      "source": [
        "columnas = list(df.columns)\n",
        "\n",
        "df_imputado = df.copy()\n",
        "for col in columnas:\n",
        "  print(col, df[col].median())\n",
        "  df_imputado[col].fillna(df[col].median(), inplace=True)\n",
        "\n",
        "df = df_imputado"
      ],
      "metadata": {
        "colab": {
          "base_uri": "https://localhost:8080/"
        },
        "id": "kp8jQNcAz7d7",
        "outputId": "2a2f83c9-4fff-42ad-ffea-78d9f3fbd797"
      },
      "execution_count": 10,
      "outputs": [
        {
          "output_type": "stream",
          "name": "stdout",
          "text": [
            "COLI_FEC 1723.0\n",
            "COT 3.303\n",
            "COT_SOL 2.7924499999999997\n",
            "N_NH3 0.100493\n",
            "N_NO2 0.005804999999999999\n",
            "N_NO3 0.079\n",
            "N_ORG 0.6272249999999999\n",
            "N_TOT 1.1867450000000002\n",
            "N_TOTK 0.795853\n",
            "P_TOT 0.12009500000000001\n",
            "ORTO_PO4 0.042891\n",
            "COLOR_VER 18.0\n",
            "ABS_UV 0.0874\n",
            "SDT 481.92\n",
            "SST 23.0\n",
            "TURBIEDAD 7.5\n",
            "TEMP_AMB 31.0\n",
            "TEMP_AGUA 29.1\n",
            "CONDUC_CAMPO 775.0\n",
            "pH_CAMPO 8.1\n",
            "OD_% 95.9\n",
            "OD_mg/L 7.3\n"
          ]
        }
      ]
    },
    {
      "cell_type": "code",
      "source": [
        "df.head()"
      ],
      "metadata": {
        "colab": {
          "base_uri": "https://localhost:8080/",
          "height": 236
        },
        "id": "YK2B46om0KWT",
        "outputId": "55496bc2-f73f-4f85-f782-c9ea8f3854fd"
      },
      "execution_count": 11,
      "outputs": [
        {
          "output_type": "execute_result",
          "data": {
            "text/plain": [
              "   COLI_FEC     COT  COT_SOL   N_NH3   N_NO2    N_NO3   N_ORG    N_TOT  \\\n",
              "0   24196.0  2.3560   2.3500  0.0030  0.0341  19.6195  0.0000  19.6566   \n",
              "1   24196.0  8.3441   6.4727  0.2566  0.0603  33.4269  0.0000  33.7438   \n",
              "2   24196.0  8.1953   6.1425  0.1063  0.0279   8.0885  0.0781   8.3008   \n",
              "3   24196.0  7.6502   4.0415  0.2231  0.0354  16.7725  0.0000  17.0310   \n",
              "4     663.0  9.4452   3.0909  0.0589  0.0601  14.5449  0.0000  14.6639   \n",
              "\n",
              "   N_TOTK   P_TOT  ...  ABS_UV     SDT      SST  TURBIEDAD  TEMP_AMB  \\\n",
              "0  0.0030  0.2080  ...  0.0090  768.00  76.6667       46.0      35.3   \n",
              "1  0.2566  0.2475  ...  0.0288  433.28  43.0000       60.0      26.7   \n",
              "2  0.1844  0.1814  ...  0.0086  306.56  45.6250       30.0      34.6   \n",
              "3  0.2231  0.1451  ...  0.0090  595.20  54.0000       40.0      31.0   \n",
              "4  0.0589  0.1387  ...  0.0935  748.80  30.0000        5.5      37.4   \n",
              "\n",
              "   TEMP_AGUA  CONDUC_CAMPO  pH_CAMPO   OD_%  OD_mg/L  \n",
              "0       24.6        1200.0      8.20   83.7     5.26  \n",
              "1       24.3         677.0      7.97   85.8     7.21  \n",
              "2       25.8         479.0      8.02   89.8     7.31  \n",
              "3       29.9         930.0      8.05   94.3     7.07  \n",
              "4       33.1        1170.0      8.27  127.6     9.06  \n",
              "\n",
              "[5 rows x 22 columns]"
            ],
            "text/html": [
              "\n",
              "  <div id=\"df-b1b4f00d-030f-472f-a10a-ed04220de629\" class=\"colab-df-container\">\n",
              "    <div>\n",
              "<style scoped>\n",
              "    .dataframe tbody tr th:only-of-type {\n",
              "        vertical-align: middle;\n",
              "    }\n",
              "\n",
              "    .dataframe tbody tr th {\n",
              "        vertical-align: top;\n",
              "    }\n",
              "\n",
              "    .dataframe thead th {\n",
              "        text-align: right;\n",
              "    }\n",
              "</style>\n",
              "<table border=\"1\" class=\"dataframe\">\n",
              "  <thead>\n",
              "    <tr style=\"text-align: right;\">\n",
              "      <th></th>\n",
              "      <th>COLI_FEC</th>\n",
              "      <th>COT</th>\n",
              "      <th>COT_SOL</th>\n",
              "      <th>N_NH3</th>\n",
              "      <th>N_NO2</th>\n",
              "      <th>N_NO3</th>\n",
              "      <th>N_ORG</th>\n",
              "      <th>N_TOT</th>\n",
              "      <th>N_TOTK</th>\n",
              "      <th>P_TOT</th>\n",
              "      <th>...</th>\n",
              "      <th>ABS_UV</th>\n",
              "      <th>SDT</th>\n",
              "      <th>SST</th>\n",
              "      <th>TURBIEDAD</th>\n",
              "      <th>TEMP_AMB</th>\n",
              "      <th>TEMP_AGUA</th>\n",
              "      <th>CONDUC_CAMPO</th>\n",
              "      <th>pH_CAMPO</th>\n",
              "      <th>OD_%</th>\n",
              "      <th>OD_mg/L</th>\n",
              "    </tr>\n",
              "  </thead>\n",
              "  <tbody>\n",
              "    <tr>\n",
              "      <th>0</th>\n",
              "      <td>24196.0</td>\n",
              "      <td>2.3560</td>\n",
              "      <td>2.3500</td>\n",
              "      <td>0.0030</td>\n",
              "      <td>0.0341</td>\n",
              "      <td>19.6195</td>\n",
              "      <td>0.0000</td>\n",
              "      <td>19.6566</td>\n",
              "      <td>0.0030</td>\n",
              "      <td>0.2080</td>\n",
              "      <td>...</td>\n",
              "      <td>0.0090</td>\n",
              "      <td>768.00</td>\n",
              "      <td>76.6667</td>\n",
              "      <td>46.0</td>\n",
              "      <td>35.3</td>\n",
              "      <td>24.6</td>\n",
              "      <td>1200.0</td>\n",
              "      <td>8.20</td>\n",
              "      <td>83.7</td>\n",
              "      <td>5.26</td>\n",
              "    </tr>\n",
              "    <tr>\n",
              "      <th>1</th>\n",
              "      <td>24196.0</td>\n",
              "      <td>8.3441</td>\n",
              "      <td>6.4727</td>\n",
              "      <td>0.2566</td>\n",
              "      <td>0.0603</td>\n",
              "      <td>33.4269</td>\n",
              "      <td>0.0000</td>\n",
              "      <td>33.7438</td>\n",
              "      <td>0.2566</td>\n",
              "      <td>0.2475</td>\n",
              "      <td>...</td>\n",
              "      <td>0.0288</td>\n",
              "      <td>433.28</td>\n",
              "      <td>43.0000</td>\n",
              "      <td>60.0</td>\n",
              "      <td>26.7</td>\n",
              "      <td>24.3</td>\n",
              "      <td>677.0</td>\n",
              "      <td>7.97</td>\n",
              "      <td>85.8</td>\n",
              "      <td>7.21</td>\n",
              "    </tr>\n",
              "    <tr>\n",
              "      <th>2</th>\n",
              "      <td>24196.0</td>\n",
              "      <td>8.1953</td>\n",
              "      <td>6.1425</td>\n",
              "      <td>0.1063</td>\n",
              "      <td>0.0279</td>\n",
              "      <td>8.0885</td>\n",
              "      <td>0.0781</td>\n",
              "      <td>8.3008</td>\n",
              "      <td>0.1844</td>\n",
              "      <td>0.1814</td>\n",
              "      <td>...</td>\n",
              "      <td>0.0086</td>\n",
              "      <td>306.56</td>\n",
              "      <td>45.6250</td>\n",
              "      <td>30.0</td>\n",
              "      <td>34.6</td>\n",
              "      <td>25.8</td>\n",
              "      <td>479.0</td>\n",
              "      <td>8.02</td>\n",
              "      <td>89.8</td>\n",
              "      <td>7.31</td>\n",
              "    </tr>\n",
              "    <tr>\n",
              "      <th>3</th>\n",
              "      <td>24196.0</td>\n",
              "      <td>7.6502</td>\n",
              "      <td>4.0415</td>\n",
              "      <td>0.2231</td>\n",
              "      <td>0.0354</td>\n",
              "      <td>16.7725</td>\n",
              "      <td>0.0000</td>\n",
              "      <td>17.0310</td>\n",
              "      <td>0.2231</td>\n",
              "      <td>0.1451</td>\n",
              "      <td>...</td>\n",
              "      <td>0.0090</td>\n",
              "      <td>595.20</td>\n",
              "      <td>54.0000</td>\n",
              "      <td>40.0</td>\n",
              "      <td>31.0</td>\n",
              "      <td>29.9</td>\n",
              "      <td>930.0</td>\n",
              "      <td>8.05</td>\n",
              "      <td>94.3</td>\n",
              "      <td>7.07</td>\n",
              "    </tr>\n",
              "    <tr>\n",
              "      <th>4</th>\n",
              "      <td>663.0</td>\n",
              "      <td>9.4452</td>\n",
              "      <td>3.0909</td>\n",
              "      <td>0.0589</td>\n",
              "      <td>0.0601</td>\n",
              "      <td>14.5449</td>\n",
              "      <td>0.0000</td>\n",
              "      <td>14.6639</td>\n",
              "      <td>0.0589</td>\n",
              "      <td>0.1387</td>\n",
              "      <td>...</td>\n",
              "      <td>0.0935</td>\n",
              "      <td>748.80</td>\n",
              "      <td>30.0000</td>\n",
              "      <td>5.5</td>\n",
              "      <td>37.4</td>\n",
              "      <td>33.1</td>\n",
              "      <td>1170.0</td>\n",
              "      <td>8.27</td>\n",
              "      <td>127.6</td>\n",
              "      <td>9.06</td>\n",
              "    </tr>\n",
              "  </tbody>\n",
              "</table>\n",
              "<p>5 rows × 22 columns</p>\n",
              "</div>\n",
              "    <div class=\"colab-df-buttons\">\n",
              "\n",
              "  <div class=\"colab-df-container\">\n",
              "    <button class=\"colab-df-convert\" onclick=\"convertToInteractive('df-b1b4f00d-030f-472f-a10a-ed04220de629')\"\n",
              "            title=\"Convert this dataframe to an interactive table.\"\n",
              "            style=\"display:none;\">\n",
              "\n",
              "  <svg xmlns=\"http://www.w3.org/2000/svg\" height=\"24px\" viewBox=\"0 -960 960 960\">\n",
              "    <path d=\"M120-120v-720h720v720H120Zm60-500h600v-160H180v160Zm220 220h160v-160H400v160Zm0 220h160v-160H400v160ZM180-400h160v-160H180v160Zm440 0h160v-160H620v160ZM180-180h160v-160H180v160Zm440 0h160v-160H620v160Z\"/>\n",
              "  </svg>\n",
              "    </button>\n",
              "\n",
              "  <style>\n",
              "    .colab-df-container {\n",
              "      display:flex;\n",
              "      gap: 12px;\n",
              "    }\n",
              "\n",
              "    .colab-df-convert {\n",
              "      background-color: #E8F0FE;\n",
              "      border: none;\n",
              "      border-radius: 50%;\n",
              "      cursor: pointer;\n",
              "      display: none;\n",
              "      fill: #1967D2;\n",
              "      height: 32px;\n",
              "      padding: 0 0 0 0;\n",
              "      width: 32px;\n",
              "    }\n",
              "\n",
              "    .colab-df-convert:hover {\n",
              "      background-color: #E2EBFA;\n",
              "      box-shadow: 0px 1px 2px rgba(60, 64, 67, 0.3), 0px 1px 3px 1px rgba(60, 64, 67, 0.15);\n",
              "      fill: #174EA6;\n",
              "    }\n",
              "\n",
              "    .colab-df-buttons div {\n",
              "      margin-bottom: 4px;\n",
              "    }\n",
              "\n",
              "    [theme=dark] .colab-df-convert {\n",
              "      background-color: #3B4455;\n",
              "      fill: #D2E3FC;\n",
              "    }\n",
              "\n",
              "    [theme=dark] .colab-df-convert:hover {\n",
              "      background-color: #434B5C;\n",
              "      box-shadow: 0px 1px 3px 1px rgba(0, 0, 0, 0.15);\n",
              "      filter: drop-shadow(0px 1px 2px rgba(0, 0, 0, 0.3));\n",
              "      fill: #FFFFFF;\n",
              "    }\n",
              "  </style>\n",
              "\n",
              "    <script>\n",
              "      const buttonEl =\n",
              "        document.querySelector('#df-b1b4f00d-030f-472f-a10a-ed04220de629 button.colab-df-convert');\n",
              "      buttonEl.style.display =\n",
              "        google.colab.kernel.accessAllowed ? 'block' : 'none';\n",
              "\n",
              "      async function convertToInteractive(key) {\n",
              "        const element = document.querySelector('#df-b1b4f00d-030f-472f-a10a-ed04220de629');\n",
              "        const dataTable =\n",
              "          await google.colab.kernel.invokeFunction('convertToInteractive',\n",
              "                                                    [key], {});\n",
              "        if (!dataTable) return;\n",
              "\n",
              "        const docLinkHtml = 'Like what you see? Visit the ' +\n",
              "          '<a target=\"_blank\" href=https://colab.research.google.com/notebooks/data_table.ipynb>data table notebook</a>'\n",
              "          + ' to learn more about interactive tables.';\n",
              "        element.innerHTML = '';\n",
              "        dataTable['output_type'] = 'display_data';\n",
              "        await google.colab.output.renderOutput(dataTable, element);\n",
              "        const docLink = document.createElement('div');\n",
              "        docLink.innerHTML = docLinkHtml;\n",
              "        element.appendChild(docLink);\n",
              "      }\n",
              "    </script>\n",
              "  </div>\n",
              "\n",
              "\n",
              "<div id=\"df-14ddd4e4-7146-463c-a88f-a6c295915126\">\n",
              "  <button class=\"colab-df-quickchart\" onclick=\"quickchart('df-14ddd4e4-7146-463c-a88f-a6c295915126')\"\n",
              "            title=\"Suggest charts.\"\n",
              "            style=\"display:none;\">\n",
              "\n",
              "<svg xmlns=\"http://www.w3.org/2000/svg\" height=\"24px\"viewBox=\"0 0 24 24\"\n",
              "     width=\"24px\">\n",
              "    <g>\n",
              "        <path d=\"M19 3H5c-1.1 0-2 .9-2 2v14c0 1.1.9 2 2 2h14c1.1 0 2-.9 2-2V5c0-1.1-.9-2-2-2zM9 17H7v-7h2v7zm4 0h-2V7h2v10zm4 0h-2v-4h2v4z\"/>\n",
              "    </g>\n",
              "</svg>\n",
              "  </button>\n",
              "\n",
              "<style>\n",
              "  .colab-df-quickchart {\n",
              "      --bg-color: #E8F0FE;\n",
              "      --fill-color: #1967D2;\n",
              "      --hover-bg-color: #E2EBFA;\n",
              "      --hover-fill-color: #174EA6;\n",
              "      --disabled-fill-color: #AAA;\n",
              "      --disabled-bg-color: #DDD;\n",
              "  }\n",
              "\n",
              "  [theme=dark] .colab-df-quickchart {\n",
              "      --bg-color: #3B4455;\n",
              "      --fill-color: #D2E3FC;\n",
              "      --hover-bg-color: #434B5C;\n",
              "      --hover-fill-color: #FFFFFF;\n",
              "      --disabled-bg-color: #3B4455;\n",
              "      --disabled-fill-color: #666;\n",
              "  }\n",
              "\n",
              "  .colab-df-quickchart {\n",
              "    background-color: var(--bg-color);\n",
              "    border: none;\n",
              "    border-radius: 50%;\n",
              "    cursor: pointer;\n",
              "    display: none;\n",
              "    fill: var(--fill-color);\n",
              "    height: 32px;\n",
              "    padding: 0;\n",
              "    width: 32px;\n",
              "  }\n",
              "\n",
              "  .colab-df-quickchart:hover {\n",
              "    background-color: var(--hover-bg-color);\n",
              "    box-shadow: 0 1px 2px rgba(60, 64, 67, 0.3), 0 1px 3px 1px rgba(60, 64, 67, 0.15);\n",
              "    fill: var(--button-hover-fill-color);\n",
              "  }\n",
              "\n",
              "  .colab-df-quickchart-complete:disabled,\n",
              "  .colab-df-quickchart-complete:disabled:hover {\n",
              "    background-color: var(--disabled-bg-color);\n",
              "    fill: var(--disabled-fill-color);\n",
              "    box-shadow: none;\n",
              "  }\n",
              "\n",
              "  .colab-df-spinner {\n",
              "    border: 2px solid var(--fill-color);\n",
              "    border-color: transparent;\n",
              "    border-bottom-color: var(--fill-color);\n",
              "    animation:\n",
              "      spin 1s steps(1) infinite;\n",
              "  }\n",
              "\n",
              "  @keyframes spin {\n",
              "    0% {\n",
              "      border-color: transparent;\n",
              "      border-bottom-color: var(--fill-color);\n",
              "      border-left-color: var(--fill-color);\n",
              "    }\n",
              "    20% {\n",
              "      border-color: transparent;\n",
              "      border-left-color: var(--fill-color);\n",
              "      border-top-color: var(--fill-color);\n",
              "    }\n",
              "    30% {\n",
              "      border-color: transparent;\n",
              "      border-left-color: var(--fill-color);\n",
              "      border-top-color: var(--fill-color);\n",
              "      border-right-color: var(--fill-color);\n",
              "    }\n",
              "    40% {\n",
              "      border-color: transparent;\n",
              "      border-right-color: var(--fill-color);\n",
              "      border-top-color: var(--fill-color);\n",
              "    }\n",
              "    60% {\n",
              "      border-color: transparent;\n",
              "      border-right-color: var(--fill-color);\n",
              "    }\n",
              "    80% {\n",
              "      border-color: transparent;\n",
              "      border-right-color: var(--fill-color);\n",
              "      border-bottom-color: var(--fill-color);\n",
              "    }\n",
              "    90% {\n",
              "      border-color: transparent;\n",
              "      border-bottom-color: var(--fill-color);\n",
              "    }\n",
              "  }\n",
              "</style>\n",
              "\n",
              "  <script>\n",
              "    async function quickchart(key) {\n",
              "      const quickchartButtonEl =\n",
              "        document.querySelector('#' + key + ' button');\n",
              "      quickchartButtonEl.disabled = true;  // To prevent multiple clicks.\n",
              "      quickchartButtonEl.classList.add('colab-df-spinner');\n",
              "      try {\n",
              "        const charts = await google.colab.kernel.invokeFunction(\n",
              "            'suggestCharts', [key], {});\n",
              "      } catch (error) {\n",
              "        console.error('Error during call to suggestCharts:', error);\n",
              "      }\n",
              "      quickchartButtonEl.classList.remove('colab-df-spinner');\n",
              "      quickchartButtonEl.classList.add('colab-df-quickchart-complete');\n",
              "    }\n",
              "    (() => {\n",
              "      let quickchartButtonEl =\n",
              "        document.querySelector('#df-14ddd4e4-7146-463c-a88f-a6c295915126 button');\n",
              "      quickchartButtonEl.style.display =\n",
              "        google.colab.kernel.accessAllowed ? 'block' : 'none';\n",
              "    })();\n",
              "  </script>\n",
              "</div>\n",
              "    </div>\n",
              "  </div>\n"
            ]
          },
          "metadata": {},
          "execution_count": 11
        }
      ]
    },
    {
      "cell_type": "markdown",
      "source": [
        "Ahora los datos está listos nuestro dataset esta listo y podemos definir los datos de entrenamiento y los datos de validación."
      ],
      "metadata": {
        "id": "12hyWKm_0NrW"
      }
    },
    {
      "cell_type": "code",
      "source": [
        "X = df.drop(ph, axis=1)\n",
        "\n",
        "scaler = MinMaxScaler()\n",
        "\n",
        "X = scaler.fit_transform(X)\n",
        "y = scaler.fit_transform(df[ph].values.reshape(-1, 1)).flatten()\n",
        "\n",
        "X_train, X_test, y_train, y_test = train_test_split(X, y, test_size=0.2, random_state=42)"
      ],
      "metadata": {
        "id": "aTNjN3xC8rk0"
      },
      "execution_count": 33,
      "outputs": []
    },
    {
      "cell_type": "markdown",
      "source": [
        "# 2. Definición del algoritmo evolutivo"
      ],
      "metadata": {
        "id": "VB4TUgCO0c3-"
      }
    },
    {
      "cell_type": "markdown",
      "source": [
        "Los hiperparámetros que vamos a evolucionar (listados respecto a la posición del gen que los representa dentro del genotipo) serán:\n",
        "\n",
        "\n",
        "*  hidden_layer_sizes\n",
        "*  activation\n",
        "*  solver\n",
        "*  alpha\n",
        "*  learning_rate\n",
        "*  max_iter\n"
      ],
      "metadata": {
        "id": "lNMdzJlP0v2K"
      }
    },
    {
      "cell_type": "code",
      "source": [
        "opciones_genes = {\n",
        "  'hidden_layer_sizes': [(128, 64, 32), (64, 32), (32)],\n",
        "  'activation': ['identity', 'logistic', 'tanh', 'relu'],\n",
        "  'solver': ['lbfgs', 'sgd', 'adam'],\n",
        "  'alpha': (0.0001, 0.1),\n",
        "  'learning_rate': ['constant', 'invscaling', 'adaptive'],\n",
        "  'max_iter': (50, 250)\n",
        "}"
      ],
      "metadata": {
        "id": "Z_uudSdP0s9M"
      },
      "execution_count": 34,
      "outputs": []
    },
    {
      "cell_type": "markdown",
      "source": [
        "Definición de las caracetísticas del individuo\n"
      ],
      "metadata": {
        "id": "61iv7GNE3M3h"
      }
    },
    {
      "cell_type": "code",
      "source": [
        "def crear_gen(hiper_parametro, valores):\n",
        "  if isinstance(valores, tuple):\n",
        "    inicio, fin = valores\n",
        "    if isinstance(inicio, float) or isinstance(fin, float):\n",
        "      return random.uniform(inicio, fin)\n",
        "    if isinstance(inicio, int) or isinstance(fin, int):\n",
        "      return random.randint(inicio, fin)\n",
        "  if isinstance(valores, list):\n",
        "    return random.randint(0, len(valores) - 1)\n",
        "\n",
        "def crear_individuo():\n",
        "    return [crear_gen(hiper_parametro, valores) for [hiper_parametro, valores] in opciones_genes.items()]\n",
        "\n",
        "creator.create(\"FitnessMin\", base.Fitness, weights=(-1.0,))\n",
        "creator.create(\"Individual\", list, fitness=creator.FitnessMin)\n",
        "\n",
        "toolbox = base.Toolbox()\n",
        "\n",
        "toolbox.register(\"individual\", tools.initIterate, creator.Individual, crear_individuo)\n",
        "toolbox.register(\"population\", tools.initRepeat, list, toolbox.individual)\n",
        "\n",
        "ind = toolbox.individual()"
      ],
      "metadata": {
        "colab": {
          "base_uri": "https://localhost:8080/"
        },
        "id": "Pl5jSn4M3Lic",
        "outputId": "1e77eee9-1412-4d26-dc74-cfdd87ba62d7"
      },
      "execution_count": 35,
      "outputs": [
        {
          "output_type": "stream",
          "name": "stderr",
          "text": [
            "/usr/local/lib/python3.10/dist-packages/deap/creator.py:185: RuntimeWarning: A class named 'FitnessMin' has already been created and it will be overwritten. Consider deleting previous creation of that class or rename it.\n",
            "  warnings.warn(\"A class named '{0}' has already been created and it \"\n",
            "/usr/local/lib/python3.10/dist-packages/deap/creator.py:185: RuntimeWarning: A class named 'Individual' has already been created and it will be overwritten. Consider deleting previous creation of that class or rename it.\n",
            "  warnings.warn(\"A class named '{0}' has already been created and it \"\n"
          ]
        }
      ]
    },
    {
      "cell_type": "code",
      "source": [
        "ind"
      ],
      "metadata": {
        "colab": {
          "base_uri": "https://localhost:8080/"
        },
        "id": "iehztxEa6vFB",
        "outputId": "c7602130-3b16-4c22-dbbc-1099364aa0ee"
      },
      "execution_count": 24,
      "outputs": [
        {
          "output_type": "execute_result",
          "data": {
            "text/plain": [
              "[1, 3, 0, 0.09815506901265555, 0, 237]"
            ]
          },
          "metadata": {},
          "execution_count": 24
        }
      ]
    },
    {
      "cell_type": "markdown",
      "source": [
        "Definiremos una función que nos ayude a pasar de la codificación del genotipo a los valores que en realidad necesitamos"
      ],
      "metadata": {
        "id": "9xKMEKaKCR6z"
      }
    },
    {
      "cell_type": "code",
      "source": [
        "def from_ind_to_hiper_param(ind):\n",
        "    hiper_parametros = {}\n",
        "    for index, [hiper_parametro, valor] in enumerate(opciones_genes.items()):\n",
        "      gen = ind[index]\n",
        "      if isinstance(opciones_genes[hiper_parametro], tuple):\n",
        "        hiper_parametros[hiper_parametro] = gen\n",
        "        continue\n",
        "      hiper_parametros[hiper_parametro] = opciones_genes[hiper_parametro][gen]\n",
        "    return hiper_parametros"
      ],
      "metadata": {
        "id": "5ZXk6M6iCdPf"
      },
      "execution_count": 36,
      "outputs": []
    },
    {
      "cell_type": "markdown",
      "source": [
        "# Definición de la evaluación de aptitud\n",
        "\n",
        "Para esto se llevará a cabo el entramiento de un MLP con los hiperparámetros definidos por el individuo."
      ],
      "metadata": {
        "id": "aEYQjnR6691i"
      }
    },
    {
      "cell_type": "code",
      "source": [
        "def fitness(ind):\n",
        "  hiper_parametros = from_ind_to_hiper_param(ind)\n",
        "  modelo = MLPRegressor(random_state=42, verbose=False, **hiper_parametros)\n",
        "  modelo.fit(X_train, y_train)\n",
        "  y_pred = modelo.predict(X_test)\n",
        "  mse = mean_squared_error(y_test, y_pred)\n",
        "  return mse,"
      ],
      "metadata": {
        "id": "hVftA4Xc7Aec"
      },
      "execution_count": 37,
      "outputs": []
    },
    {
      "cell_type": "markdown",
      "source": [
        "# Definición de la evolución"
      ],
      "metadata": {
        "id": "zZtnYwdS_8bf"
      }
    },
    {
      "cell_type": "code",
      "source": [
        "generaciones = 30\n",
        "tamaño_poblacion = 10\n",
        "longitud_cromosoma = 5\n",
        "tamaño_torneo = 3\n",
        "poblacion = []\n",
        "\n",
        "\n",
        "toolbox.register(\"evaluate\", fitness)\n",
        "toolbox.register(\"mate\", tools.cxTwoPoint)\n",
        "toolbox.register(\"mutate\", tools.mutFlipBit, indpb=0.05)\n",
        "toolbox.register(\"select\", tools.selTournament, tournsize=tamaño_torneo)\n",
        "\n",
        "stats = tools.Statistics(key=lambda ind: ind.fitness.values)\n",
        "stats.register(\"avg\", np.mean)"
      ],
      "metadata": {
        "id": "GFTCUmsCAA9d"
      },
      "execution_count": 38,
      "outputs": []
    },
    {
      "cell_type": "markdown",
      "source": [
        "# Ejecución de la evolución"
      ],
      "metadata": {
        "id": "WG768BBQAWa_"
      }
    },
    {
      "cell_type": "code",
      "source": [
        "random.seed(64)\n",
        "\n",
        "pop = toolbox.population(n=tamaño_poblacion)\n",
        "hof = tools.HallOfFame(1)\n",
        "\n",
        "pop, log = algorithms.eaSimple(pop, toolbox, cxpb=0.5, mutpb=0.2, ngen=40, halloffame=hof, verbose=True, stats=stats)\n",
        "\n",
        "ganador = tools.selBest(pop, k=1)[0]"
      ],
      "metadata": {
        "colab": {
          "base_uri": "https://localhost:8080/"
        },
        "id": "-500YycAAZaW",
        "outputId": "56f1a1fb-641d-4e75-c7a1-e4971faf7e56"
      },
      "execution_count": 39,
      "outputs": [
        {
          "output_type": "stream",
          "name": "stdout",
          "text": [
            "gen\tnevals\tavg       \n",
            "0  \t10    \t0.00174905\n",
            "1  \t6     \t0.00156668\n",
            "2  \t6     \t0.0015542 \n",
            "3  \t8     \t0.00154502\n",
            "4  \t7     \t0.00153448\n",
            "5  \t8     \t0.00153393\n",
            "6  \t7     \t0.00153393\n",
            "7  \t5     \t0.00153393\n",
            "8  \t8     \t0.00153867\n",
            "9  \t6     \t0.00153393\n",
            "10 \t7     \t0.00153393\n",
            "11 \t7     \t0.00153393\n",
            "12 \t3     \t0.00153868\n",
            "13 \t3     \t0.00153393\n",
            "14 \t4     \t0.00153393\n",
            "15 \t4     \t0.00153393\n",
            "16 \t6     \t0.00153393\n",
            "17 \t5     \t0.00153448\n",
            "18 \t6     \t0.00153393\n",
            "19 \t7     \t0.00153393\n",
            "20 \t3     \t0.00153393\n",
            "21 \t9     \t0.00153393\n",
            "22 \t8     \t0.00153393\n",
            "23 \t9     \t0.00212078\n",
            "24 \t2     \t0.00153393\n",
            "25 \t4     \t0.00153393\n",
            "26 \t4     \t0.00153393\n",
            "27 \t2     \t0.00153393\n",
            "28 \t6     \t0.00153393\n",
            "29 \t5     \t0.00212553\n",
            "30 \t3     \t0.00212078\n",
            "31 \t7     \t0.00153393\n",
            "32 \t6     \t0.00153393\n",
            "33 \t6     \t0.00153868\n",
            "34 \t6     \t0.00153393\n",
            "35 \t10    \t0.00212078\n",
            "36 \t6     \t0.00153393\n",
            "37 \t2     \t0.00153393\n",
            "38 \t3     \t0.00272853\n",
            "39 \t6     \t0.00153393\n",
            "40 \t6     \t0.00153393\n"
          ]
        }
      ]
    },
    {
      "cell_type": "code",
      "source": [
        "ganador"
      ],
      "metadata": {
        "colab": {
          "base_uri": "https://localhost:8080/"
        },
        "id": "kaUt-wlzCLtB",
        "outputId": "565a81ae-f430-4a25-d3f5-56e35e92ed34"
      },
      "execution_count": 41,
      "outputs": [
        {
          "output_type": "execute_result",
          "data": {
            "text/plain": [
              "[2, 0, 0, 0.04035325967951515, 0, 66]"
            ]
          },
          "metadata": {},
          "execution_count": 41
        }
      ]
    },
    {
      "cell_type": "code",
      "source": [
        "ganador = from_ind_to_hiper_param(ind)"
      ],
      "metadata": {
        "id": "7pOa9Q5vCQMR"
      },
      "execution_count": 42,
      "outputs": []
    },
    {
      "cell_type": "markdown",
      "source": [
        "Imprimimos el individuo ganador"
      ],
      "metadata": {
        "id": "ihEatuXod2sU"
      }
    },
    {
      "cell_type": "code",
      "source": [
        "ganador"
      ],
      "metadata": {
        "colab": {
          "base_uri": "https://localhost:8080/"
        },
        "id": "wk2cEjgqCy7H",
        "outputId": "b5cff524-2fac-4098-d93c-2277e6c3706c"
      },
      "execution_count": 43,
      "outputs": [
        {
          "output_type": "execute_result",
          "data": {
            "text/plain": [
              "{'hidden_layer_sizes': (64, 32),\n",
              " 'activation': 'tanh',\n",
              " 'solver': 'lbfgs',\n",
              " 'alpha': 0.02054117703400117,\n",
              " 'learning_rate': 'constant',\n",
              " 'max_iter': 136}"
            ]
          },
          "metadata": {},
          "execution_count": 43
        }
      ]
    },
    {
      "cell_type": "markdown",
      "source": [
        "# 3. Creación del modelo\n",
        "\n",
        "\n",
        "> Se crea el modelo final utilizado al individuo ganador\n",
        "\n"
      ],
      "metadata": {
        "id": "_0eqDwbheAJ9"
      }
    },
    {
      "cell_type": "code",
      "source": [
        "modelo = MLPRegressor(random_state=42, verbose=True, **ganador)\n",
        "modelo.fit(X_train, y_train)"
      ],
      "metadata": {
        "id": "CTlbEvifeHt8",
        "outputId": "d5a5017a-82f1-452c-c975-6868014c7b76",
        "colab": {
          "base_uri": "https://localhost:8080/",
          "height": 109
        }
      },
      "execution_count": 45,
      "outputs": [
        {
          "output_type": "execute_result",
          "data": {
            "text/plain": [
              "MLPRegressor(activation='tanh', alpha=0.02054117703400117,\n",
              "             hidden_layer_sizes=(64, 32), max_iter=136, random_state=42,\n",
              "             solver='lbfgs', verbose=True)"
            ],
            "text/html": [
              "<style>#sk-container-id-1 {color: black;background-color: white;}#sk-container-id-1 pre{padding: 0;}#sk-container-id-1 div.sk-toggleable {background-color: white;}#sk-container-id-1 label.sk-toggleable__label {cursor: pointer;display: block;width: 100%;margin-bottom: 0;padding: 0.3em;box-sizing: border-box;text-align: center;}#sk-container-id-1 label.sk-toggleable__label-arrow:before {content: \"▸\";float: left;margin-right: 0.25em;color: #696969;}#sk-container-id-1 label.sk-toggleable__label-arrow:hover:before {color: black;}#sk-container-id-1 div.sk-estimator:hover label.sk-toggleable__label-arrow:before {color: black;}#sk-container-id-1 div.sk-toggleable__content {max-height: 0;max-width: 0;overflow: hidden;text-align: left;background-color: #f0f8ff;}#sk-container-id-1 div.sk-toggleable__content pre {margin: 0.2em;color: black;border-radius: 0.25em;background-color: #f0f8ff;}#sk-container-id-1 input.sk-toggleable__control:checked~div.sk-toggleable__content {max-height: 200px;max-width: 100%;overflow: auto;}#sk-container-id-1 input.sk-toggleable__control:checked~label.sk-toggleable__label-arrow:before {content: \"▾\";}#sk-container-id-1 div.sk-estimator input.sk-toggleable__control:checked~label.sk-toggleable__label {background-color: #d4ebff;}#sk-container-id-1 div.sk-label input.sk-toggleable__control:checked~label.sk-toggleable__label {background-color: #d4ebff;}#sk-container-id-1 input.sk-hidden--visually {border: 0;clip: rect(1px 1px 1px 1px);clip: rect(1px, 1px, 1px, 1px);height: 1px;margin: -1px;overflow: hidden;padding: 0;position: absolute;width: 1px;}#sk-container-id-1 div.sk-estimator {font-family: monospace;background-color: #f0f8ff;border: 1px dotted black;border-radius: 0.25em;box-sizing: border-box;margin-bottom: 0.5em;}#sk-container-id-1 div.sk-estimator:hover {background-color: #d4ebff;}#sk-container-id-1 div.sk-parallel-item::after {content: \"\";width: 100%;border-bottom: 1px solid gray;flex-grow: 1;}#sk-container-id-1 div.sk-label:hover label.sk-toggleable__label {background-color: #d4ebff;}#sk-container-id-1 div.sk-serial::before {content: \"\";position: absolute;border-left: 1px solid gray;box-sizing: border-box;top: 0;bottom: 0;left: 50%;z-index: 0;}#sk-container-id-1 div.sk-serial {display: flex;flex-direction: column;align-items: center;background-color: white;padding-right: 0.2em;padding-left: 0.2em;position: relative;}#sk-container-id-1 div.sk-item {position: relative;z-index: 1;}#sk-container-id-1 div.sk-parallel {display: flex;align-items: stretch;justify-content: center;background-color: white;position: relative;}#sk-container-id-1 div.sk-item::before, #sk-container-id-1 div.sk-parallel-item::before {content: \"\";position: absolute;border-left: 1px solid gray;box-sizing: border-box;top: 0;bottom: 0;left: 50%;z-index: -1;}#sk-container-id-1 div.sk-parallel-item {display: flex;flex-direction: column;z-index: 1;position: relative;background-color: white;}#sk-container-id-1 div.sk-parallel-item:first-child::after {align-self: flex-end;width: 50%;}#sk-container-id-1 div.sk-parallel-item:last-child::after {align-self: flex-start;width: 50%;}#sk-container-id-1 div.sk-parallel-item:only-child::after {width: 0;}#sk-container-id-1 div.sk-dashed-wrapped {border: 1px dashed gray;margin: 0 0.4em 0.5em 0.4em;box-sizing: border-box;padding-bottom: 0.4em;background-color: white;}#sk-container-id-1 div.sk-label label {font-family: monospace;font-weight: bold;display: inline-block;line-height: 1.2em;}#sk-container-id-1 div.sk-label-container {text-align: center;}#sk-container-id-1 div.sk-container {/* jupyter's `normalize.less` sets `[hidden] { display: none; }` but bootstrap.min.css set `[hidden] { display: none !important; }` so we also need the `!important` here to be able to override the default hidden behavior on the sphinx rendered scikit-learn.org. See: https://github.com/scikit-learn/scikit-learn/issues/21755 */display: inline-block !important;position: relative;}#sk-container-id-1 div.sk-text-repr-fallback {display: none;}</style><div id=\"sk-container-id-1\" class=\"sk-top-container\"><div class=\"sk-text-repr-fallback\"><pre>MLPRegressor(activation=&#x27;tanh&#x27;, alpha=0.02054117703400117,\n",
              "             hidden_layer_sizes=(64, 32), max_iter=136, random_state=42,\n",
              "             solver=&#x27;lbfgs&#x27;, verbose=True)</pre><b>In a Jupyter environment, please rerun this cell to show the HTML representation or trust the notebook. <br />On GitHub, the HTML representation is unable to render, please try loading this page with nbviewer.org.</b></div><div class=\"sk-container\" hidden><div class=\"sk-item\"><div class=\"sk-estimator sk-toggleable\"><input class=\"sk-toggleable__control sk-hidden--visually\" id=\"sk-estimator-id-1\" type=\"checkbox\" checked><label for=\"sk-estimator-id-1\" class=\"sk-toggleable__label sk-toggleable__label-arrow\">MLPRegressor</label><div class=\"sk-toggleable__content\"><pre>MLPRegressor(activation=&#x27;tanh&#x27;, alpha=0.02054117703400117,\n",
              "             hidden_layer_sizes=(64, 32), max_iter=136, random_state=42,\n",
              "             solver=&#x27;lbfgs&#x27;, verbose=True)</pre></div></div></div></div></div>"
            ]
          },
          "metadata": {},
          "execution_count": 45
        }
      ]
    },
    {
      "cell_type": "markdown",
      "source": [
        "# 4. Evaluación del modelo"
      ],
      "metadata": {
        "id": "fVLD3He5eeym"
      }
    },
    {
      "cell_type": "markdown",
      "source": [
        "Imprimimos el MSE del modelo"
      ],
      "metadata": {
        "id": "IpIcUr3XeZKq"
      }
    },
    {
      "cell_type": "code",
      "source": [
        "y_pred = modelo.predict(X_test)\n",
        "mse = mean_squared_error(y_test, y_pred)"
      ],
      "metadata": {
        "id": "qt8MwVkGeWB6"
      },
      "execution_count": 46,
      "outputs": []
    },
    {
      "cell_type": "code",
      "source": [
        "mse"
      ],
      "metadata": {
        "id": "-r2GQoWWklTy",
        "outputId": "40e4d065-9dcf-4f54-d21d-5e159b5f9a2d",
        "colab": {
          "base_uri": "https://localhost:8080/"
        }
      },
      "execution_count": 47,
      "outputs": [
        {
          "output_type": "execute_result",
          "data": {
            "text/plain": [
              "0.0016635741656423693"
            ]
          },
          "metadata": {},
          "execution_count": 47
        }
      ]
    },
    {
      "cell_type": "markdown",
      "source": [
        "Graficamos las predicciones de prueba contra los datos reales\n"
      ],
      "metadata": {
        "id": "zNoCg8VCkm15"
      }
    },
    {
      "cell_type": "code",
      "source": [
        "y_pred = scaler.inverse_transform(y_pred.reshape(-1, 1)).flatten()\n",
        "y_test = scaler.inverse_transform(y_test.reshape(-1, 1)).flatten()\n",
        "\n",
        "total_puntos = 50\n",
        "\n",
        "x = range(0, total_puntos)\n",
        "y = y_test[0 : total_puntos]\n",
        "\n",
        "plt.plot(x, y, label='Real')\n",
        "\n",
        "y = y_pred[0 : total_puntos]\n",
        "\n",
        "plt.plot(x, y, label='Predicción')\n",
        "plt.xlabel('índice del registro')\n",
        "plt.ylabel('PH del agua')\n",
        "plt.title('Gráfica comparativa entre las predicciones con los datos reales')\n",
        "plt.legend()\n",
        "plt.grid(True)\n",
        "plt.show()"
      ],
      "metadata": {
        "id": "sAylcIoKktLM",
        "outputId": "039194d5-723a-4c19-da71-640a750a225d",
        "colab": {
          "base_uri": "https://localhost:8080/",
          "height": 473
        }
      },
      "execution_count": 61,
      "outputs": [
        {
          "output_type": "display_data",
          "data": {
            "text/plain": [
              "<Figure size 640x480 with 1 Axes>"
            ],
            "image/png": "[encoded data removed]"
          },
          "metadata": {}
        }
      ]
    }
  ],
  "metadata": {
    "language_info": {
      "name": "python"
    },
    "orig_nbformat": 4,
    "colab": {
      "provenance": []
    },
    "kernelspec": {
      "name": "python3",
      "display_name": "Python 3"
    }
  },
  "nbformat": 4,
  "nbformat_minor": 0
}