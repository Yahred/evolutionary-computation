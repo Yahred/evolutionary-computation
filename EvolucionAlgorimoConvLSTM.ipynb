{
  "cells": [
    {
      "cell_type": "markdown",
      "metadata": {
        "id": "view-in-github",
        "colab_type": "text"
      },
      "source": [
        "<a href=\"https://colab.research.google.com/github/Yahred/evolutionary-computation/blob/main/EvolucionAlgorimoConvLSTM.ipynb\" target=\"_parent\"><img src=\"https://colab.research.google.com/assets/colab-badge.svg\" alt=\"Open In Colab\"/></a>"
      ]
    },
    {
      "cell_type": "code",
      "execution_count": null,
      "metadata": {
        "id": "qBAOAz4QeY6T"
      },
      "outputs": [],
      "source": [
        "%pip freeze > requirements.txt"
      ]
    },
    {
      "cell_type": "markdown",
      "metadata": {
        "id": "wj2mN70-ao4t"
      },
      "source": [
        "## Variables"
      ]
    },
    {
      "cell_type": "markdown",
      "metadata": {
        "id": "0ZAa8q8JFPbc"
      },
      "source": [
        "* Número de filtros en las capas ConvLSTM2D:\n",
        "\n",
        "Para la primera y segunda capa: 16 (puede ser cualquier entero positivo).\n",
        "Para la tercera capa: también 16 (puede ser cualquier entero positivo).\n",
        "\n",
        "* Tamaño del kernel en las capas ConvLSTM2D:\n",
        "\n",
        "Para la primera y segunda capa: (5,5) (puede ser cualquier par de enteros positivos).\n",
        "Para la tercera capa: (3,3) (puede ser cualquier par de enteros positivos).\n",
        "* Activación en las capas ConvLSTM2D y Conv2D:\n",
        "\n",
        "relu para las capas ConvLSTM2D.\n",
        "sigmoid para la capa Conv2D.\n",
        "Podrían ser 'tanh', 'softmax', etc.\n",
        "* Número de canales (channels) en la capa Conv2D:\n",
        "\n",
        "Depende de tu tarea específica (por ejemplo, 1 para la segmentación binaria, 3 para imágenes RGB).\n",
        "* Función de pérdida al compilar el modelo:\n",
        "\n",
        "binary_crossentropy en este ejemplo.\n",
        "Podrías elegir 'categorical_crossentropy', 'mean_squared_error', etc.\n",
        "* Optimizador al compilar el modelo:\n",
        "\n",
        "Adam en este ejemplo.\n",
        "Podrías elegir 'SGD', 'RMSprop', etc., y también sus hiperparámetros asociados.\n",
        "* patience para EarlyStopping:\n",
        "\n",
        "6 en este ejemplo.\n",
        "Puede ser cualquier entero positivo.\n",
        "* restore_best_weights para EarlyStopping:\n",
        "\n",
        "True en este ejemplo.\n",
        "Puede ser True o False.\n",
        "* patience para ReduceLROnPlateau:\n",
        "\n",
        "4 en este ejemplo.\n",
        "Puede ser cualquier entero positivo.\n",
        "* Epochs:\n",
        "\n",
        "20 en este ejemplo.\n",
        "Puede ser cualquier entero positivo.\n",
        "* Batch size:\n",
        "\n",
        "1 en este ejemplo.\n",
        "Puede ser cualquier entero positivo."
      ]
    },
    {
      "cell_type": "markdown",
      "metadata": {
        "id": "Fuwvf9ZQbBqN"
      },
      "source": [
        "## Librerias y cargar dataset"
      ]
    },
    {
      "cell_type": "code",
      "execution_count": 2,
      "metadata": {
        "id": "hq2EqjYM2kcz"
      },
      "outputs": [],
      "source": [
        "import os\n",
        "import cv2\n",
        "import zipfile\n",
        "import requests\n",
        "import zipfile\n",
        "import io\n",
        "import random\n",
        "\n",
        "import numpy as np\n",
        "import matplotlib.pyplot as plt\n",
        "import tensorflow as tf\n",
        "\n",
        "from tensorflow import keras\n",
        "from tensorflow.keras.layers import ConvLSTM2D, BatchNormalization, Input, Conv2D\n",
        "from PIL import Image\n",
        "from google.colab import files\n",
        "from urllib.request import urlopen\n",
        "from IPython.display import display, HTML"
      ]
    },
    {
      "cell_type": "markdown",
      "source": [
        "Se descarga el dataset por medio de una petición HTTP y se extrae\n"
      ],
      "metadata": {
        "id": "FJncZlbIx_kx"
      }
    },
    {
      "cell_type": "code",
      "source": [
        "url = 'https://github.com/Yahred/evolutionary-computation/raw/main/data/DroughtDatasetMask.zip'\n",
        "response = requests.get(url)\n",
        "data = None\n",
        "\n",
        "if response.status_code != 200:\n",
        "  display(HTML((response.text)))\n",
        "else:\n",
        "  zip_file = io.BytesIO(response.content)\n",
        "  data = zipfile.ZipFile(zip_file, 'r')\n",
        "  data.extractall()"
      ],
      "metadata": {
        "id": "YRX-mfgJugHt"
      },
      "execution_count": 3,
      "outputs": []
    },
    {
      "cell_type": "markdown",
      "metadata": {
        "id": "YNr4xFjnGHRJ"
      },
      "source": [
        "## Funciones"
      ]
    },
    {
      "cell_type": "code",
      "execution_count": 25,
      "metadata": {
        "id": "4EBDpQpZGTpv"
      },
      "outputs": [],
      "source": [
        "def create_shifted_frames_2(data):\n",
        "    x = data[:, 0 : data.shape[1] - 1, :, :]\n",
        "    y = data[:, data.shape[1]-1, :, :]\n",
        "    return x, y"
      ]
    },
    {
      "cell_type": "code",
      "execution_count": 26,
      "metadata": {
        "id": "s3_pJVteGUFU"
      },
      "outputs": [],
      "source": [
        "#Toma todos los colores existentes en la imagen\n",
        "def get_colors(image):\n",
        "  aux = []\n",
        "  band = True\n",
        "  for i in image:\n",
        "    for j in i:\n",
        "\n",
        "      for k in aux:\n",
        "        if j.tolist() == k:\n",
        "          band = False\n",
        "          break\n",
        "      if band:\n",
        "        aux.append(j.tolist())\n",
        "      band = True\n",
        "  return np.array(aux)"
      ]
    },
    {
      "cell_type": "code",
      "execution_count": 27,
      "metadata": {
        "id": "j1G3jCDrGWN7"
      },
      "outputs": [],
      "source": [
        "def balance_img_categories(img, palette, balancer):\n",
        "  #palette = np.sort(palette)\n",
        "  rows = len(img)\n",
        "  cols = len(img[0])\n",
        "  for i in range(rows):\n",
        "    for j in range(cols):\n",
        "      pos = np.where(palette == img[i,j])[0][0]\n",
        "      img[i,j] = balancer[pos]\n",
        "  return img"
      ]
    },
    {
      "cell_type": "code",
      "execution_count": 28,
      "metadata": {
        "id": "MIROb6RBGZML"
      },
      "outputs": [],
      "source": [
        "#Función para dada una paleta solo tomar los colores de esa paleta en la imagen\n",
        "def quantizetopalette(silf, palette, dither=False, mode=\"P\"):\n",
        "  \"\"\"Convert an RGB or L mode image to use a given P image's palette.\"\"\"\n",
        "  silf.load()\n",
        "  palette.load()\n",
        "  im = silf.im.convert(mode, 0, palette.im)\n",
        "  # the 0 above means turn OFF dithering making solid colors\n",
        "  return silf._new(im)"
      ]
    },
    {
      "cell_type": "code",
      "execution_count": 29,
      "metadata": {
        "id": "hcM1PYj9Ga99"
      },
      "outputs": [],
      "source": [
        "#Realiza las operaciones necesarias para obtener una imagen RGB por una paleta de colores\n",
        "def rgb_quantized(img, palette):\n",
        "  rows, cols = len(img), len(img[0])\n",
        "  total_vals = 1\n",
        "  for i in palette.shape:\n",
        "    total_vals *= i\n",
        "  palettedata = palette.reshape(total_vals).tolist()\n",
        "  palImage = Image.new('P', (rows, cols))\n",
        "  palImage.putpalette(palettedata*32)\n",
        "  oldImage = Image.fromarray(img).convert(\"RGB\")\n",
        "  newImage = quantizetopalette(oldImage,palImage)\n",
        "  res_image = np.asarray(newImage.convert(\"RGB\"))\n",
        "  return res_image"
      ]
    },
    {
      "cell_type": "code",
      "execution_count": 30,
      "metadata": {
        "id": "a3jqk96wGcX1"
      },
      "outputs": [],
      "source": [
        "def gray_quantized(img, palette):\n",
        "  rows, cols = len(img), len(img[0])\n",
        "  total_vals = 1\n",
        "  for i in palette.shape:\n",
        "    total_vals *= i\n",
        "  palettedata = palette.reshape(total_vals).tolist()\n",
        "  palImage = Image.new('L', (rows, cols))\n",
        "  palImage.putpalette(palettedata*32)\n",
        "  oldImage = Image.fromarray(img, 'L')\n",
        "  newImage = quantizetopalette(oldImage,palImage, mode=\"L\")\n",
        "  res_image = np.asarray(newImage)\n",
        "  return res_image"
      ]
    },
    {
      "cell_type": "code",
      "execution_count": 31,
      "metadata": {
        "id": "p1y6vWRJGdlb"
      },
      "outputs": [],
      "source": [
        "def recolor_greys_image(data, palette):\n",
        "    rows, cols = len(data), len(data[0])\n",
        "    aux = np.zeros((rows, cols), dtype=np.uint64)\n",
        "    for i in range(rows):\n",
        "        for j in range(cols):\n",
        "            aux[i,j] = min(palette, key= lambda x:abs(x-data[i,j]))\n",
        "    return aux"
      ]
    },
    {
      "cell_type": "code",
      "execution_count": 32,
      "metadata": {
        "id": "ec1Q5aXoGetT"
      },
      "outputs": [],
      "source": [
        "def agroup_window(data, window):\n",
        "    new_data = [data[i:window+i] for i in range(len(data)-window+1)]\n",
        "    return np.array(new_data)"
      ]
    },
    {
      "cell_type": "code",
      "execution_count": 33,
      "metadata": {
        "id": "J21867-jGgAL"
      },
      "outputs": [],
      "source": [
        "def add_last(data, new_vals):\n",
        "    print(f\"data: {data.shape} y new_val: {new_vals.shape}\")\n",
        "    x_test_new = data[:,1:]\n",
        "    print(f\"x_test_new: {x_test_new.shape}\")\n",
        "\n",
        "    l = []\n",
        "    for i in range(len(x_test_new)):\n",
        "        l.append(np.append(x_test_new[i], new_vals[i]))\n",
        "    x_test_new = np.array(l).reshape(data.shape[:])\n",
        "    print(\"CX\", x_test_new.shape)\n",
        "    return x_test_new"
      ]
    },
    {
      "cell_type": "code",
      "execution_count": 34,
      "metadata": {
        "id": "1ZaQ_edXGhMr"
      },
      "outputs": [],
      "source": [
        "def add_lastNew(data, new_val):\n",
        "    print(f\"data: {data.shape} y new_val: {new_val.shape}\")\n",
        "    x_test_new = data[:,1:,...]  # Omite el primer paso de tiempo\n",
        "    print(f\"x_test_new: {x_test_new.shape}\")\n",
        "\n",
        "    # Asumiendo que new_val es una única predicción que se debe añadir a cada paso de tiempo en x_test_new\n",
        "    new_val = new_val.squeeze(axis=0)  # Elimina la dimensión del batch, si es necesario\n",
        "\n",
        "    print(new_val.shape)\n",
        "    # Añadir new_val a cada elemento en x_test_new\n",
        "    x_test_new = np.concatenate((x_test_new, np.expand_dims(new_val, axis=1)), axis=1)\n",
        "\n",
        "    print(\"CX\", x_test_new.shape)\n",
        "    return x_test_new"
      ]
    },
    {
      "cell_type": "code",
      "execution_count": 35,
      "metadata": {
        "id": "kT9Uc7sgGr1U"
      },
      "outputs": [],
      "source": [
        "#Crea cubos con su propia información de tamaño h\n",
        "def get_cubes(data, h):\n",
        "    new_data = []\n",
        "    for i in range(0, len(data)-h):\n",
        "        new_data.append(data[i:i+h])\n",
        "    new_data = np.array(new_data)\n",
        "    print(new_data.shape)\n",
        "    return new_data"
      ]
    },
    {
      "cell_type": "markdown",
      "metadata": {
        "id": "u_UVAWOyGI5j"
      },
      "source": [
        "## Codigo"
      ]
    },
    {
      "cell_type": "markdown",
      "metadata": {
        "id": "HyDHJvcieY6a"
      },
      "source": [
        "Variables iniciales para correr el codigo"
      ]
    },
    {
      "cell_type": "code",
      "execution_count": 21,
      "metadata": {
        "id": "4jB62x-HG3_k"
      },
      "outputs": [],
      "source": [
        "rows = 122\n",
        "cols = 360\n",
        "channels = 1\n",
        "window = 5\n",
        "categories = [0, 35, 70, 119, 177, 220, 255]\n",
        "horizon = 4"
      ]
    },
    {
      "cell_type": "markdown",
      "metadata": {
        "id": "13Mu2Y0IeY6a"
      },
      "source": [
        "De la carpeta con las imagenes pasarlo a un arreglo npy"
      ]
    },
    {
      "cell_type": "code",
      "execution_count": 22,
      "metadata": {
        "id": "liiMS6fLG7uc",
        "colab": {
          "base_uri": "https://localhost:8080/",
          "height": 35
        },
        "outputId": "d3824f37-cf57-49c2-9b02-2f908fd8075c"
      },
      "outputs": [
        {
          "output_type": "execute_result",
          "data": {
            "text/plain": [
              "'Images shape: (1240, 122, 360)'"
            ],
            "application/vnd.google.colaboratory.intrinsic+json": {
              "type": "string"
            }
          },
          "metadata": {},
          "execution_count": 22
        }
      ],
      "source": [
        "# Set the path to the folder containing the images\n",
        "path = \"./DroughtDatasetMask\"\n",
        "\n",
        "# Get a list of all the image file names in the folder\n",
        "image_files = [f for f in os.listdir(path) if f.endswith('.jpg') or f.endswith('.png')]\n",
        "\n",
        "# Suponiendo que todas las imágenes tienen el tamaño deseado de 122x360\n",
        "num_images = len(image_files)  # Asegúrate de que este número corresponde al número de imágenes que deseas cargar\n",
        "\n",
        "# Verifica que tengas la cantidad correcta de archivos de imagen\n",
        "if len(image_files) != num_images:\n",
        "    raise ValueError(f\"Expected {num_images} images, but found {len(image_files)}\")\n",
        "\n",
        "# Create an empty numpy array to hold the images\n",
        "images = np.zeros((num_images, rows, cols), dtype=np.uint8)  # Asegúrate de que el tipo de datos sea correcto\n",
        "\n",
        "# Loop through the image files and add each image to the numpy array\n",
        "for i, file in enumerate(sorted(image_files)[:num_images]):  # Asegúrate de que no excedas el número de imágenes deseado\n",
        "    # Load the image using OpenCV\n",
        "    img = cv2.imread(os.path.join(path, file), cv2.IMREAD_GRAYSCALE)  # Directamente en escala de grises\n",
        "    if img.shape != (rows, cols):\n",
        "        raise ValueError(f\"The image {file} has a shape of {img.shape}, but expected {(rows, cols)}\")\n",
        "    # Add the image to the numpy array\n",
        "    images[i] = img\n",
        "\n",
        "# Save the numpy array to a file\n",
        "numpy_array_path = './DroughtDatasetMask.npy'\n",
        "np.save(numpy_array_path, images)\n",
        "\n",
        "\"Images shape: {}\".format(images.shape)"
      ]
    },
    {
      "cell_type": "markdown",
      "metadata": {
        "id": "9cJrgJrUeY6b"
      },
      "source": [
        "cargar dataset en formato npy"
      ]
    },
    {
      "cell_type": "code",
      "execution_count": 23,
      "metadata": {
        "id": "5YZjO4H-LUPo",
        "colab": {
          "base_uri": "https://localhost:8080/"
        },
        "outputId": "77db5a3c-c079-45c6-bc40-cba528634479"
      },
      "outputs": [
        {
          "output_type": "stream",
          "name": "stdout",
          "text": [
            "(1240, 122, 360)\n"
          ]
        }
      ],
      "source": [
        "x = np.load(numpy_array_path)\n",
        "print (x.shape)"
      ]
    },
    {
      "cell_type": "code",
      "execution_count": 36,
      "metadata": {
        "id": "sT9hyTyxLav7",
        "colab": {
          "base_uri": "https://localhost:8080/"
        },
        "outputId": "26f84b8e-428c-45eb-8819-974ff3a7d19b"
      },
      "outputs": [
        {
          "output_type": "stream",
          "name": "stdout",
          "text": [
            "Colores [  0 255 223 190 215 172 176 212 226 224 169 194  78  69  83 168 181 222\n",
            " 200 217 177 148 165 213 210 184 218 219  76 139 204 113 198 175 156 133\n",
            " 205 225 216  90  89 162 193 211 117  82 159 154  70  99 174 187 209 214\n",
            " 110  98 126 170 220 189 173 182 178 197  72  71 221 104 206 208 138 203\n",
            " 143 188 161 119 127 150 192 166  68  81  62  52  38  36  48  67  66  34\n",
            "  59  64  57  50  40 180  77 101 201 167 130  60 129 191 195 179  41 202\n",
            " 199  94 111]\n",
            "(1240, 122, 360)\n"
          ]
        }
      ],
      "source": [
        "x = np.array([gray_quantized(i, np.array(categories)) for i in x])\n",
        "colors_greys = get_colors(x[1168])\n",
        "print(f\"Colores {colors_greys}\")\n",
        "print(x.shape)"
      ]
    },
    {
      "cell_type": "code",
      "execution_count": 39,
      "metadata": {
        "id": "AudRJNR_LdPY"
      },
      "outputs": [],
      "source": [
        "# x_greys = np.array([recolor_greys_image(img, categories) for img in x])\n",
        "# x = x_greys.astype('float32') / 255\n",
        "# print(get_colors(x[1168]))\n",
        "# print(x.shape)\n",
        "\n",
        "\n",
        "url = 'https://github.com/Yahred/evolutionary-computation/raw/main/data/x_greys.zip'\n",
        "response = requests.get(url)\n",
        "data = None\n",
        "\n",
        "if response.status_code != 200:\n",
        "  display(HTML((response.text)))\n",
        "else:\n",
        "  zip_file = io.BytesIO(response.content)\n",
        "  data = zipfile.ZipFile(zip_file, 'r')\n",
        "  data.extractall()\n",
        "\n",
        "x_greys = np.load('./x_greys.npy')\n",
        "x = x_greys.astype('float32') / 255"
      ]
    },
    {
      "cell_type": "code",
      "execution_count": 40,
      "metadata": {
        "id": "FcV6EJmELe-R",
        "outputId": "e4713f19-1df3-47ee-d5ba-b8d96948b12b",
        "colab": {
          "base_uri": "https://localhost:8080/",
          "height": 489
        }
      },
      "outputs": [
        {
          "output_type": "stream",
          "name": "stdout",
          "text": [
            "Displaying frames for example 123\n"
          ]
        },
        {
          "output_type": "display_data",
          "data": {
            "text/plain": [
              "<Figure size 1000x800 with 6 Axes>"
            ],
            "image/png": "[encoded data removed]"
          },
          "metadata": {}
        }
      ],
      "source": [
        "#Mostrar imágenes\n",
        "fig, axes = plt.subplots(2, 3, figsize= (10,8))\n",
        "\n",
        "data_choise = np.random.choice(range(len(x)), size= 1)[0]\n",
        "for idx, ax in enumerate(axes.flat):\n",
        "    ax.imshow(np.squeeze(x[data_choise+idx]), cmap='gray')\n",
        "    ax.set_title(f\"Frame {idx + 1}\")\n",
        "    ax.axis(\"off\")\n",
        "print(\"Displaying frames for example {}\".format(data_choise))\n",
        "plt.show()"
      ]
    },
    {
      "cell_type": "code",
      "execution_count": 41,
      "metadata": {
        "id": "IIsnr2RJL01q",
        "outputId": "9c1f5626-8bb0-460f-bbff-0ec0067e9b60",
        "colab": {
          "base_uri": "https://localhost:8080/"
        }
      },
      "outputs": [
        {
          "output_type": "stream",
          "name": "stdout",
          "text": [
            "(1236, 5, 122, 360)\n"
          ]
        }
      ],
      "source": [
        "x_2 = agroup_window(x, window)\n",
        "print(x_2.shape)\n",
        "x_train = x_2[:int(len(x_2)*.7)]\n",
        "x_test = x_2[int(len(x_2)*.7):]\n",
        "x_validation = x_train[int(len(x_train)*.8):]\n",
        "x_train = x_train[:int(len(x_train)*.8)]"
      ]
    },
    {
      "cell_type": "code",
      "execution_count": 42,
      "metadata": {
        "id": "nqZo0aHeL34i",
        "outputId": "36b769b6-995c-48c7-e1c5-0bf81e653ba3",
        "colab": {
          "base_uri": "https://localhost:8080/"
        }
      },
      "outputs": [
        {
          "output_type": "stream",
          "name": "stdout",
          "text": [
            "Forma de datos de entrenamiento: (692, 5, 122, 360, 1)\n",
            "Forma de datos de validación: (173, 5, 122, 360, 1)\n",
            "Forma de datos de pruebas: (371, 5, 122, 360, 1)\n"
          ]
        }
      ],
      "source": [
        "x_train = x_train.reshape(len(x_train), window, rows, cols, channels)\n",
        "x_validation = x_validation.reshape(len(x_validation), window, rows, cols, channels)\n",
        "x_test = x_test.reshape(len(x_test), window, rows, cols, channels)\n",
        "\n",
        "print(\"Forma de datos de entrenamiento: {}\".format(x_train.shape))\n",
        "print(\"Forma de datos de validación: {}\".format(x_validation.shape))\n",
        "print(\"Forma de datos de pruebas: {}\".format(x_test.shape))"
      ]
    },
    {
      "cell_type": "code",
      "execution_count": 43,
      "metadata": {
        "id": "pg2DGMBuL563",
        "outputId": "a7f90ac4-2d9c-46d1-80c4-0d5d3ee923d3",
        "colab": {
          "base_uri": "https://localhost:8080/"
        }
      },
      "outputs": [
        {
          "output_type": "stream",
          "name": "stdout",
          "text": [
            "Training dataset shapes: (692, 4, 122, 360, 1), (692, 122, 360, 1)\n",
            "Validation dataset shapes: (173, 4, 122, 360, 1), (173, 122, 360, 1)\n",
            "Test dataset shapes: (371, 4, 122, 360, 1), (371, 122, 360, 1)\n"
          ]
        }
      ],
      "source": [
        "x_train, y_train = create_shifted_frames_2(x_train)\n",
        "x_validation, y_validation = create_shifted_frames_2(x_validation)\n",
        "x_test, y_test = create_shifted_frames_2(x_test)\n",
        "\n",
        "print(\"Training dataset shapes: {}, {}\".format(x_train.shape, y_train.shape))\n",
        "print(\"Validation dataset shapes: {}, {}\".format(x_validation.shape, y_validation.shape))\n",
        "print(\"Test dataset shapes: {}, {}\".format(x_test.shape, y_test.shape))"
      ]
    },
    {
      "cell_type": "code",
      "execution_count": 44,
      "metadata": {
        "id": "Gxa8P7JwL-zR"
      },
      "outputs": [],
      "source": [
        "np.save(\"/content/x_test_mask.npy\", x_test)\n",
        "np.save(\"/content/y_test_mask.npy\", y_test)"
      ]
    },
    {
      "cell_type": "code",
      "execution_count": 87,
      "metadata": {
        "id": "_OlOYkOv7l-r",
        "outputId": "9aca4872-429e-4b4d-bc03-f6b139fd3a72",
        "colab": {
          "base_uri": "https://localhost:8080/",
          "height": 946
        }
      },
      "outputs": [
        {
          "output_type": "stream",
          "name": "stdout",
          "text": [
            "Model: \"model_7\"\n",
            "_________________________________________________________________\n",
            " Layer (type)                Output Shape              Param #   \n",
            "=================================================================\n",
            " input_17 (InputLayer)       [(None, None, 122, 360,   0         \n",
            "                              1)]                                \n",
            "                                                                 \n",
            " conv_lstm2d_62 (ConvLSTM2D  (None, None, 122, 360,    27264     \n",
            " )                           16)                                 \n",
            "                                                                 \n",
            " batch_normalization_62 (Ba  (None, None, 122, 360,    64        \n",
            " tchNormalization)           16)                                 \n",
            "                                                                 \n",
            " conv_lstm2d_63 (ConvLSTM2D  (None, None, 122, 360,    51264     \n",
            " )                           16)                                 \n",
            "                                                                 \n",
            " batch_normalization_63 (Ba  (None, None, 122, 360,    64        \n",
            " tchNormalization)           16)                                 \n",
            "                                                                 \n",
            " conv_lstm2d_64 (ConvLSTM2D  (None, 122, 360, 16)      18496     \n",
            " )                                                               \n",
            "                                                                 \n",
            " conv2d_10 (Conv2D)          (None, 122, 360, 1)       145       \n",
            "                                                                 \n",
            "=================================================================\n",
            "Total params: 97297 (380.07 KB)\n",
            "Trainable params: 97233 (379.82 KB)\n",
            "Non-trainable params: 64 (256.00 Byte)\n",
            "_________________________________________________________________\n",
            "None\n",
            "Epoch 1/20\n",
            "  1/346 [..............................] - ETA: 2:14:33 - loss: 0.7394"
          ]
        },
        {
          "output_type": "error",
          "ename": "KeyboardInterrupt",
          "evalue": "ignored",
          "traceback": [
            "\u001b[0;31m---------------------------------------------------------------------------\u001b[0m",
            "\u001b[0;31mKeyboardInterrupt\u001b[0m                         Traceback (most recent call last)",
            "\u001b[0;32m<ipython-input-87-4a7e83b576a8>\u001b[0m in \u001b[0;36m<cell line: 21>\u001b[0;34m()\u001b[0m\n\u001b[1;32m     19\u001b[0m \u001b[0mbatch_size\u001b[0m \u001b[0;34m=\u001b[0m \u001b[0;36m2\u001b[0m\u001b[0;34m\u001b[0m\u001b[0;34m\u001b[0m\u001b[0m\n\u001b[1;32m     20\u001b[0m \u001b[0;31m#Model training\u001b[0m\u001b[0;34m\u001b[0m\u001b[0;34m\u001b[0m\u001b[0m\n\u001b[0;32m---> 21\u001b[0;31m model.fit(\n\u001b[0m\u001b[1;32m     22\u001b[0m     \u001b[0mx_train\u001b[0m\u001b[0;34m,\u001b[0m \u001b[0my_train\u001b[0m\u001b[0;34m,\u001b[0m\u001b[0;34m\u001b[0m\u001b[0;34m\u001b[0m\u001b[0m\n\u001b[1;32m     23\u001b[0m     \u001b[0mbatch_size\u001b[0m\u001b[0;34m=\u001b[0m \u001b[0mbatch_size\u001b[0m\u001b[0;34m,\u001b[0m\u001b[0;34m\u001b[0m\u001b[0;34m\u001b[0m\u001b[0m\n",
            "\u001b[0;32m/usr/local/lib/python3.10/dist-packages/keras/src/utils/traceback_utils.py\u001b[0m in \u001b[0;36merror_handler\u001b[0;34m(*args, **kwargs)\u001b[0m\n\u001b[1;32m     63\u001b[0m         \u001b[0mfiltered_tb\u001b[0m \u001b[0;34m=\u001b[0m \u001b[0;32mNone\u001b[0m\u001b[0;34m\u001b[0m\u001b[0;34m\u001b[0m\u001b[0m\n\u001b[1;32m     64\u001b[0m         \u001b[0;32mtry\u001b[0m\u001b[0;34m:\u001b[0m\u001b[0;34m\u001b[0m\u001b[0;34m\u001b[0m\u001b[0m\n\u001b[0;32m---> 65\u001b[0;31m             \u001b[0;32mreturn\u001b[0m \u001b[0mfn\u001b[0m\u001b[0;34m(\u001b[0m\u001b[0;34m*\u001b[0m\u001b[0margs\u001b[0m\u001b[0;34m,\u001b[0m \u001b[0;34m**\u001b[0m\u001b[0mkwargs\u001b[0m\u001b[0;34m)\u001b[0m\u001b[0;34m\u001b[0m\u001b[0;34m\u001b[0m\u001b[0m\n\u001b[0m\u001b[1;32m     66\u001b[0m         \u001b[0;32mexcept\u001b[0m \u001b[0mException\u001b[0m \u001b[0;32mas\u001b[0m \u001b[0me\u001b[0m\u001b[0;34m:\u001b[0m\u001b[0;34m\u001b[0m\u001b[0;34m\u001b[0m\u001b[0m\n\u001b[1;32m     67\u001b[0m             \u001b[0mfiltered_tb\u001b[0m \u001b[0;34m=\u001b[0m \u001b[0m_process_traceback_frames\u001b[0m\u001b[0;34m(\u001b[0m\u001b[0me\u001b[0m\u001b[0;34m.\u001b[0m\u001b[0m__traceback__\u001b[0m\u001b[0;34m)\u001b[0m\u001b[0;34m\u001b[0m\u001b[0;34m\u001b[0m\u001b[0m\n",
            "\u001b[0;32m/usr/local/lib/python3.10/dist-packages/keras/src/engine/training.py\u001b[0m in \u001b[0;36mfit\u001b[0;34m(self, x, y, batch_size, epochs, verbose, callbacks, validation_split, validation_data, shuffle, class_weight, sample_weight, initial_epoch, steps_per_epoch, validation_steps, validation_batch_size, validation_freq, max_queue_size, workers, use_multiprocessing)\u001b[0m\n\u001b[1;32m   1781\u001b[0m                         ):\n\u001b[1;32m   1782\u001b[0m                             \u001b[0mcallbacks\u001b[0m\u001b[0;34m.\u001b[0m\u001b[0mon_train_batch_begin\u001b[0m\u001b[0;34m(\u001b[0m\u001b[0mstep\u001b[0m\u001b[0;34m)\u001b[0m\u001b[0;34m\u001b[0m\u001b[0;34m\u001b[0m\u001b[0m\n\u001b[0;32m-> 1783\u001b[0;31m                             \u001b[0mtmp_logs\u001b[0m \u001b[0;34m=\u001b[0m \u001b[0mself\u001b[0m\u001b[0;34m.\u001b[0m\u001b[0mtrain_function\u001b[0m\u001b[0;34m(\u001b[0m\u001b[0miterator\u001b[0m\u001b[0;34m)\u001b[0m\u001b[0;34m\u001b[0m\u001b[0;34m\u001b[0m\u001b[0m\n\u001b[0m\u001b[1;32m   1784\u001b[0m                             \u001b[0;32mif\u001b[0m \u001b[0mdata_handler\u001b[0m\u001b[0;34m.\u001b[0m\u001b[0mshould_sync\u001b[0m\u001b[0;34m:\u001b[0m\u001b[0;34m\u001b[0m\u001b[0;34m\u001b[0m\u001b[0m\n\u001b[1;32m   1785\u001b[0m                                 \u001b[0mcontext\u001b[0m\u001b[0;34m.\u001b[0m\u001b[0masync_wait\u001b[0m\u001b[0;34m(\u001b[0m\u001b[0;34m)\u001b[0m\u001b[0;34m\u001b[0m\u001b[0;34m\u001b[0m\u001b[0m\n",
            "\u001b[0;32m/usr/local/lib/python3.10/dist-packages/tensorflow/python/util/traceback_utils.py\u001b[0m in \u001b[0;36merror_handler\u001b[0;34m(*args, **kwargs)\u001b[0m\n\u001b[1;32m    148\u001b[0m     \u001b[0mfiltered_tb\u001b[0m \u001b[0;34m=\u001b[0m \u001b[0;32mNone\u001b[0m\u001b[0;34m\u001b[0m\u001b[0;34m\u001b[0m\u001b[0m\n\u001b[1;32m    149\u001b[0m     \u001b[0;32mtry\u001b[0m\u001b[0;34m:\u001b[0m\u001b[0;34m\u001b[0m\u001b[0;34m\u001b[0m\u001b[0m\n\u001b[0;32m--> 150\u001b[0;31m       \u001b[0;32mreturn\u001b[0m \u001b[0mfn\u001b[0m\u001b[0;34m(\u001b[0m\u001b[0;34m*\u001b[0m\u001b[0margs\u001b[0m\u001b[0;34m,\u001b[0m \u001b[0;34m**\u001b[0m\u001b[0mkwargs\u001b[0m\u001b[0;34m)\u001b[0m\u001b[0;34m\u001b[0m\u001b[0;34m\u001b[0m\u001b[0m\n\u001b[0m\u001b[1;32m    151\u001b[0m     \u001b[0;32mexcept\u001b[0m \u001b[0mException\u001b[0m \u001b[0;32mas\u001b[0m \u001b[0me\u001b[0m\u001b[0;34m:\u001b[0m\u001b[0;34m\u001b[0m\u001b[0;34m\u001b[0m\u001b[0m\n\u001b[1;32m    152\u001b[0m       \u001b[0mfiltered_tb\u001b[0m \u001b[0;34m=\u001b[0m \u001b[0m_process_traceback_frames\u001b[0m\u001b[0;34m(\u001b[0m\u001b[0me\u001b[0m\u001b[0;34m.\u001b[0m\u001b[0m__traceback__\u001b[0m\u001b[0;34m)\u001b[0m\u001b[0;34m\u001b[0m\u001b[0;34m\u001b[0m\u001b[0m\n",
            "\u001b[0;32m/usr/local/lib/python3.10/dist-packages/tensorflow/python/eager/polymorphic_function/polymorphic_function.py\u001b[0m in \u001b[0;36m__call__\u001b[0;34m(self, *args, **kwds)\u001b[0m\n\u001b[1;32m    829\u001b[0m \u001b[0;34m\u001b[0m\u001b[0m\n\u001b[1;32m    830\u001b[0m       \u001b[0;32mwith\u001b[0m \u001b[0mOptionalXlaContext\u001b[0m\u001b[0;34m(\u001b[0m\u001b[0mself\u001b[0m\u001b[0;34m.\u001b[0m\u001b[0m_jit_compile\u001b[0m\u001b[0;34m)\u001b[0m\u001b[0;34m:\u001b[0m\u001b[0;34m\u001b[0m\u001b[0;34m\u001b[0m\u001b[0m\n\u001b[0;32m--> 831\u001b[0;31m         \u001b[0mresult\u001b[0m \u001b[0;34m=\u001b[0m \u001b[0mself\u001b[0m\u001b[0;34m.\u001b[0m\u001b[0m_call\u001b[0m\u001b[0;34m(\u001b[0m\u001b[0;34m*\u001b[0m\u001b[0margs\u001b[0m\u001b[0;34m,\u001b[0m \u001b[0;34m**\u001b[0m\u001b[0mkwds\u001b[0m\u001b[0;34m)\u001b[0m\u001b[0;34m\u001b[0m\u001b[0;34m\u001b[0m\u001b[0m\n\u001b[0m\u001b[1;32m    832\u001b[0m \u001b[0;34m\u001b[0m\u001b[0m\n\u001b[1;32m    833\u001b[0m       \u001b[0mnew_tracing_count\u001b[0m \u001b[0;34m=\u001b[0m \u001b[0mself\u001b[0m\u001b[0;34m.\u001b[0m\u001b[0mexperimental_get_tracing_count\u001b[0m\u001b[0;34m(\u001b[0m\u001b[0;34m)\u001b[0m\u001b[0;34m\u001b[0m\u001b[0;34m\u001b[0m\u001b[0m\n",
            "\u001b[0;32m/usr/local/lib/python3.10/dist-packages/tensorflow/python/eager/polymorphic_function/polymorphic_function.py\u001b[0m in \u001b[0;36m_call\u001b[0;34m(self, *args, **kwds)\u001b[0m\n\u001b[1;32m    865\u001b[0m       \u001b[0;31m# In this case we have created variables on the first call, so we run the\u001b[0m\u001b[0;34m\u001b[0m\u001b[0;34m\u001b[0m\u001b[0m\n\u001b[1;32m    866\u001b[0m       \u001b[0;31m# defunned version which is guaranteed to never create variables.\u001b[0m\u001b[0;34m\u001b[0m\u001b[0;34m\u001b[0m\u001b[0m\n\u001b[0;32m--> 867\u001b[0;31m       return tracing_compilation.call_function(\n\u001b[0m\u001b[1;32m    868\u001b[0m           \u001b[0margs\u001b[0m\u001b[0;34m,\u001b[0m \u001b[0mkwds\u001b[0m\u001b[0;34m,\u001b[0m \u001b[0mself\u001b[0m\u001b[0;34m.\u001b[0m\u001b[0m_no_variable_creation_config\u001b[0m\u001b[0;34m\u001b[0m\u001b[0;34m\u001b[0m\u001b[0m\n\u001b[1;32m    869\u001b[0m       )\n",
            "\u001b[0;32m/usr/local/lib/python3.10/dist-packages/tensorflow/python/eager/polymorphic_function/tracing_compilation.py\u001b[0m in \u001b[0;36mcall_function\u001b[0;34m(args, kwargs, tracing_options)\u001b[0m\n\u001b[1;32m    137\u001b[0m   \u001b[0mbound_args\u001b[0m \u001b[0;34m=\u001b[0m \u001b[0mfunction\u001b[0m\u001b[0;34m.\u001b[0m\u001b[0mfunction_type\u001b[0m\u001b[0;34m.\u001b[0m\u001b[0mbind\u001b[0m\u001b[0;34m(\u001b[0m\u001b[0;34m*\u001b[0m\u001b[0margs\u001b[0m\u001b[0;34m,\u001b[0m \u001b[0;34m**\u001b[0m\u001b[0mkwargs\u001b[0m\u001b[0;34m)\u001b[0m\u001b[0;34m\u001b[0m\u001b[0;34m\u001b[0m\u001b[0m\n\u001b[1;32m    138\u001b[0m   \u001b[0mflat_inputs\u001b[0m \u001b[0;34m=\u001b[0m \u001b[0mfunction\u001b[0m\u001b[0;34m.\u001b[0m\u001b[0mfunction_type\u001b[0m\u001b[0;34m.\u001b[0m\u001b[0munpack_inputs\u001b[0m\u001b[0;34m(\u001b[0m\u001b[0mbound_args\u001b[0m\u001b[0;34m)\u001b[0m\u001b[0;34m\u001b[0m\u001b[0;34m\u001b[0m\u001b[0m\n\u001b[0;32m--> 139\u001b[0;31m   return function._call_flat(  # pylint: disable=protected-access\n\u001b[0m\u001b[1;32m    140\u001b[0m       \u001b[0mflat_inputs\u001b[0m\u001b[0;34m,\u001b[0m \u001b[0mcaptured_inputs\u001b[0m\u001b[0;34m=\u001b[0m\u001b[0mfunction\u001b[0m\u001b[0;34m.\u001b[0m\u001b[0mcaptured_inputs\u001b[0m\u001b[0;34m\u001b[0m\u001b[0;34m\u001b[0m\u001b[0m\n\u001b[1;32m    141\u001b[0m   )\n",
            "\u001b[0;32m/usr/local/lib/python3.10/dist-packages/tensorflow/python/eager/polymorphic_function/concrete_function.py\u001b[0m in \u001b[0;36m_call_flat\u001b[0;34m(self, tensor_inputs, captured_inputs)\u001b[0m\n\u001b[1;32m   1262\u001b[0m         and executing_eagerly):\n\u001b[1;32m   1263\u001b[0m       \u001b[0;31m# No tape is watching; skip to running the function.\u001b[0m\u001b[0;34m\u001b[0m\u001b[0;34m\u001b[0m\u001b[0m\n\u001b[0;32m-> 1264\u001b[0;31m       \u001b[0;32mreturn\u001b[0m \u001b[0mself\u001b[0m\u001b[0;34m.\u001b[0m\u001b[0m_inference_function\u001b[0m\u001b[0;34m.\u001b[0m\u001b[0mflat_call\u001b[0m\u001b[0;34m(\u001b[0m\u001b[0margs\u001b[0m\u001b[0;34m)\u001b[0m\u001b[0;34m\u001b[0m\u001b[0;34m\u001b[0m\u001b[0m\n\u001b[0m\u001b[1;32m   1265\u001b[0m     forward_backward = self._select_forward_and_backward_functions(\n\u001b[1;32m   1266\u001b[0m         \u001b[0margs\u001b[0m\u001b[0;34m,\u001b[0m\u001b[0;34m\u001b[0m\u001b[0;34m\u001b[0m\u001b[0m\n",
            "\u001b[0;32m/usr/local/lib/python3.10/dist-packages/tensorflow/python/eager/polymorphic_function/atomic_function.py\u001b[0m in \u001b[0;36mflat_call\u001b[0;34m(self, args)\u001b[0m\n\u001b[1;32m    215\u001b[0m   \u001b[0;32mdef\u001b[0m \u001b[0mflat_call\u001b[0m\u001b[0;34m(\u001b[0m\u001b[0mself\u001b[0m\u001b[0;34m,\u001b[0m \u001b[0margs\u001b[0m\u001b[0;34m:\u001b[0m \u001b[0mSequence\u001b[0m\u001b[0;34m[\u001b[0m\u001b[0mcore\u001b[0m\u001b[0;34m.\u001b[0m\u001b[0mTensor\u001b[0m\u001b[0;34m]\u001b[0m\u001b[0;34m)\u001b[0m \u001b[0;34m->\u001b[0m \u001b[0mAny\u001b[0m\u001b[0;34m:\u001b[0m\u001b[0;34m\u001b[0m\u001b[0;34m\u001b[0m\u001b[0m\n\u001b[1;32m    216\u001b[0m     \u001b[0;34m\"\"\"Calls with tensor inputs and returns the structured output.\"\"\"\u001b[0m\u001b[0;34m\u001b[0m\u001b[0;34m\u001b[0m\u001b[0m\n\u001b[0;32m--> 217\u001b[0;31m     \u001b[0mflat_outputs\u001b[0m \u001b[0;34m=\u001b[0m \u001b[0mself\u001b[0m\u001b[0;34m(\u001b[0m\u001b[0;34m*\u001b[0m\u001b[0margs\u001b[0m\u001b[0;34m)\u001b[0m\u001b[0;34m\u001b[0m\u001b[0;34m\u001b[0m\u001b[0m\n\u001b[0m\u001b[1;32m    218\u001b[0m     \u001b[0;32mreturn\u001b[0m \u001b[0mself\u001b[0m\u001b[0;34m.\u001b[0m\u001b[0mfunction_type\u001b[0m\u001b[0;34m.\u001b[0m\u001b[0mpack_output\u001b[0m\u001b[0;34m(\u001b[0m\u001b[0mflat_outputs\u001b[0m\u001b[0;34m)\u001b[0m\u001b[0;34m\u001b[0m\u001b[0;34m\u001b[0m\u001b[0m\n\u001b[1;32m    219\u001b[0m \u001b[0;34m\u001b[0m\u001b[0m\n",
            "\u001b[0;32m/usr/local/lib/python3.10/dist-packages/tensorflow/python/eager/polymorphic_function/atomic_function.py\u001b[0m in \u001b[0;36m__call__\u001b[0;34m(self, *args)\u001b[0m\n\u001b[1;32m    250\u001b[0m         \u001b[0;32mwith\u001b[0m \u001b[0mrecord\u001b[0m\u001b[0;34m.\u001b[0m\u001b[0mstop_recording\u001b[0m\u001b[0;34m(\u001b[0m\u001b[0;34m)\u001b[0m\u001b[0;34m:\u001b[0m\u001b[0;34m\u001b[0m\u001b[0;34m\u001b[0m\u001b[0m\n\u001b[1;32m    251\u001b[0m           \u001b[0;32mif\u001b[0m \u001b[0mself\u001b[0m\u001b[0;34m.\u001b[0m\u001b[0m_bound_context\u001b[0m\u001b[0;34m.\u001b[0m\u001b[0mexecuting_eagerly\u001b[0m\u001b[0;34m(\u001b[0m\u001b[0;34m)\u001b[0m\u001b[0;34m:\u001b[0m\u001b[0;34m\u001b[0m\u001b[0;34m\u001b[0m\u001b[0m\n\u001b[0;32m--> 252\u001b[0;31m             outputs = self._bound_context.call_function(\n\u001b[0m\u001b[1;32m    253\u001b[0m                 \u001b[0mself\u001b[0m\u001b[0;34m.\u001b[0m\u001b[0mname\u001b[0m\u001b[0;34m,\u001b[0m\u001b[0;34m\u001b[0m\u001b[0;34m\u001b[0m\u001b[0m\n\u001b[1;32m    254\u001b[0m                 \u001b[0mlist\u001b[0m\u001b[0;34m(\u001b[0m\u001b[0margs\u001b[0m\u001b[0;34m)\u001b[0m\u001b[0;34m,\u001b[0m\u001b[0;34m\u001b[0m\u001b[0;34m\u001b[0m\u001b[0m\n",
            "\u001b[0;32m/usr/local/lib/python3.10/dist-packages/tensorflow/python/eager/context.py\u001b[0m in \u001b[0;36mcall_function\u001b[0;34m(self, name, tensor_inputs, num_outputs)\u001b[0m\n\u001b[1;32m   1477\u001b[0m     \u001b[0mcancellation_context\u001b[0m \u001b[0;34m=\u001b[0m \u001b[0mcancellation\u001b[0m\u001b[0;34m.\u001b[0m\u001b[0mcontext\u001b[0m\u001b[0;34m(\u001b[0m\u001b[0;34m)\u001b[0m\u001b[0;34m\u001b[0m\u001b[0;34m\u001b[0m\u001b[0m\n\u001b[1;32m   1478\u001b[0m     \u001b[0;32mif\u001b[0m \u001b[0mcancellation_context\u001b[0m \u001b[0;32mis\u001b[0m \u001b[0;32mNone\u001b[0m\u001b[0;34m:\u001b[0m\u001b[0;34m\u001b[0m\u001b[0;34m\u001b[0m\u001b[0m\n\u001b[0;32m-> 1479\u001b[0;31m       outputs = execute.execute(\n\u001b[0m\u001b[1;32m   1480\u001b[0m           \u001b[0mname\u001b[0m\u001b[0;34m.\u001b[0m\u001b[0mdecode\u001b[0m\u001b[0;34m(\u001b[0m\u001b[0;34m\"utf-8\"\u001b[0m\u001b[0;34m)\u001b[0m\u001b[0;34m,\u001b[0m\u001b[0;34m\u001b[0m\u001b[0;34m\u001b[0m\u001b[0m\n\u001b[1;32m   1481\u001b[0m           \u001b[0mnum_outputs\u001b[0m\u001b[0;34m=\u001b[0m\u001b[0mnum_outputs\u001b[0m\u001b[0;34m,\u001b[0m\u001b[0;34m\u001b[0m\u001b[0;34m\u001b[0m\u001b[0m\n",
            "\u001b[0;32m/usr/local/lib/python3.10/dist-packages/tensorflow/python/eager/execute.py\u001b[0m in \u001b[0;36mquick_execute\u001b[0;34m(op_name, num_outputs, inputs, attrs, ctx, name)\u001b[0m\n\u001b[1;32m     58\u001b[0m         \u001b[0;32mfor\u001b[0m \u001b[0mt\u001b[0m \u001b[0;32min\u001b[0m \u001b[0minputs\u001b[0m\u001b[0;34m\u001b[0m\u001b[0;34m\u001b[0m\u001b[0m\n\u001b[1;32m     59\u001b[0m     ]\n\u001b[0;32m---> 60\u001b[0;31m     tensors = pywrap_tfe.TFE_Py_Execute(ctx._handle, device_name, op_name,\n\u001b[0m\u001b[1;32m     61\u001b[0m                                         inputs, attrs, num_outputs)\n\u001b[1;32m     62\u001b[0m   \u001b[0;32mexcept\u001b[0m \u001b[0mcore\u001b[0m\u001b[0;34m.\u001b[0m\u001b[0m_NotOkStatusException\u001b[0m \u001b[0;32mas\u001b[0m \u001b[0me\u001b[0m\u001b[0;34m:\u001b[0m\u001b[0;34m\u001b[0m\u001b[0;34m\u001b[0m\u001b[0m\n",
            "\u001b[0;31mKeyboardInterrupt\u001b[0m: "
          ]
        }
      ],
      "source": [
        "#Construction of Convolutional LSTM network\n",
        "inp = keras.layers.Input(shape=(None, *x_train.shape[2:]))\n",
        "#It will be constructed a 3 ConvLSTM2D layers with batch normalization,\n",
        "#Followed by a Conv3D layer for the spatiotemporal outputs.\n",
        "m = keras.layers.ConvLSTM2D(16, (5,5), padding= \"same\", return_sequences= True, activation= \"relu\")(inp)\n",
        "m = keras.layers.BatchNormalization()(m)\n",
        "m = keras.layers.ConvLSTM2D(16, (5,5), padding= \"same\", return_sequences= True, activation= \"relu\")(m)\n",
        "m = keras.layers.BatchNormalization()(m)\n",
        "m = keras.layers.ConvLSTM2D(16, (3,3), padding= \"same\", activation= \"relu\")(m)\n",
        "m = keras.layers.Conv2D(channels, (3,3), activation= \"sigmoid\", padding= \"same\")(m)\n",
        "model = keras.models.Model(inp, m)\n",
        "model.compile(loss= \"binary_crossentropy\", optimizer= \"Adam\")\n",
        "print(model.summary())\n",
        "#Callbacks\n",
        "early_stopping = keras.callbacks.EarlyStopping(monitor= \"val_loss\", patience= 6, restore_best_weights= True)\n",
        "reduce_lr = keras.callbacks.ReduceLROnPlateau(monitor= \"val_loss\", patience= 4)\n",
        "#Define moifiable training hyperparameters\n",
        "epochs = 20\n",
        "batch_size = 2\n",
        "#Model training\n",
        "model.fit(\n",
        "    x_train, y_train,\n",
        "    batch_size= batch_size,\n",
        "    epochs= epochs,\n",
        "    validation_data= (x_validation, y_validation),\n",
        "    callbacks= [early_stopping, reduce_lr]\n",
        ")"
      ]
    },
    {
      "cell_type": "code",
      "execution_count": null,
      "metadata": {
        "id": "sffupP98hY0T"
      },
      "outputs": [],
      "source": [
        "#Guardar el modelo\n",
        "model.save(\"/content/ConvLSTM2D_Mask122_360.h5\")"
      ]
    },
    {
      "cell_type": "code",
      "execution_count": null,
      "metadata": {
        "id": "FtlrYgBLlvwJ"
      },
      "outputs": [],
      "source": [
        "imagenInicial = np.random.choice(range(len(x_test)), size= 1)[0]\n",
        "print(imagenInicial)"
      ]
    },
    {
      "cell_type": "code",
      "execution_count": null,
      "metadata": {
        "id": "hsWHEqe0pAE0"
      },
      "outputs": [],
      "source": [
        "example = x_test[imagenInicial]\n",
        "\n",
        "print(example.shape)\n",
        "\n",
        "err = model.evaluate(x_test, y_test, batch_size= 2)\n",
        "print(\"El error del modelo es: {}\".format(err))\n",
        "preds = model.predict(x_test, batch_size= 2)\n",
        "print(preds.shape)\n",
        "x_test_new = add_last(x_test, preds[:])\n",
        "preds2 = model.predict(x_test_new, batch_size= 2)\n",
        "#print(preds2.shape)\n",
        "x_test_new = add_last(x_test_new, preds2[:])\n",
        "preds3 = model.predict(x_test_new, batch_size= 2)\n",
        "x_test_new = add_last(x_test_new, preds3[:])\n",
        "preds4 = model.predict(x_test_new, batch_size= 2)\n",
        "res_forecast = add_last(x_test_new, preds4[:])\n",
        "print(\"PREDSS\",res_forecast.shape)\n",
        "\n",
        "np.save(\"/content/PredictionsConvolutionLSTM_forecast_122_360_w5.npy\", res_forecast)  #Guardar el vector de predicciones\n",
        "\n",
        "modelos = []\n",
        "#agregar pred a modelos\n",
        "modelos.append(preds)\n",
        "modelos.append(preds2)\n",
        "modelos.append(preds3)\n",
        "modelos.append(preds4)\n",
        "\n",
        "\n",
        "print(\"Preds\" , preds.shape)\n",
        "print(\"Preds2\" , preds2.shape)\n",
        "print(\"Preds3\" , preds3.shape)\n",
        "print(\"Preds4\" , preds4.shape)\n",
        "print(\"Res_forecast\" , res_forecast.shape)\n",
        "print(\"x_test\" , x_test.shape)\n",
        "print(\"x_test_new\" , x_test_new.shape)\n",
        "print(\"y_test\" , y_test.shape)\n",
        "\n",
        "# Selecciona la primera imagen y elimina la dimensión de canal singular con squeeze()\n",
        "plt.imshow(preds[0].squeeze(), cmap='gray')\n",
        "plt.title(\"First Predicted Image\")\n",
        "plt.axis('off')\n",
        "plt.show()\n",
        "\n"
      ]
    },
    {
      "cell_type": "code",
      "execution_count": null,
      "metadata": {
        "id": "ZZ_34yImDNi9"
      },
      "outputs": [],
      "source": [
        "\n",
        "def get_Positions(data, rows= 122, cols=360):\n",
        "    elements = []\n",
        "    for i in data:\n",
        "        ix = int(i/cols)\n",
        "        iy = int(np.round(((i/cols)-ix)*cols))\n",
        "        elements.append((ix,iy))\n",
        "    #print(index/cols)\n",
        "    #print((index/cols)-ix)\n",
        "    #print(((index/cols)-ix)*cols)\n",
        "    print(\"Posiciones!!! {} , {}\".format(ix, iy))\n",
        "    return elements\n",
        "\n",
        "\n",
        "#Crea cubos con su propia información de tamaño h\n",
        "def get_cubes(data, h):\n",
        "    new_data = []\n",
        "    for i in range(0, len(data)-h):\n",
        "        new_data.append(data[i:i+h])\n",
        "    new_data = np.array(new_data)\n",
        "    print(new_data.shape)\n",
        "    return new_data"
      ]
    },
    {
      "cell_type": "code",
      "execution_count": null,
      "metadata": {
        "id": "mUH5Php6DEdL"
      },
      "outputs": [],
      "source": [
        "\n",
        "classes = np.array([0, 255, 220, 177, 119, 70, 35]) # 255, 220, 177, 119, 70, 35  0\n",
        "classes_rgb = np.array([[0,0,0], [35,35,35], [70,70,70], [119,119,119], [177,177,177], [220,220,220], [255,255,255]])\n",
        "rows = 122\n",
        "cols = 360\n",
        "h = 4\n",
        "\n",
        "data = np.load(\"/content/PredictionsConvolutionLSTM_forecast_122_360_w5.npy\")\n",
        "x_test = np.load(\"/content/x_test_mask.npy\")\n",
        "y_test = np.load(\"/content/y_test_mask.npy\")\n",
        "\n",
        "print(data.shape)\n",
        "print(x_test.shape)\n",
        "print(y_test.shape)\n",
        "\n",
        "y_test = get_cubes(y_test, h)\n",
        "\n",
        "colors = get_colors(x_test[-10,0])\n",
        "print(\"COLORSS\", colors)\n",
        "print(\"COLORS\", colors.shape)\n",
        "\n",
        "colorss = get_colors(data[-10,0])\n",
        "print(\"COLORSS\", colorss)\n",
        "\n",
        "naive = x_test[:-4]\n",
        "data = data[1:-3]\n",
        "\n",
        "#y_real = y_test[:, -h:]*255\n",
        "new_data = data[:, -h:]\n",
        "n_real = naive[:, -h:]*255\n",
        "\n",
        "#y_test = y_test[:, -h:]\n",
        "naive = naive[:, -h:]\n",
        "\n",
        "print(\"XX\")\n",
        "print(y_test.shape)\n",
        "print(new_data.shape)\n",
        "print(n_real.shape)\n",
        "\n",
        "print(min(new_data[0,0,60]))\n",
        "print(max(new_data[0,0,60]))\n",
        "\n",
        "new_data = new_data * 255\n",
        "new_data = new_data.astype(np.uint8)\n",
        "\n",
        "print(\"HEY\", new_data.shape)\n",
        "print(colorss.shape)\n",
        "print(min(new_data[0,0,60]))\n",
        "print(max(new_data[0,0,60]))\n",
        "\n",
        "new_data = new_data.reshape(new_data.shape[:-1])\n",
        "print(\"HoY\", new_data.shape)\n",
        "\n",
        "aux = []\n",
        "for i in new_data:\n",
        "    aux2 = []\n",
        "    for j in i:\n",
        "        #res = cv2.cvtColor(j, cv2.COLOR_GRAY2RGB)\n",
        "        #res = recolor_greys_image(j, classes)\n",
        "        #rgb_quantized(res, classes_rgb)\n",
        "        #res = cv2.cvtColor(res, cv2.COLOR_RGB2GRAY)\n",
        "        res = gray_quantized(j, classes)\n",
        "        res = recolor_greys_image(res, classes)\n",
        "        aux2.append(res)\n",
        "    aux.append(np.array(aux2))\n",
        "new_data = np.array(aux)\n",
        "print(\"SHAPEE\", new_data.shape)\n",
        "color_data = get_colors(new_data[-10,0])\n",
        "print(\"DCOLORS\", color_data)\n",
        "new_data = new_data.reshape(new_data.shape[0],new_data.shape[1],new_data.shape[2],new_data.shape[3],1)\n",
        "\n",
        "#y_test = y_test.reshape((y_test.shape[0], y_test.shape[1], y_test.shape[2]))*255\n",
        "#naive = naive.reshape((naive.shape[0], naive.shape[1], naive.shape[2])) * 255\n",
        "\n",
        "plt.imshow(y_test[0,0], cmap=\"gray\")\n",
        "#plt.show()\n",
        "\n",
        "\n",
        "plt.imshow(new_data[0,0], cmap=\"gray\")\n",
        "#plt.show()\n",
        "\n",
        "\n",
        "plt.imshow(naive[0,0], cmap=\"gray\")\n",
        "#plt.show()\n",
        "\n",
        "y_test = y_test * 255\n",
        "naive = naive * 255\n",
        "\n",
        "print(\"YCOLORS\", get_colors(y_test[-10,0]))\n",
        "print(\"NCOLORS\", get_colors(naive[-10,0]))\n",
        "\n",
        "print(\"XS\")\n",
        "print(new_data.shape)\n",
        "print(y_test.shape)\n",
        "print(naive.shape)\n",
        "\n",
        "l_clas = len(classes)\n",
        "\n",
        "fig = plt.figure(figsize=(20,20))\n",
        "r = 3\n",
        "c = 4\n",
        "ac = 1\n",
        "pos = 100\n",
        "for i in range(h):\n",
        "    fig.add_subplot(r, c, ac)\n",
        "    ac += 1\n",
        "    plt.imshow(y_test[pos,i], cmap='gray')\n",
        "    plt.axis('off')\n",
        "    plt.title('Original_t+{}'.format(i+1))\n",
        "for i in range(h):\n",
        "    fig.add_subplot(r, c, ac)\n",
        "    ac += 1\n",
        "    plt.imshow(new_data[pos,i], cmap='gray')\n",
        "    plt.axis('off')\n",
        "    plt.title('Pronóstico_t+{}'.format(i+1))\n",
        "for i in range(h):\n",
        "    fig.add_subplot(r, c, ac)\n",
        "    ac += 1\n",
        "    plt.imshow(naive[pos,i], cmap='gray')\n",
        "    plt.axis('off')\n",
        "    plt.title('Naive_t+{}'.format(i+1))\n",
        "\n",
        "#plt.show()\n",
        "\n",
        "cm_f = np.zeros((l_clas, l_clas), dtype=np.uint64)\n",
        "cm_n = np.zeros((l_clas, l_clas), dtype=np.uint64)\n",
        "print(cm_f)\n",
        "\n",
        "for e in range(y_test.shape[0]):\n",
        "    for k in range(h):\n",
        "        for i in range(rows):\n",
        "            for j in range(cols):\n",
        "                pos1 = np.where(classes == y_test[e, k, i, j])[0][0]\n",
        "                pos2 = np.where(classes == new_data[e, k, i, j])[0][0]\n",
        "                pos3 = np.where(classes == naive[e, k, i, j])[0][0]\n",
        "                cm_f[pos1, pos2] += 1\n",
        "                cm_n[pos1, pos3] += 1\n",
        "\n",
        "print(\"Matriz de confusión de pronóstico\")\n",
        "print(cm_f)\n",
        "print(\"Matriz de confusión de naive\")\n",
        "print(cm_n)"
      ]
    },
    {
      "cell_type": "code",
      "execution_count": null,
      "metadata": {
        "id": "JX6TssIBuxzU"
      },
      "outputs": [],
      "source": [
        "fig = plt.figure(figsize=(20,20))\n",
        "r = 3\n",
        "c = 4\n",
        "ac = 1\n",
        "pos = 100\n",
        "for i in range(h):\n",
        "    fig.add_subplot(r, c, ac)\n",
        "    ac += 1\n",
        "    plt.imshow(y_test[pos,i], cmap='gray')\n",
        "    plt.axis('off')\n",
        "    plt.title('Original_t+{}'.format(i+1))\n",
        "for i in range(h):\n",
        "    fig.add_subplot(r, c, ac)\n",
        "    ac += 1\n",
        "    plt.imshow(new_data[pos,i], cmap='gray')\n",
        "    plt.axis('off')\n",
        "    plt.title('Pronóstico_t+{}'.format(i+1))\n",
        "for i in range(h):\n",
        "    fig.add_subplot(r, c, ac)\n",
        "    ac += 1\n",
        "    plt.imshow(naive[pos,i], cmap='gray')\n",
        "    plt.axis('off')\n",
        "    plt.title('Naive_t+{}'.format(i+1))\n",
        "\n",
        "plt.show()"
      ]
    },
    {
      "cell_type": "markdown",
      "metadata": {
        "id": "-PlAdLYpCipv"
      },
      "source": [
        "## not working"
      ]
    },
    {
      "cell_type": "code",
      "execution_count": null,
      "metadata": {
        "id": "QXlls_V5CiRT"
      },
      "outputs": [],
      "source": [
        "n_images = 5  # Define cuántas imágenes quieres mostrar\n",
        "fig, axes = plt.subplots(1, n_images, figsize=(20, 4))\n",
        "for i in range(n_images):\n",
        "    for j in range(len(modelos)):\n",
        "        # Asegúrate de que cada imagen es una matriz 2D al usar squeeze()\n",
        "        axes[i].imshow(modelos[j][i].squeeze(), cmap='gray')\n",
        "        axes[i].set_title(f\"Predicted Image {i+1}\")\n",
        "        axes[i].axis('off')\n",
        "plt.tight_layout()\n",
        "plt.show()"
      ]
    },
    {
      "cell_type": "code",
      "execution_count": null,
      "metadata": {
        "id": "dZi4x6tK0Tsq"
      },
      "outputs": [],
      "source": [
        "n_images = 5  # Define cuántas imágenes quieres mostrar\n",
        "fig, axes = plt.subplots(1, n_images, figsize=(20, 4))\n",
        "for i in range(n_images):\n",
        "    #Asegúrate de que cada imagen es una matriz 2D al usar squeeze()\n",
        "    print(f\"Shape of predicted: {preds[i].shape}\")\n",
        "    axes[i].imshow(preds[i].squeeze(), cmap='gray')\n",
        "    print(f\"Shape of predicted image: {preds[i].shape}\")\n",
        "    axes[i].set_title(f\"Predicted Image {i+1}\")\n",
        "    axes[i].axis('off')\n",
        "plt.tight_layout()\n",
        "plt.show()"
      ]
    },
    {
      "cell_type": "code",
      "execution_count": null,
      "metadata": {
        "id": "8ZNoKSYh9sEb"
      },
      "outputs": [],
      "source": [
        "imagenInicial = np.random.choice(range(len(x_test)), size= 1)[0]\n",
        "print(imagenInicial)"
      ]
    },
    {
      "cell_type": "code",
      "execution_count": null,
      "metadata": {
        "id": "a-FTBqqCzPcO"
      },
      "outputs": [],
      "source": [
        "\n",
        "example = x_test[imagenInicial]\n",
        "#frames = example[:4, ...]\n",
        "#original_frames = example[4:, ...]\n",
        "print(example.shape)\n",
        "#print(frames.shape)\n",
        "#print(original_frames.shape)\n",
        "for _ in range(horizon):\n",
        "    print(example.shape)\n",
        "    new_prediction = model.predict(example.reshape(1,*example.shape[0:]))\n",
        "    example = np.concatenate((example[1:], new_prediction), axis=0)\n",
        "    print(f\"example {example.shape}\")\n",
        "predictions = example[:-3]\n",
        "print(predictions.shape)\n",
        "# Selecciona la primera imagen y elimina la dimensión de canal singular con squeeze()\n",
        "plt.imshow(predictions[0].squeeze(), cmap='gray')\n",
        "plt.title(\"First Predicted Image\")\n",
        "plt.axis('off')\n",
        "plt.show()"
      ]
    },
    {
      "cell_type": "code",
      "execution_count": null,
      "metadata": {
        "id": "qpw7PAJR-FhC"
      },
      "outputs": [],
      "source": [
        "\n",
        "example = x_test[imagenInicial]\n",
        "#frames = example[:4, ...]\n",
        "#original_frames = example[4:, ...]\n",
        "print(example.shape)\n",
        "#print(frames.shape)\n",
        "#print(original_frames.shape)\n",
        "for _ in range(horizon):\n",
        "    print(example.shape)\n",
        "    new_prediction = model.predict(example.reshape(1,*example.shape[0:]))\n",
        "    example = np.concatenate((example[1:], new_prediction), axis=0)\n",
        "    print(f\"example {example.shape}\")\n",
        "predictions = example[:-3]\n",
        "print(predictions.shape)\n",
        "# Selecciona la primera imagen y elimina la dimensión de canal singular con squeeze()\n",
        "\n",
        "for i in range(horizon):\n",
        "    plt.imshow(example[i].squeeze(), cmap='gray')\n",
        "    plt.title(f\"{i+1} Predicted Image\")\n",
        "    plt.axis('off')\n",
        "    plt.show()"
      ]
    },
    {
      "cell_type": "code",
      "execution_count": null,
      "metadata": {
        "id": "fGvvfn9P_Vh0"
      },
      "outputs": [],
      "source": [
        "x_test = x_test[imagenInicial]\n",
        "for i in range(horizon):\n",
        "    plt.imshow(x_test[i].squeeze(), cmap='gray')\n",
        "    plt.title(f\"{i+1} Predicted Image\")\n",
        "    plt.axis('off')\n",
        "    plt.show()"
      ]
    },
    {
      "cell_type": "markdown",
      "source": [
        "# Optimización mediante GAc"
      ],
      "metadata": {
        "id": "YX8vsW6k0VRg"
      }
    },
    {
      "cell_type": "markdown",
      "source": [
        "Se define el algoritmo genético compacto"
      ],
      "metadata": {
        "id": "zCl08lK-0sfK"
      }
    },
    {
      "cell_type": "code",
      "source": [
        "import random\n",
        "\n",
        "class Individual:\n",
        "    def __init__(self, chrom: list[int]) -> None:\n",
        "        self.chrom = chrom\n",
        "        self.fitness = None\n",
        "\n",
        "    def __str__(self) -> str:\n",
        "        return '{} Fitness: {}'.format(self.chrom, self.fitness)\n",
        "\n",
        "\n",
        "def initialize_probs(num_genes: int) -> list[float]:\n",
        "    return [0.5 for _ in range(num_genes)]\n",
        "\n",
        "\n",
        "def create_individual(probs: list[float]):\n",
        "    chrom = ['1' if random.uniform(0, 1) < prob else '0' for prob in probs]\n",
        "    return Individual(''.join(chrom))\n",
        "\n",
        "\n",
        "def compete(a: Individual, b: Individual, fitness: callable, fitness_min: bool):\n",
        "    a.fitness = fitness(a.chrom)\n",
        "    b.fitness = fitness(b.chrom)\n",
        "\n",
        "    if a.fitness < b.fitness and fitness_min:\n",
        "        return a, b\n",
        "\n",
        "    if a.fitness > b.fitness and not fitness_min:\n",
        "        return a, b\n",
        "\n",
        "    return b, a\n",
        "\n",
        "\n",
        "def adjust_probs(probs: list[float], winner: Individual, loser: Individual, step: int):\n",
        "    new_probs = []\n",
        "\n",
        "    for i in range(len(probs)):\n",
        "        loser_gen = loser.chrom[i]\n",
        "        winner_gen = winner.chrom[i]\n",
        "\n",
        "        if winner_gen == loser_gen:\n",
        "            new_probs.append(probs[i])\n",
        "            continue\n",
        "\n",
        "        if winner_gen == '0':\n",
        "            new_probs.append(probs[i] - step)\n",
        "            continue\n",
        "\n",
        "        new_probs.append(probs[i] + step)\n",
        "    return new_probs\n",
        "\n",
        "\n",
        "def has_converged(probs: list[float], convergence_criteria: float):\n",
        "    for prob in probs:\n",
        "        diff = 1 - prob\n",
        "        if diff > convergence_criteria:\n",
        "            return False\n",
        "    return True\n",
        "\n",
        "\n",
        "def evolve(fitness: callable, num_genes: int, generations: int, step: int = 0.05, convergence_criteria=0.001, fitness_min=False):\n",
        "    best = None\n",
        "    probs = initialize_probs(num_genes)\n",
        "\n",
        "    for _ in range(generations):\n",
        "        a = create_individual(probs)\n",
        "        b = create_individual(probs)\n",
        "\n",
        "        winner, loser = compete(a, b, fitness, fitness_min)\n",
        "\n",
        "        if not best:\n",
        "            best = winner\n",
        "        elif winner.fitness > best.fitness and not fitness_min:\n",
        "            best = winner\n",
        "        elif winner.fitness < best.fitness and fitness_min:\n",
        "            best = winner\n",
        "\n",
        "        probs = adjust_probs(probs, winner, loser, step)\n",
        "\n",
        "        if has_converged(probs, convergence_criteria):\n",
        "            break\n",
        "\n",
        "    return best.chrom, best.fitness"
      ],
      "metadata": {
        "id": "0cU_--7M0veY"
      },
      "execution_count": 45,
      "outputs": []
    },
    {
      "cell_type": "markdown",
      "source": [
        "Se definen los hiperparámetros a evolucionar:\n",
        "   \n",
        "\n",
        "*   batch_size\n",
        "*   optimizer\n",
        "*   learning_rate\n",
        "*   loss\n",
        "\n"
      ],
      "metadata": {
        "id": "ge5IuZWP06Oc"
      }
    },
    {
      "cell_type": "markdown",
      "source": [
        "Definimos una clase HiperParametro que nos ayudará a decodificar a los individuos"
      ],
      "metadata": {
        "id": "svpaiFgj1n6K"
      }
    },
    {
      "cell_type": "code",
      "source": [
        "N_BITS_DECIMAL = 4\n",
        "\n",
        "class HiperParametro:\n",
        "    def __init__(self, nombre, n_bits, posibles_opciones, es_decimal = False) -> None:\n",
        "        self.nombre = nombre\n",
        "        self.n_bits = n_bits\n",
        "        self.posibles_opciones = posibles_opciones\n",
        "        self.es_decimal = es_decimal\n",
        "\n",
        "    def transformar_decimal(self, bin: str):\n",
        "        n_bits = N_BITS_DECIMAL\n",
        "        decimal = '0.'\n",
        "\n",
        "        es_uno = True\n",
        "        for _ in range(0, len(bin), n_bits):\n",
        "            digito = int(bin[: n_bits], 2)\n",
        "            bin = bin[n_bits :]\n",
        "\n",
        "            if digito > 9 or digito == 0:\n",
        "                digito = 0\n",
        "            else:\n",
        "                es_uno = False\n",
        "\n",
        "            decimal += str(digito)\n",
        "\n",
        "        if es_uno:\n",
        "            return 1\n",
        "\n",
        "        return float(decimal)\n",
        "\n",
        "    def transformar_rango(self, seleccion: int):\n",
        "        inferior, superior = self.posibles_opciones\n",
        "        if seleccion + inferior > superior:\n",
        "            return superior\n",
        "        return seleccion + inferior\n",
        "\n",
        "    def obtener_seleccion(self, bin: str):\n",
        "        seleccion = int(bin, 2)\n",
        "\n",
        "        if self.es_decimal:\n",
        "            return self.transformar_decimal(bin)\n",
        "\n",
        "        if isinstance(self.posibles_opciones, list):\n",
        "            i = seleccion if seleccion < len(self.posibles_opciones) else len(self.posibles_opciones) - 1\n",
        "            return self.posibles_opciones[i]\n",
        "\n",
        "        if isinstance(self.posibles_opciones, tuple):\n",
        "            return self.transformar_rango(seleccion)\n",
        "\n",
        "        return 0"
      ],
      "metadata": {
        "id": "AqqUhwMPP-V_"
      },
      "execution_count": 46,
      "outputs": []
    },
    {
      "cell_type": "markdown",
      "source": [
        "Definimos dos listas de la clase HiperParametro para el conjunto de hiperparametros que vamos a entrenar"
      ],
      "metadata": {
        "id": "Uf27l4kBa5cu"
      }
    },
    {
      "cell_type": "code",
      "source": [
        "MAX_MODULOS = 8\n",
        "hiper_parametros_modelo = [\n",
        "  HiperParametro('loss', 3, ['binary_crossentropy', 'categorical_crossentropy', 'mse', 'mae']),\n",
        "  HiperParametro('batch_size', 3, (2, 8)),\n",
        "  HiperParametro('optimizer', 2, ['adam', 'rmsprop', 'sgd']),\n",
        "  HiperParametro('n_modulos', 3, (1, MAX_MODULOS)),\n",
        "]\n",
        "\n",
        "hiper_parametros_arq = [\n",
        "  HiperParametro('kernel', 1, [(3,3), (5,5)]),\n",
        "  HiperParametro('filters', 4, (8, 32)),\n",
        "  HiperParametro('dropout', 12, N_BITS_DECIMAL, True),\n",
        "  HiperParametro('recurrent_dropout', 12, N_BITS_DECIMAL, True),\n",
        "]"
      ],
      "metadata": {
        "id": "HNR3oNWta5vW"
      },
      "execution_count": 6,
      "outputs": []
    },
    {
      "cell_type": "markdown",
      "source": [
        "Definimos una función que nos ayudará a decodificar un individuo"
      ],
      "metadata": {
        "id": "_NYMr53tazF2"
      }
    },
    {
      "cell_type": "code",
      "source": [
        "def decodificar_ind(ind: str):\n",
        "  bin = ind\n",
        "  ind_decodificado = {}\n",
        "\n",
        "  for hiper_parametro in hiper_parametros_modelo:\n",
        "    bin_seleccion = bin[0 : hiper_parametro.n_bits]\n",
        "    bin = bin[hiper_parametro.n_bits :]\n",
        "\n",
        "    ind_decodificado[hiper_parametro.nombre] = hiper_parametro.obtener_seleccion(bin_seleccion)\n",
        "\n",
        "  ind_decodificado['modulos'] = []\n",
        "  for _ in range(ind_decodificado['n_modulos']):\n",
        "    modulo = {}\n",
        "    for hiper_parametro in hiper_parametros_arq:\n",
        "      bin_seleccion = bin[0 : hiper_parametro.n_bits]\n",
        "      bin = bin[hiper_parametro.n_bits : ]\n",
        "\n",
        "      modulo[hiper_parametro.nombre] = hiper_parametro.obtener_seleccion(bin_seleccion)\n",
        "    ind_decodificado['modulos'].append(modulo)\n",
        "\n",
        "  return ind_decodificado"
      ],
      "metadata": {
        "id": "vL7J7ospaykI"
      },
      "execution_count": 7,
      "outputs": []
    },
    {
      "cell_type": "markdown",
      "source": [
        "Definimos una función para crear la arquitectura de nuestro modelo proviniente de un individuo decodificado"
      ],
      "metadata": {
        "id": "OJy6TBhMbYst"
      }
    },
    {
      "cell_type": "code",
      "source": [
        "def crear_modelo(decoded_ind):\n",
        "  arquitectura = [\n",
        "      Input(shape=(None, *x_train.shape[2:])),\n",
        "  ]\n",
        "\n",
        "  for modulo in decoded_ind['modulos']:\n",
        "    filters = modulo['filters']\n",
        "    kernel = modulo['kernel']\n",
        "    dropout = modulo['dropout']\n",
        "    recurrent_dropout = modulo['recurrent_dropout']\n",
        "\n",
        "    arquitectura += [\n",
        "       ConvLSTM2D(modulo['filters'], modulo['kernel'] , padding=\"same\", dropout=dropout, recurrent_dropout=recurrent_dropout, return_sequences=True, activation=\"relu\"),\n",
        "       BatchNormalization()\n",
        "    ]\n",
        "\n",
        "  arquitectura += [\n",
        "      ConvLSTM2D(16, (3,3), padding= \"same\", activation= \"relu\"),\n",
        "      Conv2D(channels, (3,3), activation=\"sigmoid\", padding=\"same\")\n",
        "    ]\n",
        "\n",
        "  model = keras.models.Sequential(arquitectura)\n",
        "  model.compile(loss=decoded_ind['loss'], optimizer=decoded_ind['optimizer'])\n",
        "\n",
        "  print(model.summary())\n",
        "\n",
        "  return model"
      ],
      "metadata": {
        "id": "6SkIJ_GBb4Q1"
      },
      "execution_count": 121,
      "outputs": []
    },
    {
      "cell_type": "markdown",
      "source": [
        "Definimos la función que realizará el entrenamiento parcial"
      ],
      "metadata": {
        "id": "MCcjUKqyubHv"
      }
    },
    {
      "cell_type": "code",
      "source": [
        "def entrenamiento_parcial(modelo: keras.Model, decoded_ind):\n",
        "  early_stopping = keras.callbacks.EarlyStopping(monitor= \"val_loss\", patience=6, restore_best_weights= True)\n",
        "  reduce_lr = keras.callbacks.ReduceLROnPlateau(monitor= \"val_loss\", patience= 4)\n",
        "  epochs = 1\n",
        "  batch_size = decoded_ind['batch_size']\n",
        "\n",
        "  history = modelo.fit(\n",
        "    x_train, y_train,\n",
        "    batch_size= batch_size,\n",
        "    epochs= epochs,\n",
        "    validation_data= (x_validation, y_validation),\n",
        "    callbacks= [early_stopping, reduce_lr],\n",
        "  )\n",
        "\n",
        "  validation_loss = history.history['val_loss']\n",
        "\n",
        "  return validation_loss"
      ],
      "metadata": {
        "id": "prGlqx6luhwy"
      },
      "execution_count": 125,
      "outputs": []
    },
    {
      "cell_type": "markdown",
      "source": [
        "Se define la función de aptitud"
      ],
      "metadata": {
        "id": "EqcnDuUebVa_"
      }
    },
    {
      "cell_type": "code",
      "source": [
        "def fitness(ind: str):\n",
        "  decoded_ind = decodificar_ind(ind)\n",
        "  modelo = crear_modelo(decoded_ind)\n",
        "  val_loss = entrenamiento_parcial(modelo, decoded_ind)\n",
        "  return val_loss"
      ],
      "metadata": {
        "id": "uzMQxqo71NH0"
      },
      "execution_count": 123,
      "outputs": []
    },
    {
      "cell_type": "markdown",
      "source": [
        "Calculamos el tamaño del cromosoma del individuo"
      ],
      "metadata": {
        "id": "Je44ZyxsS-nu"
      }
    },
    {
      "cell_type": "code",
      "source": [
        "LONGITUD_CROMOSOMA = sum([param.n_bits for param in hiper_parametros_modelo])\n",
        "LONGITUD_CROMOSOMA += sum([param.n_bits for param in hiper_parametros_arq]) * MAX_MODULOS\n",
        "\n",
        "LONGITUD_CROMOSOMA"
      ],
      "metadata": {
        "colab": {
          "base_uri": "https://localhost:8080/"
        },
        "id": "mJJnqAnsTCOV",
        "outputId": "a0257b77-c92c-40e5-ff16-5911e4d52181"
      },
      "execution_count": 19,
      "outputs": [
        {
          "output_type": "execute_result",
          "data": {
            "text/plain": [
              "243"
            ]
          },
          "metadata": {},
          "execution_count": 19
        }
      ]
    },
    {
      "cell_type": "markdown",
      "source": [
        "Se realizan pruebas con un individuo"
      ],
      "metadata": {
        "id": "7XD-4QotVdcA"
      }
    },
    {
      "cell_type": "code",
      "source": [
        "ind = ''.join([random.choice(['0', '1']) for _ in range(LONGITUD_CROMOSOMA)])\n",
        "ind"
      ],
      "metadata": {
        "colab": {
          "base_uri": "https://localhost:8080/",
          "height": 53
        },
        "id": "QgN7LBAkVg6O",
        "outputId": "1763e9f4-7188-4d94-bc04-d8bd360a1a8d"
      },
      "execution_count": 98,
      "outputs": [
        {
          "output_type": "execute_result",
          "data": {
            "text/plain": [
              "'101100000111010101100110010001010100000000110010111011110010000000111100101010001000010000101101110110000110101111111011000001111100111010010011110100011111111011001100110001001100011110011000100101011001110011100010100011001110001001011001001'"
            ],
            "application/vnd.google.colaboratory.intrinsic+json": {
              "type": "string"
            }
          },
          "metadata": {},
          "execution_count": 98
        }
      ]
    },
    {
      "cell_type": "code",
      "source": [
        "decoded = decodificar_ind(ind)\n",
        "decoded"
      ],
      "metadata": {
        "colab": {
          "base_uri": "https://localhost:8080/"
        },
        "id": "TDnix98gV1gP",
        "outputId": "ce9996df-9f99-4110-b67a-9b45bdf9bd8d"
      },
      "execution_count": 104,
      "outputs": [
        {
          "output_type": "execute_result",
          "data": {
            "text/plain": [
              "{'loss': 'mae',\n",
              " 'batch_size': 6,\n",
              " 'optimizer': 'adam',\n",
              " 'n_modulos': 4,\n",
              " 'modulos': [{'kernel': (5, 5),\n",
              "   'filters': 13,\n",
              "   'dropout': 0.664,\n",
              "   'recurrent_dropout': 0.54},\n",
              "  {'kernel': (3, 3),\n",
              "   'filters': 14,\n",
              "   'dropout': 0.5,\n",
              "   'recurrent_dropout': 0.407},\n",
              "  {'kernel': (5, 5),\n",
              "   'filters': 10,\n",
              "   'dropout': 0.021,\n",
              "   'recurrent_dropout': 0.007},\n",
              "  {'kernel': (3, 3),\n",
              "   'filters': 20,\n",
              "   'dropout': 0.35,\n",
              "   'recurrent_dropout': 0.083}]}"
            ]
          },
          "metadata": {},
          "execution_count": 104
        }
      ]
    },
    {
      "cell_type": "code",
      "source": [
        "fitness(ind)"
      ],
      "metadata": {
        "id": "Ic-DgxpTlJRc",
        "outputId": "99892a16-1eed-494b-ada0-44103b89e9fe",
        "colab": {
          "base_uri": "https://localhost:8080/",
          "height": 998
        }
      },
      "execution_count": 124,
      "outputs": [
        {
          "output_type": "stream",
          "name": "stdout",
          "text": [
            "Model: \"sequential_16\"\n",
            "_________________________________________________________________\n",
            " Layer (type)                Output Shape              Param #   \n",
            "=================================================================\n",
            " conv_lstm2d_126 (ConvLSTM2  (None, None, 122, 360,    18252     \n",
            " D)                          13)                                 \n",
            "                                                                 \n",
            " batch_normalization_120 (B  (None, None, 122, 360,    52        \n",
            " atchNormalization)          13)                                 \n",
            "                                                                 \n",
            " conv_lstm2d_127 (ConvLSTM2  (None, None, 122, 360,    13664     \n",
            " D)                          14)                                 \n",
            "                                                                 \n",
            " batch_normalization_121 (B  (None, None, 122, 360,    56        \n",
            " atchNormalization)          14)                                 \n",
            "                                                                 \n",
            " conv_lstm2d_128 (ConvLSTM2  (None, None, 122, 360,    24040     \n",
            " D)                          10)                                 \n",
            "                                                                 \n",
            " batch_normalization_122 (B  (None, None, 122, 360,    40        \n",
            " atchNormalization)          10)                                 \n",
            "                                                                 \n",
            " conv_lstm2d_129 (ConvLSTM2  (None, None, 122, 360,    21680     \n",
            " D)                          20)                                 \n",
            "                                                                 \n",
            " batch_normalization_123 (B  (None, None, 122, 360,    80        \n",
            " atchNormalization)          20)                                 \n",
            "                                                                 \n",
            " conv_lstm2d_130 (ConvLSTM2  (None, 122, 360, 16)      20800     \n",
            " D)                                                              \n",
            "                                                                 \n",
            " conv2d_26 (Conv2D)          (None, 122, 360, 1)       145       \n",
            "                                                                 \n",
            "=================================================================\n",
            "Total params: 98809 (385.97 KB)\n",
            "Trainable params: 98695 (385.53 KB)\n",
            "Non-trainable params: 114 (456.00 Byte)\n",
            "_________________________________________________________________\n",
            "None\n"
          ]
        },
        {
          "output_type": "error",
          "ename": "AssertionError",
          "evalue": "ignored",
          "traceback": [
            "\u001b[0;31m---------------------------------------------------------------------------\u001b[0m",
            "\u001b[0;31mAssertionError\u001b[0m                            Traceback (most recent call last)",
            "\u001b[0;32m<ipython-input-124-000c1ba0668f>\u001b[0m in \u001b[0;36m<cell line: 1>\u001b[0;34m()\u001b[0m\n\u001b[0;32m----> 1\u001b[0;31m \u001b[0mfitness\u001b[0m\u001b[0;34m(\u001b[0m\u001b[0mind\u001b[0m\u001b[0;34m)\u001b[0m\u001b[0;34m\u001b[0m\u001b[0;34m\u001b[0m\u001b[0m\n\u001b[0m",
            "\u001b[0;32m<ipython-input-123-b0aa3c02df5b>\u001b[0m in \u001b[0;36mfitness\u001b[0;34m(ind)\u001b[0m\n\u001b[1;32m      2\u001b[0m   \u001b[0mdecoded_ind\u001b[0m \u001b[0;34m=\u001b[0m \u001b[0mdecodificar_ind\u001b[0m\u001b[0;34m(\u001b[0m\u001b[0mind\u001b[0m\u001b[0;34m)\u001b[0m\u001b[0;34m\u001b[0m\u001b[0;34m\u001b[0m\u001b[0m\n\u001b[1;32m      3\u001b[0m   \u001b[0mmodelo\u001b[0m \u001b[0;34m=\u001b[0m \u001b[0mcrear_modelo\u001b[0m\u001b[0;34m(\u001b[0m\u001b[0mdecoded_ind\u001b[0m\u001b[0;34m)\u001b[0m\u001b[0;34m\u001b[0m\u001b[0;34m\u001b[0m\u001b[0m\n\u001b[0;32m----> 4\u001b[0;31m   \u001b[0mval_loss\u001b[0m \u001b[0;34m=\u001b[0m \u001b[0mentrenamiento_parcial\u001b[0m\u001b[0;34m(\u001b[0m\u001b[0mmodelo\u001b[0m\u001b[0;34m,\u001b[0m \u001b[0mdecoded_ind\u001b[0m\u001b[0;34m)\u001b[0m\u001b[0;34m\u001b[0m\u001b[0;34m\u001b[0m\u001b[0m\n\u001b[0m\u001b[1;32m      5\u001b[0m   \u001b[0;32mreturn\u001b[0m \u001b[0mval_loss\u001b[0m\u001b[0;34m\u001b[0m\u001b[0;34m\u001b[0m\u001b[0m\n",
            "\u001b[0;32m<ipython-input-122-4a8049513754>\u001b[0m in \u001b[0;36mentrenamiento_parcial\u001b[0;34m(modelo, decoded_ind)\u001b[0m\n\u001b[1;32m      5\u001b[0m   \u001b[0mbatch_size\u001b[0m \u001b[0;34m=\u001b[0m \u001b[0mdecoded_ind\u001b[0m\u001b[0;34m[\u001b[0m\u001b[0;34m'batch_size'\u001b[0m\u001b[0;34m]\u001b[0m\u001b[0;34m\u001b[0m\u001b[0;34m\u001b[0m\u001b[0m\n\u001b[1;32m      6\u001b[0m \u001b[0;34m\u001b[0m\u001b[0m\n\u001b[0;32m----> 7\u001b[0;31m   history = modelo.fit(\n\u001b[0m\u001b[1;32m      8\u001b[0m     \u001b[0mx_train\u001b[0m\u001b[0;34m,\u001b[0m \u001b[0my_train\u001b[0m\u001b[0;34m,\u001b[0m\u001b[0;34m\u001b[0m\u001b[0;34m\u001b[0m\u001b[0m\n\u001b[1;32m      9\u001b[0m     \u001b[0mbatch_size\u001b[0m\u001b[0;34m=\u001b[0m \u001b[0mbatch_size\u001b[0m\u001b[0;34m,\u001b[0m\u001b[0;34m\u001b[0m\u001b[0;34m\u001b[0m\u001b[0m\n",
            "\u001b[0;32m/usr/local/lib/python3.10/dist-packages/keras/src/utils/traceback_utils.py\u001b[0m in \u001b[0;36merror_handler\u001b[0;34m(*args, **kwargs)\u001b[0m\n\u001b[1;32m     68\u001b[0m             \u001b[0;31m# To get the full stack trace, call:\u001b[0m\u001b[0;34m\u001b[0m\u001b[0;34m\u001b[0m\u001b[0m\n\u001b[1;32m     69\u001b[0m             \u001b[0;31m# `tf.debugging.disable_traceback_filtering()`\u001b[0m\u001b[0;34m\u001b[0m\u001b[0;34m\u001b[0m\u001b[0m\n\u001b[0;32m---> 70\u001b[0;31m             \u001b[0;32mraise\u001b[0m \u001b[0me\u001b[0m\u001b[0;34m.\u001b[0m\u001b[0mwith_traceback\u001b[0m\u001b[0;34m(\u001b[0m\u001b[0mfiltered_tb\u001b[0m\u001b[0;34m)\u001b[0m \u001b[0;32mfrom\u001b[0m \u001b[0;32mNone\u001b[0m\u001b[0;34m\u001b[0m\u001b[0;34m\u001b[0m\u001b[0m\n\u001b[0m\u001b[1;32m     71\u001b[0m         \u001b[0;32mfinally\u001b[0m\u001b[0;34m:\u001b[0m\u001b[0;34m\u001b[0m\u001b[0;34m\u001b[0m\u001b[0m\n\u001b[1;32m     72\u001b[0m             \u001b[0;32mdel\u001b[0m \u001b[0mfiltered_tb\u001b[0m\u001b[0;34m\u001b[0m\u001b[0;34m\u001b[0m\u001b[0m\n",
            "\u001b[0;32m/usr/lib/python3.10/contextlib.py\u001b[0m in \u001b[0;36m__exit__\u001b[0;34m(self, typ, value, traceback)\u001b[0m\n\u001b[1;32m    151\u001b[0m                 \u001b[0mvalue\u001b[0m \u001b[0;34m=\u001b[0m \u001b[0mtyp\u001b[0m\u001b[0;34m(\u001b[0m\u001b[0;34m)\u001b[0m\u001b[0;34m\u001b[0m\u001b[0;34m\u001b[0m\u001b[0m\n\u001b[1;32m    152\u001b[0m             \u001b[0;32mtry\u001b[0m\u001b[0;34m:\u001b[0m\u001b[0;34m\u001b[0m\u001b[0;34m\u001b[0m\u001b[0m\n\u001b[0;32m--> 153\u001b[0;31m                 \u001b[0mself\u001b[0m\u001b[0;34m.\u001b[0m\u001b[0mgen\u001b[0m\u001b[0;34m.\u001b[0m\u001b[0mthrow\u001b[0m\u001b[0;34m(\u001b[0m\u001b[0mtyp\u001b[0m\u001b[0;34m,\u001b[0m \u001b[0mvalue\u001b[0m\u001b[0;34m,\u001b[0m \u001b[0mtraceback\u001b[0m\u001b[0;34m)\u001b[0m\u001b[0;34m\u001b[0m\u001b[0;34m\u001b[0m\u001b[0m\n\u001b[0m\u001b[1;32m    154\u001b[0m             \u001b[0;32mexcept\u001b[0m \u001b[0mStopIteration\u001b[0m \u001b[0;32mas\u001b[0m \u001b[0mexc\u001b[0m\u001b[0;34m:\u001b[0m\u001b[0;34m\u001b[0m\u001b[0;34m\u001b[0m\u001b[0m\n\u001b[1;32m    155\u001b[0m                 \u001b[0;31m# Suppress StopIteration *unless* it's the same exception that\u001b[0m\u001b[0;34m\u001b[0m\u001b[0;34m\u001b[0m\u001b[0m\n",
            "\u001b[0;32m/usr/lib/python3.10/contextlib.py\u001b[0m in \u001b[0;36m__exit__\u001b[0;34m(self, typ, value, traceback)\u001b[0m\n\u001b[1;32m    151\u001b[0m                 \u001b[0mvalue\u001b[0m \u001b[0;34m=\u001b[0m \u001b[0mtyp\u001b[0m\u001b[0;34m(\u001b[0m\u001b[0;34m)\u001b[0m\u001b[0;34m\u001b[0m\u001b[0;34m\u001b[0m\u001b[0m\n\u001b[1;32m    152\u001b[0m             \u001b[0;32mtry\u001b[0m\u001b[0;34m:\u001b[0m\u001b[0;34m\u001b[0m\u001b[0;34m\u001b[0m\u001b[0m\n\u001b[0;32m--> 153\u001b[0;31m                 \u001b[0mself\u001b[0m\u001b[0;34m.\u001b[0m\u001b[0mgen\u001b[0m\u001b[0;34m.\u001b[0m\u001b[0mthrow\u001b[0m\u001b[0;34m(\u001b[0m\u001b[0mtyp\u001b[0m\u001b[0;34m,\u001b[0m \u001b[0mvalue\u001b[0m\u001b[0;34m,\u001b[0m \u001b[0mtraceback\u001b[0m\u001b[0;34m)\u001b[0m\u001b[0;34m\u001b[0m\u001b[0;34m\u001b[0m\u001b[0m\n\u001b[0m\u001b[1;32m    154\u001b[0m             \u001b[0;32mexcept\u001b[0m \u001b[0mStopIteration\u001b[0m \u001b[0;32mas\u001b[0m \u001b[0mexc\u001b[0m\u001b[0;34m:\u001b[0m\u001b[0;34m\u001b[0m\u001b[0;34m\u001b[0m\u001b[0m\n\u001b[1;32m    155\u001b[0m                 \u001b[0;31m# Suppress StopIteration *unless* it's the same exception that\u001b[0m\u001b[0;34m\u001b[0m\u001b[0;34m\u001b[0m\u001b[0m\n",
            "\u001b[0;32m/usr/lib/python3.10/contextlib.py\u001b[0m in \u001b[0;36m__exit__\u001b[0;34m(self, typ, value, traceback)\u001b[0m\n\u001b[1;32m    151\u001b[0m                 \u001b[0mvalue\u001b[0m \u001b[0;34m=\u001b[0m \u001b[0mtyp\u001b[0m\u001b[0;34m(\u001b[0m\u001b[0;34m)\u001b[0m\u001b[0;34m\u001b[0m\u001b[0;34m\u001b[0m\u001b[0m\n\u001b[1;32m    152\u001b[0m             \u001b[0;32mtry\u001b[0m\u001b[0;34m:\u001b[0m\u001b[0;34m\u001b[0m\u001b[0;34m\u001b[0m\u001b[0m\n\u001b[0;32m--> 153\u001b[0;31m                 \u001b[0mself\u001b[0m\u001b[0;34m.\u001b[0m\u001b[0mgen\u001b[0m\u001b[0;34m.\u001b[0m\u001b[0mthrow\u001b[0m\u001b[0;34m(\u001b[0m\u001b[0mtyp\u001b[0m\u001b[0;34m,\u001b[0m \u001b[0mvalue\u001b[0m\u001b[0;34m,\u001b[0m \u001b[0mtraceback\u001b[0m\u001b[0;34m)\u001b[0m\u001b[0;34m\u001b[0m\u001b[0;34m\u001b[0m\u001b[0m\n\u001b[0m\u001b[1;32m    154\u001b[0m             \u001b[0;32mexcept\u001b[0m \u001b[0mStopIteration\u001b[0m \u001b[0;32mas\u001b[0m \u001b[0mexc\u001b[0m\u001b[0;34m:\u001b[0m\u001b[0;34m\u001b[0m\u001b[0;34m\u001b[0m\u001b[0m\n\u001b[1;32m    155\u001b[0m                 \u001b[0;31m# Suppress StopIteration *unless* it's the same exception that\u001b[0m\u001b[0;34m\u001b[0m\u001b[0;34m\u001b[0m\u001b[0m\n",
            "\u001b[0;31mAssertionError\u001b[0m: Nesting violated for default stack of <class 'tensorflow.python.framework.func_graph.FuncGraph'> objects"
          ]
        }
      ]
    }
  ],
  "metadata": {
    "colab": {
      "collapsed_sections": [
        "YNr4xFjnGHRJ",
        "-PlAdLYpCipv"
      ],
      "provenance": [],
      "gpuType": "T4",
      "include_colab_link": true
    },
    "kernelspec": {
      "display_name": "Python 3",
      "name": "python3"
    },
    "language_info": {
      "codemirror_mode": {
        "name": "ipython",
        "version": 3
      },
      "file_extension": ".py",
      "mimetype": "text/x-python",
      "name": "python",
      "nbconvert_exporter": "python",
      "pygments_lexer": "ipython3",
      "version": "3.8.0"
    },
    "accelerator": "GPU"
  },
  "nbformat": 4,
  "nbformat_minor": 0
}