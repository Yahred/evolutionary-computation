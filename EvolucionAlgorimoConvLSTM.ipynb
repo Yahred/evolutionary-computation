{
  "cells": [
    {
      "cell_type": "markdown",
      "metadata": {
        "id": "view-in-github",
        "colab_type": "text"
      },
      "source": [
        "<a href=\"https://colab.research.google.com/github/Yahred/evolutionary-computation/blob/main/EvolucionAlgorimoConvLSTM.ipynb\" target=\"_parent\"><img src=\"https://colab.research.google.com/assets/colab-badge.svg\" alt=\"Open In Colab\"/></a>"
      ]
    },
    {
      "cell_type": "code",
      "execution_count": null,
      "metadata": {
        "id": "qBAOAz4QeY6T"
      },
      "outputs": [],
      "source": [
        "%pip freeze > requirements.txt"
      ]
    },
    {
      "cell_type": "markdown",
      "metadata": {
        "id": "wj2mN70-ao4t"
      },
      "source": [
        "## Variables"
      ]
    },
    {
      "cell_type": "markdown",
      "metadata": {
        "id": "0ZAa8q8JFPbc"
      },
      "source": [
        "* Número de filtros en las capas ConvLSTM2D:\n",
        "\n",
        "Para la primera y segunda capa: 16 (puede ser cualquier entero positivo).\n",
        "Para la tercera capa: también 16 (puede ser cualquier entero positivo).\n",
        "\n",
        "* Tamaño del kernel en las capas ConvLSTM2D:\n",
        "\n",
        "Para la primera y segunda capa: (5,5) (puede ser cualquier par de enteros positivos).\n",
        "Para la tercera capa: (3,3) (puede ser cualquier par de enteros positivos).\n",
        "* Activación en las capas ConvLSTM2D y Conv2D:\n",
        "\n",
        "relu para las capas ConvLSTM2D.\n",
        "sigmoid para la capa Conv2D.\n",
        "Podrían ser 'tanh', 'softmax', etc.\n",
        "* Número de canales (channels) en la capa Conv2D:\n",
        "\n",
        "Depende de tu tarea específica (por ejemplo, 1 para la segmentación binaria, 3 para imágenes RGB).\n",
        "* Función de pérdida al compilar el modelo:\n",
        "\n",
        "binary_crossentropy en este ejemplo.\n",
        "Podrías elegir 'categorical_crossentropy', 'mean_squared_error', etc.\n",
        "* Optimizador al compilar el modelo:\n",
        "\n",
        "Adam en este ejemplo.\n",
        "Podrías elegir 'SGD', 'RMSprop', etc., y también sus hiperparámetros asociados.\n",
        "* patience para EarlyStopping:\n",
        "\n",
        "6 en este ejemplo.\n",
        "Puede ser cualquier entero positivo.\n",
        "* restore_best_weights para EarlyStopping:\n",
        "\n",
        "True en este ejemplo.\n",
        "Puede ser True o False.\n",
        "* patience para ReduceLROnPlateau:\n",
        "\n",
        "4 en este ejemplo.\n",
        "Puede ser cualquier entero positivo.\n",
        "* Epochs:\n",
        "\n",
        "20 en este ejemplo.\n",
        "Puede ser cualquier entero positivo.\n",
        "* Batch size:\n",
        "\n",
        "1 en este ejemplo.\n",
        "Puede ser cualquier entero positivo."
      ]
    },
    {
      "cell_type": "markdown",
      "metadata": {
        "id": "Fuwvf9ZQbBqN"
      },
      "source": [
        "## Librerias y cargar dataset"
      ]
    },
    {
      "cell_type": "code",
      "execution_count": 1,
      "metadata": {
        "id": "hq2EqjYM2kcz"
      },
      "outputs": [],
      "source": [
        "import os\n",
        "import cv2\n",
        "import zipfile\n",
        "import requests\n",
        "import zipfile\n",
        "import io\n",
        "import random\n",
        "\n",
        "import numpy as np\n",
        "import matplotlib.pyplot as plt\n",
        "import tensorflow as tf\n",
        "\n",
        "from tensorflow import keras\n",
        "from tensorflow.keras.layers import ConvLSTM2D, BatchNormalization, Input, Conv2D\n",
        "from PIL import Image\n",
        "from google.colab import files\n",
        "from urllib.request import urlopen\n",
        "from IPython.display import display, HTML"
      ]
    },
    {
      "cell_type": "markdown",
      "source": [
        "Se descarga el dataset por medio de una petición HTTP y se extrae\n"
      ],
      "metadata": {
        "id": "FJncZlbIx_kx"
      }
    },
    {
      "cell_type": "code",
      "source": [
        "url = 'https://github.com/Yahred/evolutionary-computation/raw/main/data/DroughtDatasetMask.zip'\n",
        "response = requests.get(url)\n",
        "data = None\n",
        "\n",
        "if response.status_code != 200:\n",
        "  display(HTML((response.text)))\n",
        "else:\n",
        "  zip_file = io.BytesIO(response.content)\n",
        "  data = zipfile.ZipFile(zip_file, 'r')\n",
        "  data.extractall()"
      ],
      "metadata": {
        "id": "YRX-mfgJugHt"
      },
      "execution_count": 2,
      "outputs": []
    },
    {
      "cell_type": "markdown",
      "metadata": {
        "id": "YNr4xFjnGHRJ"
      },
      "source": [
        "## Funciones"
      ]
    },
    {
      "cell_type": "code",
      "execution_count": 7,
      "metadata": {
        "id": "4EBDpQpZGTpv"
      },
      "outputs": [],
      "source": [
        "def create_shifted_frames_2(data):\n",
        "    x = data[:, 0 : data.shape[1] - 1, :, :]\n",
        "    y = data[:, data.shape[1]-1, :, :]\n",
        "    return x, y"
      ]
    },
    {
      "cell_type": "code",
      "execution_count": 8,
      "metadata": {
        "id": "s3_pJVteGUFU"
      },
      "outputs": [],
      "source": [
        "#Toma todos los colores existentes en la imagen\n",
        "def get_colors(image):\n",
        "  aux = []\n",
        "  band = True\n",
        "  for i in image:\n",
        "    for j in i:\n",
        "\n",
        "      for k in aux:\n",
        "        if j.tolist() == k:\n",
        "          band = False\n",
        "          break\n",
        "      if band:\n",
        "        aux.append(j.tolist())\n",
        "      band = True\n",
        "  return np.array(aux)"
      ]
    },
    {
      "cell_type": "code",
      "execution_count": 9,
      "metadata": {
        "id": "j1G3jCDrGWN7"
      },
      "outputs": [],
      "source": [
        "def balance_img_categories(img, palette, balancer):\n",
        "  #palette = np.sort(palette)\n",
        "  rows = len(img)\n",
        "  cols = len(img[0])\n",
        "  for i in range(rows):\n",
        "    for j in range(cols):\n",
        "      pos = np.where(palette == img[i,j])[0][0]\n",
        "      img[i,j] = balancer[pos]\n",
        "  return img"
      ]
    },
    {
      "cell_type": "code",
      "execution_count": 10,
      "metadata": {
        "id": "MIROb6RBGZML"
      },
      "outputs": [],
      "source": [
        "#Función para dada una paleta solo tomar los colores de esa paleta en la imagen\n",
        "def quantizetopalette(silf, palette, dither=False, mode=\"P\"):\n",
        "  \"\"\"Convert an RGB or L mode image to use a given P image's palette.\"\"\"\n",
        "  silf.load()\n",
        "  palette.load()\n",
        "  im = silf.im.convert(mode, 0, palette.im)\n",
        "  # the 0 above means turn OFF dithering making solid colors\n",
        "  return silf._new(im)"
      ]
    },
    {
      "cell_type": "code",
      "execution_count": 11,
      "metadata": {
        "id": "hcM1PYj9Ga99"
      },
      "outputs": [],
      "source": [
        "#Realiza las operaciones necesarias para obtener una imagen RGB por una paleta de colores\n",
        "def rgb_quantized(img, palette):\n",
        "  rows, cols = len(img), len(img[0])\n",
        "  total_vals = 1\n",
        "  for i in palette.shape:\n",
        "    total_vals *= i\n",
        "  palettedata = palette.reshape(total_vals).tolist()\n",
        "  palImage = Image.new('P', (rows, cols))\n",
        "  palImage.putpalette(palettedata*32)\n",
        "  oldImage = Image.fromarray(img).convert(\"RGB\")\n",
        "  newImage = quantizetopalette(oldImage,palImage)\n",
        "  res_image = np.asarray(newImage.convert(\"RGB\"))\n",
        "  return res_image"
      ]
    },
    {
      "cell_type": "code",
      "execution_count": 12,
      "metadata": {
        "id": "a3jqk96wGcX1"
      },
      "outputs": [],
      "source": [
        "def gray_quantized(img, palette):\n",
        "  rows, cols = len(img), len(img[0])\n",
        "  total_vals = 1\n",
        "  for i in palette.shape:\n",
        "    total_vals *= i\n",
        "  palettedata = palette.reshape(total_vals).tolist()\n",
        "  palImage = Image.new('L', (rows, cols))\n",
        "  palImage.putpalette(palettedata*32)\n",
        "  oldImage = Image.fromarray(img, 'L')\n",
        "  newImage = quantizetopalette(oldImage,palImage, mode=\"L\")\n",
        "  res_image = np.asarray(newImage)\n",
        "  return res_image"
      ]
    },
    {
      "cell_type": "code",
      "execution_count": 13,
      "metadata": {
        "id": "p1y6vWRJGdlb"
      },
      "outputs": [],
      "source": [
        "def recolor_greys_image(data, palette):\n",
        "    rows, cols = len(data), len(data[0])\n",
        "    aux = np.zeros((rows, cols), dtype=np.uint64)\n",
        "    for i in range(rows):\n",
        "        for j in range(cols):\n",
        "            aux[i,j] = min(palette, key= lambda x:abs(x-data[i,j]))\n",
        "    return aux"
      ]
    },
    {
      "cell_type": "code",
      "execution_count": 14,
      "metadata": {
        "id": "ec1Q5aXoGetT"
      },
      "outputs": [],
      "source": [
        "def agroup_window(data, window):\n",
        "    new_data = [data[i:window+i] for i in range(len(data)-window+1)]\n",
        "    return np.array(new_data)"
      ]
    },
    {
      "cell_type": "code",
      "execution_count": 15,
      "metadata": {
        "id": "J21867-jGgAL"
      },
      "outputs": [],
      "source": [
        "def add_last(data, new_vals):\n",
        "    print(f\"data: {data.shape} y new_val: {new_vals.shape}\")\n",
        "    x_test_new = data[:,1:]\n",
        "    print(f\"x_test_new: {x_test_new.shape}\")\n",
        "\n",
        "    l = []\n",
        "    for i in range(len(x_test_new)):\n",
        "        l.append(np.append(x_test_new[i], new_vals[i]))\n",
        "    x_test_new = np.array(l).reshape(data.shape[:])\n",
        "    print(\"CX\", x_test_new.shape)\n",
        "    return x_test_new"
      ]
    },
    {
      "cell_type": "code",
      "execution_count": 16,
      "metadata": {
        "id": "1ZaQ_edXGhMr"
      },
      "outputs": [],
      "source": [
        "def add_lastNew(data, new_val):\n",
        "    print(f\"data: {data.shape} y new_val: {new_val.shape}\")\n",
        "    x_test_new = data[:,1:,...]  # Omite el primer paso de tiempo\n",
        "    print(f\"x_test_new: {x_test_new.shape}\")\n",
        "\n",
        "    # Asumiendo que new_val es una única predicción que se debe añadir a cada paso de tiempo en x_test_new\n",
        "    new_val = new_val.squeeze(axis=0)  # Elimina la dimensión del batch, si es necesario\n",
        "\n",
        "    print(new_val.shape)\n",
        "    # Añadir new_val a cada elemento en x_test_new\n",
        "    x_test_new = np.concatenate((x_test_new, np.expand_dims(new_val, axis=1)), axis=1)\n",
        "\n",
        "    print(\"CX\", x_test_new.shape)\n",
        "    return x_test_new"
      ]
    },
    {
      "cell_type": "code",
      "execution_count": 17,
      "metadata": {
        "id": "kT9Uc7sgGr1U"
      },
      "outputs": [],
      "source": [
        "#Crea cubos con su propia información de tamaño h\n",
        "def get_cubes(data, h):\n",
        "    new_data = []\n",
        "    for i in range(0, len(data)-h):\n",
        "        new_data.append(data[i:i+h])\n",
        "    new_data = np.array(new_data)\n",
        "    print(new_data.shape)\n",
        "    return new_data"
      ]
    },
    {
      "cell_type": "markdown",
      "metadata": {
        "id": "u_UVAWOyGI5j"
      },
      "source": [
        "## Codigo"
      ]
    },
    {
      "cell_type": "markdown",
      "metadata": {
        "id": "HyDHJvcieY6a"
      },
      "source": [
        "Variables iniciales para correr el codigo"
      ]
    },
    {
      "cell_type": "code",
      "execution_count": 3,
      "metadata": {
        "id": "4jB62x-HG3_k"
      },
      "outputs": [],
      "source": [
        "rows = 122\n",
        "cols = 360\n",
        "channels = 1\n",
        "window = 5\n",
        "categories = [0, 35, 70, 119, 177, 220, 255]\n",
        "horizon = 4"
      ]
    },
    {
      "cell_type": "markdown",
      "metadata": {
        "id": "13Mu2Y0IeY6a"
      },
      "source": [
        "De la carpeta con las imagenes pasarlo a un arreglo npy"
      ]
    },
    {
      "cell_type": "code",
      "execution_count": 4,
      "metadata": {
        "id": "liiMS6fLG7uc",
        "colab": {
          "base_uri": "https://localhost:8080/",
          "height": 35
        },
        "outputId": "3f9b3650-533e-4705-b80e-05a470638842"
      },
      "outputs": [
        {
          "output_type": "execute_result",
          "data": {
            "text/plain": [
              "'Images shape: (1240, 122, 360)'"
            ],
            "application/vnd.google.colaboratory.intrinsic+json": {
              "type": "string"
            }
          },
          "metadata": {},
          "execution_count": 4
        }
      ],
      "source": [
        "# Set the path to the folder containing the images\n",
        "path = \"./DroughtDatasetMask\"\n",
        "\n",
        "# Get a list of all the image file names in the folder\n",
        "image_files = [f for f in os.listdir(path) if f.endswith('.jpg') or f.endswith('.png')]\n",
        "\n",
        "# Suponiendo que todas las imágenes tienen el tamaño deseado de 122x360\n",
        "num_images = len(image_files)  # Asegúrate de que este número corresponde al número de imágenes que deseas cargar\n",
        "\n",
        "# Verifica que tengas la cantidad correcta de archivos de imagen\n",
        "if len(image_files) != num_images:\n",
        "    raise ValueError(f\"Expected {num_images} images, but found {len(image_files)}\")\n",
        "\n",
        "# Create an empty numpy array to hold the images\n",
        "images = np.zeros((num_images, rows, cols), dtype=np.uint8)  # Asegúrate de que el tipo de datos sea correcto\n",
        "\n",
        "# Loop through the image files and add each image to the numpy array\n",
        "for i, file in enumerate(sorted(image_files)[:num_images]):  # Asegúrate de que no excedas el número de imágenes deseado\n",
        "    # Load the image using OpenCV\n",
        "    img = cv2.imread(os.path.join(path, file), cv2.IMREAD_GRAYSCALE)  # Directamente en escala de grises\n",
        "    if img.shape != (rows, cols):\n",
        "        raise ValueError(f\"The image {file} has a shape of {img.shape}, but expected {(rows, cols)}\")\n",
        "    # Add the image to the numpy array\n",
        "    images[i] = img\n",
        "\n",
        "# Save the numpy array to a file\n",
        "numpy_array_path = './DroughtDatasetMask.npy'\n",
        "np.save(numpy_array_path, images)\n",
        "\n",
        "\"Images shape: {}\".format(images.shape)"
      ]
    },
    {
      "cell_type": "markdown",
      "metadata": {
        "id": "9cJrgJrUeY6b"
      },
      "source": [
        "cargar dataset en formato npy"
      ]
    },
    {
      "cell_type": "code",
      "execution_count": 5,
      "metadata": {
        "id": "5YZjO4H-LUPo",
        "colab": {
          "base_uri": "https://localhost:8080/"
        },
        "outputId": "56093454-afff-42d3-c042-22755c6af08d"
      },
      "outputs": [
        {
          "output_type": "stream",
          "name": "stdout",
          "text": [
            "(1240, 122, 360)\n"
          ]
        }
      ],
      "source": [
        "x = np.load(numpy_array_path)\n",
        "print (x.shape)"
      ]
    },
    {
      "cell_type": "code",
      "execution_count": 18,
      "metadata": {
        "id": "sT9hyTyxLav7",
        "colab": {
          "base_uri": "https://localhost:8080/"
        },
        "outputId": "7403f429-f974-4de1-9b9d-5a546c39d9b7"
      },
      "outputs": [
        {
          "output_type": "stream",
          "name": "stdout",
          "text": [
            "Colores [  0 255 223 190 215 172 176 212 226 224 169 194  78  69  83 168 181 222\n",
            " 200 217 177 148 165 213 210 184 218 219  76 139 204 113 198 175 156 133\n",
            " 205 225 216  90  89 162 193 211 117  82 159 154  70  99 174 187 209 214\n",
            " 110  98 126 170 220 189 173 182 178 197  72  71 221 104 206 208 138 203\n",
            " 143 188 161 119 127 150 192 166  68  81  62  52  38  36  48  67  66  34\n",
            "  59  64  57  50  40 180  77 101 201 167 130  60 129 191 195 179  41 202\n",
            " 199  94 111]\n",
            "(1240, 122, 360)\n"
          ]
        }
      ],
      "source": [
        "x = np.array([gray_quantized(i, np.array(categories)) for i in x])\n",
        "colors_greys = get_colors(x[1168])\n",
        "print(f\"Colores {colors_greys}\")\n",
        "print(x.shape)"
      ]
    },
    {
      "cell_type": "code",
      "execution_count": 19,
      "metadata": {
        "id": "AudRJNR_LdPY"
      },
      "outputs": [],
      "source": [
        "# x_greys = np.array([recolor_greys_image(img, categories) for img in x])\n",
        "# x = x_greys.astype('float32') / 255\n",
        "# print(get_colors(x[1168]))\n",
        "# print(x.shape)\n",
        "\n",
        "\n",
        "url = 'https://github.com/Yahred/evolutionary-computation/raw/main/data/x_greys.zip'\n",
        "response = requests.get(url)\n",
        "data = None\n",
        "\n",
        "if response.status_code != 200:\n",
        "  display(HTML((response.text)))\n",
        "else:\n",
        "  zip_file = io.BytesIO(response.content)\n",
        "  data = zipfile.ZipFile(zip_file, 'r')\n",
        "  data.extractall()\n",
        "\n",
        "x_greys = np.load('./x_greys.npy')\n",
        "x = x_greys.astype('float32') / 255"
      ]
    },
    {
      "cell_type": "code",
      "execution_count": 20,
      "metadata": {
        "id": "FcV6EJmELe-R",
        "colab": {
          "base_uri": "https://localhost:8080/",
          "height": 489
        },
        "outputId": "72b088b7-08e0-402c-a122-98ed36987091"
      },
      "outputs": [
        {
          "output_type": "stream",
          "name": "stdout",
          "text": [
            "Displaying frames for example 614\n"
          ]
        },
        {
          "output_type": "display_data",
          "data": {
            "text/plain": [
              "<Figure size 1000x800 with 6 Axes>"
            ],
            "image/png": "[encoded data removed]"
          },
          "metadata": {}
        }
      ],
      "source": [
        "#Mostrar imágenes\n",
        "fig, axes = plt.subplots(2, 3, figsize= (10,8))\n",
        "\n",
        "data_choise = np.random.choice(range(len(x)), size= 1)[0]\n",
        "for idx, ax in enumerate(axes.flat):\n",
        "    ax.imshow(np.squeeze(x[data_choise+idx]), cmap='gray')\n",
        "    ax.set_title(f\"Frame {idx + 1}\")\n",
        "    ax.axis(\"off\")\n",
        "print(\"Displaying frames for example {}\".format(data_choise))\n",
        "plt.show()"
      ]
    },
    {
      "cell_type": "code",
      "execution_count": 21,
      "metadata": {
        "id": "IIsnr2RJL01q",
        "colab": {
          "base_uri": "https://localhost:8080/"
        },
        "outputId": "5ce6138f-dd51-4161-8c3c-cc82a6dc29d9"
      },
      "outputs": [
        {
          "output_type": "stream",
          "name": "stdout",
          "text": [
            "(1236, 5, 122, 360)\n"
          ]
        }
      ],
      "source": [
        "x_2 = agroup_window(x, window)\n",
        "print(x_2.shape)\n",
        "x_train = x_2[:int(len(x_2)*.7)]\n",
        "x_test = x_2[int(len(x_2)*.7):]\n",
        "x_validation = x_train[int(len(x_train)*.8):]\n",
        "x_train = x_train[:int(len(x_train)*.8)]"
      ]
    },
    {
      "cell_type": "code",
      "execution_count": 22,
      "metadata": {
        "id": "nqZo0aHeL34i",
        "colab": {
          "base_uri": "https://localhost:8080/"
        },
        "outputId": "e2ac54c6-16af-40a6-b9c8-7795ddeb83b7"
      },
      "outputs": [
        {
          "output_type": "stream",
          "name": "stdout",
          "text": [
            "Forma de datos de entrenamiento: (692, 5, 122, 360, 1)\n",
            "Forma de datos de validación: (173, 5, 122, 360, 1)\n",
            "Forma de datos de pruebas: (371, 5, 122, 360, 1)\n"
          ]
        }
      ],
      "source": [
        "x_train = x_train.reshape(len(x_train), window, rows, cols, channels)\n",
        "x_validation = x_validation.reshape(len(x_validation), window, rows, cols, channels)\n",
        "x_test = x_test.reshape(len(x_test), window, rows, cols, channels)\n",
        "\n",
        "print(\"Forma de datos de entrenamiento: {}\".format(x_train.shape))\n",
        "print(\"Forma de datos de validación: {}\".format(x_validation.shape))\n",
        "print(\"Forma de datos de pruebas: {}\".format(x_test.shape))"
      ]
    },
    {
      "cell_type": "code",
      "execution_count": 23,
      "metadata": {
        "id": "pg2DGMBuL563",
        "colab": {
          "base_uri": "https://localhost:8080/"
        },
        "outputId": "c198282a-cfb7-438b-b913-362e98c9bad8"
      },
      "outputs": [
        {
          "output_type": "stream",
          "name": "stdout",
          "text": [
            "Training dataset shapes: (692, 4, 122, 360, 1), (692, 122, 360, 1)\n",
            "Validation dataset shapes: (173, 4, 122, 360, 1), (173, 122, 360, 1)\n",
            "Test dataset shapes: (371, 4, 122, 360, 1), (371, 122, 360, 1)\n"
          ]
        }
      ],
      "source": [
        "x_train, y_train = create_shifted_frames_2(x_train)\n",
        "x_validation, y_validation = create_shifted_frames_2(x_validation)\n",
        "x_test, y_test = create_shifted_frames_2(x_test)\n",
        "\n",
        "print(\"Training dataset shapes: {}, {}\".format(x_train.shape, y_train.shape))\n",
        "print(\"Validation dataset shapes: {}, {}\".format(x_validation.shape, y_validation.shape))\n",
        "print(\"Test dataset shapes: {}, {}\".format(x_test.shape, y_test.shape))"
      ]
    },
    {
      "cell_type": "code",
      "execution_count": 24,
      "metadata": {
        "id": "Gxa8P7JwL-zR"
      },
      "outputs": [],
      "source": [
        "np.save(\"/content/x_test_mask.npy\", x_test)\n",
        "np.save(\"/content/y_test_mask.npy\", y_test)"
      ]
    },
    {
      "cell_type": "code",
      "execution_count": null,
      "metadata": {
        "id": "_OlOYkOv7l-r"
      },
      "outputs": [],
      "source": [
        "# #Construction of Convolutional LSTM network\n",
        "# inp = keras.layers.Input(shape=(None, *x_train.shape[2:]))\n",
        "# #It will be constructed a 3 ConvLSTM2D layers with batch normalization,\n",
        "# #Followed by a Conv3D layer for the spatiotemporal outputs.\n",
        "# m = keras.layers.ConvLSTM2D(16, (5,5), padding= \"same\", return_sequences= True, activation= \"relu\")(inp)\n",
        "# m = keras.layers.BatchNormalization()(m)\n",
        "# m = keras.layers.ConvLSTM2D(16, (5,5), padding= \"same\", return_sequences= True, activation= \"relu\")(m)\n",
        "# m = keras.layers.BatchNormalization()(m)\n",
        "# m = keras.layers.ConvLSTM2D(16, (3,3), padding= \"same\", activation= \"relu\")(m)\n",
        "# m = keras.layers.Conv2D(channels, (3,3), activation= \"sigmoid\", padding= \"same\")(m)\n",
        "# model = keras.models.Model(inp, m)\n",
        "# model.compile(loss= \"binary_crossentropy\", optimizer= \"Adam\")\n",
        "# print(model.summary())\n",
        "# #Callbacks\n",
        "# early_stopping = keras.callbacks.EarlyStopping(monitor= \"val_loss\", patience= 6, restore_best_weights= True)\n",
        "# reduce_lr = keras.callbacks.ReduceLROnPlateau(monitor= \"val_loss\", patience= 4)\n",
        "# #Define moifiable training hyperparameters\n",
        "# epochs = 20\n",
        "# batch_size = 2\n",
        "# #Model training\n",
        "# model.fit(\n",
        "#     x_train, y_train,\n",
        "#     batch_size= batch_size,\n",
        "#     epochs= epochs,\n",
        "#     validation_data= (x_validation, y_validation),\n",
        "#     callbacks= [early_stopping, reduce_lr]\n",
        "# )"
      ]
    },
    {
      "cell_type": "code",
      "execution_count": 25,
      "metadata": {
        "id": "sffupP98hY0T"
      },
      "outputs": [],
      "source": [
        "# #Guardar el modelo\n",
        "# model.save(\"/content/ConvLSTM2D_Mask122_360.h5\")"
      ]
    },
    {
      "cell_type": "code",
      "execution_count": null,
      "metadata": {
        "id": "FtlrYgBLlvwJ"
      },
      "outputs": [],
      "source": [
        "imagenInicial = np.random.choice(range(len(x_test)), size= 1)[0]\n",
        "print(imagenInicial)"
      ]
    },
    {
      "cell_type": "code",
      "execution_count": null,
      "metadata": {
        "id": "hsWHEqe0pAE0"
      },
      "outputs": [],
      "source": [
        "example = x_test[imagenInicial]\n",
        "\n",
        "print(example.shape)\n",
        "\n",
        "err = model.evaluate(x_test, y_test, batch_size= 2)\n",
        "print(\"El error del modelo es: {}\".format(err))\n",
        "preds = model.predict(x_test, batch_size= 2)\n",
        "print(preds.shape)\n",
        "x_test_new = add_last(x_test, preds[:])\n",
        "preds2 = model.predict(x_test_new, batch_size= 2)\n",
        "#print(preds2.shape)\n",
        "x_test_new = add_last(x_test_new, preds2[:])\n",
        "preds3 = model.predict(x_test_new, batch_size= 2)\n",
        "x_test_new = add_last(x_test_new, preds3[:])\n",
        "preds4 = model.predict(x_test_new, batch_size= 2)\n",
        "res_forecast = add_last(x_test_new, preds4[:])\n",
        "print(\"PREDSS\",res_forecast.shape)\n",
        "\n",
        "np.save(\"/content/PredictionsConvolutionLSTM_forecast_122_360_w5.npy\", res_forecast)  #Guardar el vector de predicciones\n",
        "\n",
        "modelos = []\n",
        "#agregar pred a modelos\n",
        "modelos.append(preds)\n",
        "modelos.append(preds2)\n",
        "modelos.append(preds3)\n",
        "modelos.append(preds4)\n",
        "\n",
        "\n",
        "print(\"Preds\" , preds.shape)\n",
        "print(\"Preds2\" , preds2.shape)\n",
        "print(\"Preds3\" , preds3.shape)\n",
        "print(\"Preds4\" , preds4.shape)\n",
        "print(\"Res_forecast\" , res_forecast.shape)\n",
        "print(\"x_test\" , x_test.shape)\n",
        "print(\"x_test_new\" , x_test_new.shape)\n",
        "print(\"y_test\" , y_test.shape)\n",
        "\n",
        "# Selecciona la primera imagen y elimina la dimensión de canal singular con squeeze()\n",
        "plt.imshow(preds[0].squeeze(), cmap='gray')\n",
        "plt.title(\"First Predicted Image\")\n",
        "plt.axis('off')\n",
        "plt.show()\n",
        "\n"
      ]
    },
    {
      "cell_type": "code",
      "execution_count": null,
      "metadata": {
        "id": "ZZ_34yImDNi9"
      },
      "outputs": [],
      "source": [
        "\n",
        "def get_Positions(data, rows= 122, cols=360):\n",
        "    elements = []\n",
        "    for i in data:\n",
        "        ix = int(i/cols)\n",
        "        iy = int(np.round(((i/cols)-ix)*cols))\n",
        "        elements.append((ix,iy))\n",
        "    #print(index/cols)\n",
        "    #print((index/cols)-ix)\n",
        "    #print(((index/cols)-ix)*cols)\n",
        "    print(\"Posiciones!!! {} , {}\".format(ix, iy))\n",
        "    return elements\n",
        "\n",
        "\n",
        "#Crea cubos con su propia información de tamaño h\n",
        "def get_cubes(data, h):\n",
        "    new_data = []\n",
        "    for i in range(0, len(data)-h):\n",
        "        new_data.append(data[i:i+h])\n",
        "    new_data = np.array(new_data)\n",
        "    print(new_data.shape)\n",
        "    return new_data"
      ]
    },
    {
      "cell_type": "code",
      "execution_count": null,
      "metadata": {
        "id": "mUH5Php6DEdL"
      },
      "outputs": [],
      "source": [
        "\n",
        "classes = np.array([0, 255, 220, 177, 119, 70, 35]) # 255, 220, 177, 119, 70, 35  0\n",
        "classes_rgb = np.array([[0,0,0], [35,35,35], [70,70,70], [119,119,119], [177,177,177], [220,220,220], [255,255,255]])\n",
        "rows = 122\n",
        "cols = 360\n",
        "h = 4\n",
        "\n",
        "data = np.load(\"/content/PredictionsConvolutionLSTM_forecast_122_360_w5.npy\")\n",
        "x_test = np.load(\"/content/x_test_mask.npy\")\n",
        "y_test = np.load(\"/content/y_test_mask.npy\")\n",
        "\n",
        "print(data.shape)\n",
        "print(x_test.shape)\n",
        "print(y_test.shape)\n",
        "\n",
        "y_test = get_cubes(y_test, h)\n",
        "\n",
        "colors = get_colors(x_test[-10,0])\n",
        "print(\"COLORSS\", colors)\n",
        "print(\"COLORS\", colors.shape)\n",
        "\n",
        "colorss = get_colors(data[-10,0])\n",
        "print(\"COLORSS\", colorss)\n",
        "\n",
        "naive = x_test[:-4]\n",
        "data = data[1:-3]\n",
        "\n",
        "#y_real = y_test[:, -h:]*255\n",
        "new_data = data[:, -h:]\n",
        "n_real = naive[:, -h:]*255\n",
        "\n",
        "#y_test = y_test[:, -h:]\n",
        "naive = naive[:, -h:]\n",
        "\n",
        "print(\"XX\")\n",
        "print(y_test.shape)\n",
        "print(new_data.shape)\n",
        "print(n_real.shape)\n",
        "\n",
        "print(min(new_data[0,0,60]))\n",
        "print(max(new_data[0,0,60]))\n",
        "\n",
        "new_data = new_data * 255\n",
        "new_data = new_data.astype(np.uint8)\n",
        "\n",
        "print(\"HEY\", new_data.shape)\n",
        "print(colorss.shape)\n",
        "print(min(new_data[0,0,60]))\n",
        "print(max(new_data[0,0,60]))\n",
        "\n",
        "new_data = new_data.reshape(new_data.shape[:-1])\n",
        "print(\"HoY\", new_data.shape)\n",
        "\n",
        "aux = []\n",
        "for i in new_data:\n",
        "    aux2 = []\n",
        "    for j in i:\n",
        "        #res = cv2.cvtColor(j, cv2.COLOR_GRAY2RGB)\n",
        "        #res = recolor_greys_image(j, classes)\n",
        "        #rgb_quantized(res, classes_rgb)\n",
        "        #res = cv2.cvtColor(res, cv2.COLOR_RGB2GRAY)\n",
        "        res = gray_quantized(j, classes)\n",
        "        res = recolor_greys_image(res, classes)\n",
        "        aux2.append(res)\n",
        "    aux.append(np.array(aux2))\n",
        "new_data = np.array(aux)\n",
        "print(\"SHAPEE\", new_data.shape)\n",
        "color_data = get_colors(new_data[-10,0])\n",
        "print(\"DCOLORS\", color_data)\n",
        "new_data = new_data.reshape(new_data.shape[0],new_data.shape[1],new_data.shape[2],new_data.shape[3],1)\n",
        "\n",
        "#y_test = y_test.reshape((y_test.shape[0], y_test.shape[1], y_test.shape[2]))*255\n",
        "#naive = naive.reshape((naive.shape[0], naive.shape[1], naive.shape[2])) * 255\n",
        "\n",
        "plt.imshow(y_test[0,0], cmap=\"gray\")\n",
        "#plt.show()\n",
        "\n",
        "\n",
        "plt.imshow(new_data[0,0], cmap=\"gray\")\n",
        "#plt.show()\n",
        "\n",
        "\n",
        "plt.imshow(naive[0,0], cmap=\"gray\")\n",
        "#plt.show()\n",
        "\n",
        "y_test = y_test * 255\n",
        "naive = naive * 255\n",
        "\n",
        "print(\"YCOLORS\", get_colors(y_test[-10,0]))\n",
        "print(\"NCOLORS\", get_colors(naive[-10,0]))\n",
        "\n",
        "print(\"XS\")\n",
        "print(new_data.shape)\n",
        "print(y_test.shape)\n",
        "print(naive.shape)\n",
        "\n",
        "l_clas = len(classes)\n",
        "\n",
        "fig = plt.figure(figsize=(20,20))\n",
        "r = 3\n",
        "c = 4\n",
        "ac = 1\n",
        "pos = 100\n",
        "for i in range(h):\n",
        "    fig.add_subplot(r, c, ac)\n",
        "    ac += 1\n",
        "    plt.imshow(y_test[pos,i], cmap='gray')\n",
        "    plt.axis('off')\n",
        "    plt.title('Original_t+{}'.format(i+1))\n",
        "for i in range(h):\n",
        "    fig.add_subplot(r, c, ac)\n",
        "    ac += 1\n",
        "    plt.imshow(new_data[pos,i], cmap='gray')\n",
        "    plt.axis('off')\n",
        "    plt.title('Pronóstico_t+{}'.format(i+1))\n",
        "for i in range(h):\n",
        "    fig.add_subplot(r, c, ac)\n",
        "    ac += 1\n",
        "    plt.imshow(naive[pos,i], cmap='gray')\n",
        "    plt.axis('off')\n",
        "    plt.title('Naive_t+{}'.format(i+1))\n",
        "\n",
        "#plt.show()\n",
        "\n",
        "cm_f = np.zeros((l_clas, l_clas), dtype=np.uint64)\n",
        "cm_n = np.zeros((l_clas, l_clas), dtype=np.uint64)\n",
        "print(cm_f)\n",
        "\n",
        "for e in range(y_test.shape[0]):\n",
        "    for k in range(h):\n",
        "        for i in range(rows):\n",
        "            for j in range(cols):\n",
        "                pos1 = np.where(classes == y_test[e, k, i, j])[0][0]\n",
        "                pos2 = np.where(classes == new_data[e, k, i, j])[0][0]\n",
        "                pos3 = np.where(classes == naive[e, k, i, j])[0][0]\n",
        "                cm_f[pos1, pos2] += 1\n",
        "                cm_n[pos1, pos3] += 1\n",
        "\n",
        "print(\"Matriz de confusión de pronóstico\")\n",
        "print(cm_f)\n",
        "print(\"Matriz de confusión de naive\")\n",
        "print(cm_n)"
      ]
    },
    {
      "cell_type": "code",
      "execution_count": null,
      "metadata": {
        "id": "JX6TssIBuxzU"
      },
      "outputs": [],
      "source": [
        "fig = plt.figure(figsize=(20,20))\n",
        "r = 3\n",
        "c = 4\n",
        "ac = 1\n",
        "pos = 100\n",
        "for i in range(h):\n",
        "    fig.add_subplot(r, c, ac)\n",
        "    ac += 1\n",
        "    plt.imshow(y_test[pos,i], cmap='gray')\n",
        "    plt.axis('off')\n",
        "    plt.title('Original_t+{}'.format(i+1))\n",
        "for i in range(h):\n",
        "    fig.add_subplot(r, c, ac)\n",
        "    ac += 1\n",
        "    plt.imshow(new_data[pos,i], cmap='gray')\n",
        "    plt.axis('off')\n",
        "    plt.title('Pronóstico_t+{}'.format(i+1))\n",
        "for i in range(h):\n",
        "    fig.add_subplot(r, c, ac)\n",
        "    ac += 1\n",
        "    plt.imshow(naive[pos,i], cmap='gray')\n",
        "    plt.axis('off')\n",
        "    plt.title('Naive_t+{}'.format(i+1))\n",
        "\n",
        "plt.show()"
      ]
    },
    {
      "cell_type": "markdown",
      "metadata": {
        "id": "-PlAdLYpCipv"
      },
      "source": [
        "## not working"
      ]
    },
    {
      "cell_type": "code",
      "execution_count": null,
      "metadata": {
        "id": "QXlls_V5CiRT"
      },
      "outputs": [],
      "source": [
        "n_images = 5  # Define cuántas imágenes quieres mostrar\n",
        "fig, axes = plt.subplots(1, n_images, figsize=(20, 4))\n",
        "for i in range(n_images):\n",
        "    for j in range(len(modelos)):\n",
        "        # Asegúrate de que cada imagen es una matriz 2D al usar squeeze()\n",
        "        axes[i].imshow(modelos[j][i].squeeze(), cmap='gray')\n",
        "        axes[i].set_title(f\"Predicted Image {i+1}\")\n",
        "        axes[i].axis('off')\n",
        "plt.tight_layout()\n",
        "plt.show()"
      ]
    },
    {
      "cell_type": "code",
      "execution_count": null,
      "metadata": {
        "id": "dZi4x6tK0Tsq"
      },
      "outputs": [],
      "source": [
        "n_images = 5  # Define cuántas imágenes quieres mostrar\n",
        "fig, axes = plt.subplots(1, n_images, figsize=(20, 4))\n",
        "for i in range(n_images):\n",
        "    #Asegúrate de que cada imagen es una matriz 2D al usar squeeze()\n",
        "    print(f\"Shape of predicted: {preds[i].shape}\")\n",
        "    axes[i].imshow(preds[i].squeeze(), cmap='gray')\n",
        "    print(f\"Shape of predicted image: {preds[i].shape}\")\n",
        "    axes[i].set_title(f\"Predicted Image {i+1}\")\n",
        "    axes[i].axis('off')\n",
        "plt.tight_layout()\n",
        "plt.show()"
      ]
    },
    {
      "cell_type": "code",
      "execution_count": null,
      "metadata": {
        "id": "8ZNoKSYh9sEb"
      },
      "outputs": [],
      "source": [
        "imagenInicial = np.random.choice(range(len(x_test)), size= 1)[0]\n",
        "print(imagenInicial)"
      ]
    },
    {
      "cell_type": "code",
      "execution_count": null,
      "metadata": {
        "id": "a-FTBqqCzPcO"
      },
      "outputs": [],
      "source": [
        "\n",
        "example = x_test[imagenInicial]\n",
        "#frames = example[:4, ...]\n",
        "#original_frames = example[4:, ...]\n",
        "print(example.shape)\n",
        "#print(frames.shape)\n",
        "#print(original_frames.shape)\n",
        "for _ in range(horizon):\n",
        "    print(example.shape)\n",
        "    new_prediction = model.predict(example.reshape(1,*example.shape[0:]))\n",
        "    example = np.concatenate((example[1:], new_prediction), axis=0)\n",
        "    print(f\"example {example.shape}\")\n",
        "predictions = example[:-3]\n",
        "print(predictions.shape)\n",
        "# Selecciona la primera imagen y elimina la dimensión de canal singular con squeeze()\n",
        "plt.imshow(predictions[0].squeeze(), cmap='gray')\n",
        "plt.title(\"First Predicted Image\")\n",
        "plt.axis('off')\n",
        "plt.show()"
      ]
    },
    {
      "cell_type": "code",
      "execution_count": null,
      "metadata": {
        "id": "qpw7PAJR-FhC"
      },
      "outputs": [],
      "source": [
        "\n",
        "example = x_test[imagenInicial]\n",
        "#frames = example[:4, ...]\n",
        "#original_frames = example[4:, ...]\n",
        "print(example.shape)\n",
        "#print(frames.shape)\n",
        "#print(original_frames.shape)\n",
        "for _ in range(horizon):\n",
        "    print(example.shape)\n",
        "    new_prediction = model.predict(example.reshape(1,*example.shape[0:]))\n",
        "    example = np.concatenate((example[1:], new_prediction), axis=0)\n",
        "    print(f\"example {example.shape}\")\n",
        "predictions = example[:-3]\n",
        "print(predictions.shape)\n",
        "# Selecciona la primera imagen y elimina la dimensión de canal singular con squeeze()\n",
        "\n",
        "for i in range(horizon):\n",
        "    plt.imshow(example[i].squeeze(), cmap='gray')\n",
        "    plt.title(f\"{i+1} Predicted Image\")\n",
        "    plt.axis('off')\n",
        "    plt.show()"
      ]
    },
    {
      "cell_type": "code",
      "execution_count": null,
      "metadata": {
        "id": "fGvvfn9P_Vh0"
      },
      "outputs": [],
      "source": [
        "x_test = x_test[imagenInicial]\n",
        "for i in range(horizon):\n",
        "    plt.imshow(x_test[i].squeeze(), cmap='gray')\n",
        "    plt.title(f\"{i+1} Predicted Image\")\n",
        "    plt.axis('off')\n",
        "    plt.show()"
      ]
    },
    {
      "cell_type": "markdown",
      "source": [
        "# Optimización mediante GAc"
      ],
      "metadata": {
        "id": "YX8vsW6k0VRg"
      }
    },
    {
      "cell_type": "markdown",
      "source": [
        "Se define el algoritmo genético compacto"
      ],
      "metadata": {
        "id": "zCl08lK-0sfK"
      }
    },
    {
      "cell_type": "code",
      "source": [
        "import random\n",
        "\n",
        "class Individual:\n",
        "    def __init__(self, chrom: list[int]) -> None:\n",
        "        self.chrom = chrom\n",
        "        self.fitness = None\n",
        "\n",
        "    def __str__(self) -> str:\n",
        "        return '{} Fitness: {}'.format(self.chrom, self.fitness)\n",
        "\n",
        "\n",
        "def initialize_probs(num_genes: int) -> list[float]:\n",
        "    return [0.5 for _ in range(num_genes)]\n",
        "\n",
        "\n",
        "def create_individual(probs: list[float]):\n",
        "    chrom = ['1' if random.uniform(0, 1) < prob else '0' for prob in probs]\n",
        "    return Individual(''.join(chrom))\n",
        "\n",
        "\n",
        "def compete(a: Individual, b: Individual, fitness: callable, fitness_min: bool):\n",
        "    a.fitness = fitness(a.chrom)\n",
        "    b.fitness = fitness(b.chrom)\n",
        "\n",
        "    if a.fitness < b.fitness and fitness_min:\n",
        "        return a, b\n",
        "\n",
        "    if a.fitness > b.fitness and not fitness_min:\n",
        "        return a, b\n",
        "\n",
        "    return b, a\n",
        "\n",
        "\n",
        "def adjust_probs(probs: list[float], winner: Individual, loser: Individual, poblacion: int):\n",
        "    new_probs = []\n",
        "\n",
        "    for i in range(len(probs)):\n",
        "        loser_gen = loser.chrom[i]\n",
        "        winner_gen = winner.chrom[i]\n",
        "\n",
        "        if winner_gen == loser_gen:\n",
        "            new_probs.append(probs[i])\n",
        "            continue\n",
        "\n",
        "        if winner_gen == '0':\n",
        "            new_probs.append(probs[i] - (1 / poblacion))\n",
        "            continue\n",
        "\n",
        "        new_probs.append(probs[i] + (1 / poblacion))\n",
        "    return new_probs\n",
        "\n",
        "\n",
        "def has_converged(probs: list[float], convergence_criteria: float):\n",
        "    for prob in probs:\n",
        "        diff = 1 - prob\n",
        "        if diff > convergence_criteria:\n",
        "            return False\n",
        "    return True\n",
        "\n",
        "def update_hof(winner: Individual, hall_of_fame: list[Individual], size: int, fitness_min: bool = False):\n",
        "  if not hall_of_fame:\n",
        "    hall_of_fame.append(winner)\n",
        "    return\n",
        "\n",
        "  if not fitness_min and hall_of_fame[-1].fitness > winner.fitness and len(hall_of_fame) == size:\n",
        "    return\n",
        "\n",
        "  if fitness_min and hall_of_fame[-1].fitness < winner.fitness and len(hall_of_fame) == size:\n",
        "    return\n",
        "\n",
        "  insertion_point = 0\n",
        "  for i in range(len(hall_of_fame) - 1, -1, -1):\n",
        "    ancestor = hall_of_fame[i]\n",
        "    if not fitness_min and ancestor.fitness > winner.fitness:\n",
        "      insertion_point = i + 1\n",
        "      break\n",
        "\n",
        "    if fitness_min and ancestor.fitness < winner.fitness:\n",
        "      insertion_point = i + 1\n",
        "      break\n",
        "\n",
        "  if insertion_point == len(hall_of_fame):\n",
        "    hall_of_fame.append(winner)\n",
        "    return\n",
        "\n",
        "  prev = None\n",
        "  for i in range(insertion_point, size):\n",
        "    if not prev:\n",
        "      prev = hall_of_fame[i]\n",
        "      hall_of_fame[i] = winner\n",
        "      continue\n",
        "\n",
        "    if len(hall_of_fame) <= i and len(hall_of_fame) < size:\n",
        "      hall_of_fame.append(prev)\n",
        "      break\n",
        "\n",
        "    aux = hall_of_fame[i]\n",
        "    hall_of_fame[i] = prev\n",
        "    prev = aux\n",
        "\n",
        "\n",
        "def evolve(fitness: callable, num_genes: int, generations: int, poblacion: int = 50, convergence_criteria=0.001, fitness_min=False, hof = 1):\n",
        "    best = None\n",
        "    probs = initialize_probs(num_genes)\n",
        "    hall_of_fame: list[Individual] = []\n",
        "\n",
        "    for _ in range(generations):\n",
        "        a = create_individual(probs)\n",
        "        b = create_individual(probs)\n",
        "\n",
        "        winner, loser = compete(a, b, fitness, fitness_min)\n",
        "\n",
        "        if not best:\n",
        "            best = winner\n",
        "        elif winner.fitness > best.fitness and not fitness_min:\n",
        "            best = winner\n",
        "        elif winner.fitness < best.fitness and fitness_min:\n",
        "            best = winner\n",
        "\n",
        "        if hof > 1:\n",
        "          update_hof(winner, hall_of_fame, hof, fitness_min)\n",
        "\n",
        "        probs = adjust_probs(probs, winner, loser, poblacion)\n",
        "\n",
        "        if has_converged(probs, convergence_criteria):\n",
        "            break\n",
        "\n",
        "    if hof > 1:\n",
        "      return best, hall_of_fame\n",
        "\n",
        "    return best.chrom, best.fitness"
      ],
      "metadata": {
        "id": "0cU_--7M0veY"
      },
      "execution_count": 26,
      "outputs": []
    },
    {
      "cell_type": "markdown",
      "source": [
        "Se definen los hiperparámetros a evolucionar:\n",
        "   \n",
        "\n",
        "*   batch_size\n",
        "*   optimizer\n",
        "*   learning_rate\n",
        "*   loss\n",
        "\n"
      ],
      "metadata": {
        "id": "ge5IuZWP06Oc"
      }
    },
    {
      "cell_type": "markdown",
      "source": [
        "Definimos una clase HiperParametro que nos ayudará a decodificar a los individuos"
      ],
      "metadata": {
        "id": "svpaiFgj1n6K"
      }
    },
    {
      "cell_type": "code",
      "source": [
        "N_BITS_DECIMAL = 4\n",
        "\n",
        "class HiperParametro:\n",
        "    def __init__(self, nombre, n_bits, posibles_opciones, es_decimal = False) -> None:\n",
        "        self.nombre = nombre\n",
        "        self.n_bits = n_bits\n",
        "        self.posibles_opciones = posibles_opciones\n",
        "        self.es_decimal = es_decimal\n",
        "\n",
        "    def transformar_decimal(self, bin: str):\n",
        "        n_bits = N_BITS_DECIMAL\n",
        "        decimal = '0.'\n",
        "\n",
        "        es_uno = True\n",
        "        for _ in range(0, len(bin), n_bits):\n",
        "            digito = int(bin[: n_bits], 2)\n",
        "            bin = bin[n_bits :]\n",
        "\n",
        "            if digito > 9 or digito == 0:\n",
        "                digito = 0\n",
        "            else:\n",
        "                es_uno = False\n",
        "\n",
        "            decimal += str(digito)\n",
        "\n",
        "        return float(decimal)\n",
        "\n",
        "    def transformar_rango(self, seleccion: int):\n",
        "        inferior, superior = self.posibles_opciones\n",
        "        if seleccion + inferior > superior:\n",
        "            return superior\n",
        "        return seleccion + inferior\n",
        "\n",
        "    def obtener_seleccion(self, bin: str):\n",
        "        seleccion = int(bin, 2)\n",
        "\n",
        "        if self.es_decimal:\n",
        "            return self.transformar_decimal(bin)\n",
        "\n",
        "        if isinstance(self.posibles_opciones, list):\n",
        "            i = seleccion if seleccion < len(self.posibles_opciones) else len(self.posibles_opciones) - 1\n",
        "            return self.posibles_opciones[i]\n",
        "\n",
        "        if isinstance(self.posibles_opciones, tuple):\n",
        "            return self.transformar_rango(seleccion)\n",
        "\n",
        "        return 0"
      ],
      "metadata": {
        "id": "AqqUhwMPP-V_"
      },
      "execution_count": 27,
      "outputs": []
    },
    {
      "cell_type": "markdown",
      "source": [
        "Definimos dos listas de la clase HiperParametro para el conjunto de hiperparametros que vamos a entrenar"
      ],
      "metadata": {
        "id": "Uf27l4kBa5cu"
      }
    },
    {
      "cell_type": "code",
      "source": [
        "MAX_MODULOS = 6\n",
        "hiper_parametros_modelo = [\n",
        "  HiperParametro('loss', 3, ['binary_crossentropy', 'mse', 'mae']),\n",
        "  HiperParametro('batch_size', 3, (2, 8)),\n",
        "  HiperParametro('optimizer', 2, ['adam', 'rmsprop', 'sgd']),\n",
        "  HiperParametro('n_modulos', 3, (1, MAX_MODULOS)),\n",
        "]\n",
        "\n",
        "hiper_parametros_arq = [\n",
        "  HiperParametro('kernel', 1, [(3,3), (5,5)]),\n",
        "  HiperParametro('filters', 4, (8, 32)),\n",
        "  HiperParametro('dropout', 12, N_BITS_DECIMAL, True),\n",
        "  HiperParametro('recurrent_dropout', 12, N_BITS_DECIMAL, True),\n",
        "]"
      ],
      "metadata": {
        "id": "HNR3oNWta5vW"
      },
      "execution_count": 28,
      "outputs": []
    },
    {
      "cell_type": "markdown",
      "source": [
        "Definimos una función que nos ayudará a decodificar un individuo"
      ],
      "metadata": {
        "id": "_NYMr53tazF2"
      }
    },
    {
      "cell_type": "code",
      "source": [
        "def decodificar_ind(ind: str):\n",
        "  bin = ind\n",
        "  ind_decodificado = {}\n",
        "\n",
        "  for hiper_parametro in hiper_parametros_modelo:\n",
        "    bin_seleccion = bin[0 : hiper_parametro.n_bits]\n",
        "    bin = bin[hiper_parametro.n_bits :]\n",
        "\n",
        "    ind_decodificado[hiper_parametro.nombre] = hiper_parametro.obtener_seleccion(bin_seleccion)\n",
        "\n",
        "  ind_decodificado['modulos'] = []\n",
        "  for _ in range(ind_decodificado['n_modulos']):\n",
        "    modulo = {}\n",
        "    for hiper_parametro in hiper_parametros_arq:\n",
        "      bin_seleccion = bin[0 : hiper_parametro.n_bits]\n",
        "      bin = bin[hiper_parametro.n_bits : ]\n",
        "\n",
        "      modulo[hiper_parametro.nombre] = hiper_parametro.obtener_seleccion(bin_seleccion)\n",
        "    ind_decodificado['modulos'].append(modulo)\n",
        "\n",
        "  return ind_decodificado"
      ],
      "metadata": {
        "id": "vL7J7ospaykI"
      },
      "execution_count": 29,
      "outputs": []
    },
    {
      "cell_type": "markdown",
      "source": [
        "Definimos una función para crear la arquitectura de nuestro modelo proviniente de un individuo decodificado"
      ],
      "metadata": {
        "id": "OJy6TBhMbYst"
      }
    },
    {
      "cell_type": "code",
      "source": [
        "def crear_modelo(decoded_ind):\n",
        "  arquitectura = [\n",
        "      Input(shape=(None, *x_train.shape[2:])),\n",
        "  ]\n",
        "\n",
        "  for modulo in decoded_ind['modulos']:\n",
        "    filters = modulo['filters']\n",
        "    kernel = modulo['kernel']\n",
        "    dropout = modulo['dropout']\n",
        "    recurrent_dropout = modulo['recurrent_dropout']\n",
        "\n",
        "    arquitectura += [\n",
        "       ConvLSTM2D(modulo['filters'], modulo['kernel'] , padding=\"same\", dropout=dropout,  return_sequences=True, activation=\"relu\"),\n",
        "       BatchNormalization()\n",
        "    ]\n",
        "\n",
        "  arquitectura += [\n",
        "      ConvLSTM2D(16, (3,3), padding= \"same\", activation= \"relu\"),\n",
        "      Conv2D(channels, (3,3), activation=\"sigmoid\", padding=\"same\")\n",
        "    ]\n",
        "\n",
        "  model = keras.models.Sequential(arquitectura)\n",
        "  model.compile(loss=decoded_ind['loss'], optimizer=decoded_ind['optimizer'])\n",
        "\n",
        "  print(model.summary())\n",
        "\n",
        "  return model"
      ],
      "metadata": {
        "id": "6SkIJ_GBb4Q1"
      },
      "execution_count": 30,
      "outputs": []
    },
    {
      "cell_type": "markdown",
      "source": [
        "Definimos la función que realizará el entrenamiento parcial"
      ],
      "metadata": {
        "id": "MCcjUKqyubHv"
      }
    },
    {
      "cell_type": "code",
      "source": [
        "def entrenamiento_parcial(modelo: keras.Model, decoded_ind):\n",
        "  early_stopping = keras.callbacks.EarlyStopping(monitor= \"val_loss\", patience=6, restore_best_weights= True)\n",
        "  reduce_lr = keras.callbacks.ReduceLROnPlateau(monitor= \"val_loss\", patience= 4)\n",
        "  epochs = 1\n",
        "  batch_size = decoded_ind['batch_size']\n",
        "\n",
        "  history = modelo.fit(\n",
        "    x_train, y_train,\n",
        "    batch_size= batch_size,\n",
        "    epochs= epochs,\n",
        "    validation_data= (x_validation, y_validation),\n",
        "    callbacks= [early_stopping, reduce_lr],\n",
        "  )\n",
        "\n",
        "  validation_loss, = history.history['val_loss']\n",
        "\n",
        "  return validation_loss"
      ],
      "metadata": {
        "id": "prGlqx6luhwy"
      },
      "execution_count": 31,
      "outputs": []
    },
    {
      "cell_type": "markdown",
      "source": [
        "Se define la función de aptitud"
      ],
      "metadata": {
        "id": "EqcnDuUebVa_"
      }
    },
    {
      "cell_type": "code",
      "source": [
        "def fitness(ind: str):\n",
        "  decoded_ind = decodificar_ind(ind)\n",
        "  modelo = crear_modelo(decoded_ind)\n",
        "  val_loss = entrenamiento_parcial(modelo, decoded_ind)\n",
        "  return val_loss"
      ],
      "metadata": {
        "id": "uzMQxqo71NH0"
      },
      "execution_count": 32,
      "outputs": []
    },
    {
      "cell_type": "markdown",
      "source": [
        "Calculamos el tamaño del cromosoma del individuo"
      ],
      "metadata": {
        "id": "Je44ZyxsS-nu"
      }
    },
    {
      "cell_type": "code",
      "source": [
        "LONGITUD_CROMOSOMA = sum([param.n_bits for param in hiper_parametros_modelo])\n",
        "LONGITUD_CROMOSOMA += sum([param.n_bits for param in hiper_parametros_arq]) * MAX_MODULOS\n",
        "\n",
        "LONGITUD_CROMOSOMA"
      ],
      "metadata": {
        "colab": {
          "base_uri": "https://localhost:8080/"
        },
        "id": "mJJnqAnsTCOV",
        "outputId": "e01411e1-3601-4d5c-9bd5-dc12a710bc24"
      },
      "execution_count": 33,
      "outputs": [
        {
          "output_type": "execute_result",
          "data": {
            "text/plain": [
              "185"
            ]
          },
          "metadata": {},
          "execution_count": 33
        }
      ]
    },
    {
      "cell_type": "markdown",
      "source": [
        "Se realizan pruebas con un individuo"
      ],
      "metadata": {
        "id": "7XD-4QotVdcA"
      }
    },
    {
      "cell_type": "code",
      "source": [
        "ind = ''.join([random.choice(['0', '1']) for _ in range(LONGITUD_CROMOSOMA)])\n",
        "ind"
      ],
      "metadata": {
        "colab": {
          "base_uri": "https://localhost:8080/",
          "height": 53
        },
        "id": "QgN7LBAkVg6O",
        "outputId": "4a4e99a2-8602-447b-ff32-bbdeebcae799"
      },
      "execution_count": 34,
      "outputs": [
        {
          "output_type": "execute_result",
          "data": {
            "text/plain": [
              "'10011100001101001001100101011100110100111111000100011100010001100000001010101100000110001010111000100100100110010101101000100000001001100011101011110001010111000110011001110100100111001'"
            ],
            "application/vnd.google.colaboratory.intrinsic+json": {
              "type": "string"
            }
          },
          "metadata": {},
          "execution_count": 34
        }
      ]
    },
    {
      "cell_type": "code",
      "source": [
        "decoded = decodificar_ind(ind)\n",
        "decoded"
      ],
      "metadata": {
        "colab": {
          "base_uri": "https://localhost:8080/"
        },
        "id": "TDnix98gV1gP",
        "outputId": "a5e757b0-2bba-4691-d4f3-68e8a6a2b242"
      },
      "execution_count": 35,
      "outputs": [
        {
          "output_type": "execute_result",
          "data": {
            "text/plain": [
              "{'loss': 'mae',\n",
              " 'batch_size': 8,\n",
              " 'optimizer': 'adam',\n",
              " 'n_modulos': 2,\n",
              " 'modulos': [{'kernel': (5, 5),\n",
              "   'filters': 12,\n",
              "   'dropout': 0.995,\n",
              "   'recurrent_dropout': 0.003},\n",
              "  {'kernel': (5, 5),\n",
              "   'filters': 22,\n",
              "   'dropout': 0.238,\n",
              "   'recurrent_dropout': 0.8}]}"
            ]
          },
          "metadata": {},
          "execution_count": 35
        }
      ]
    },
    {
      "cell_type": "code",
      "source": [
        "generations = 10\n",
        "poblacion = 100\n",
        "hof = 3\n",
        "best, hof = evolve(fitness, LONGITUD_CROMOSOMA, fitness_min=True, hof=hof, generations=generations, poblacion=poblacion)"
      ],
      "metadata": {
        "colab": {
          "base_uri": "https://localhost:8080/"
        },
        "id": "Ic-DgxpTlJRc",
        "outputId": "35c8b0dc-e031-45d5-b17f-cb8ce3c2be3c"
      },
      "execution_count": 36,
      "outputs": [
        {
          "output_type": "stream",
          "name": "stdout",
          "text": [
            "Model: \"sequential\"\n",
            "_________________________________________________________________\n",
            " Layer (type)                Output Shape              Param #   \n",
            "=================================================================\n",
            " conv_lstm2d (ConvLSTM2D)    (None, None, 122, 360,    24060     \n",
            "                             15)                                 \n",
            "                                                                 \n",
            " batch_normalization (Batch  (None, None, 122, 360,    60        \n",
            " Normalization)              15)                                 \n",
            "                                                                 \n",
            " conv_lstm2d_1 (ConvLSTM2D)  (None, None, 122, 360,    40656     \n",
            "                             14)                                 \n",
            "                                                                 \n",
            " batch_normalization_1 (Bat  (None, None, 122, 360,    56        \n",
            " chNormalization)            14)                                 \n",
            "                                                                 \n",
            " conv_lstm2d_2 (ConvLSTM2D)  (None, None, 122, 360,    35152     \n",
            "                             13)                                 \n",
            "                                                                 \n",
            " batch_normalization_2 (Bat  (None, None, 122, 360,    52        \n",
            " chNormalization)            13)                                 \n",
            "                                                                 \n",
            " conv_lstm2d_3 (ConvLSTM2D)  (None, 122, 360, 16)      16768     \n",
            "                                                                 \n",
            " conv2d (Conv2D)             (None, 122, 360, 1)       145       \n",
            "                                                                 \n",
            "=================================================================\n",
            "Total params: 116949 (456.83 KB)\n",
            "Trainable params: 116865 (456.50 KB)\n",
            "Non-trainable params: 84 (336.00 Byte)\n",
            "_________________________________________________________________\n",
            "None\n",
            "87/87 [==============================] - 133s 1s/step - loss: 0.0436 - val_loss: 0.4320 - lr: 0.0010\n",
            "Model: \"sequential_1\"\n",
            "_________________________________________________________________\n",
            " Layer (type)                Output Shape              Param #   \n",
            "=================================================================\n",
            " conv_lstm2d_4 (ConvLSTM2D)  (None, None, 122, 360,    18304     \n",
            "                             22)                                 \n",
            "                                                                 \n",
            " batch_normalization_3 (Bat  (None, None, 122, 360,    88        \n",
            " chNormalization)            22)                                 \n",
            "                                                                 \n",
            " conv_lstm2d_5 (ConvLSTM2D)  (None, None, 122, 360,    40848     \n",
            "                             12)                                 \n",
            "                                                                 \n",
            " batch_normalization_4 (Bat  (None, None, 122, 360,    48        \n",
            " chNormalization)            12)                                 \n",
            "                                                                 \n",
            " conv_lstm2d_6 (ConvLSTM2D)  (None, None, 122, 360,    36456     \n",
            "                             14)                                 \n",
            "                                                                 \n",
            " batch_normalization_5 (Bat  (None, None, 122, 360,    56        \n",
            " chNormalization)            14)                                 \n",
            "                                                                 \n",
            " conv_lstm2d_7 (ConvLSTM2D)  (None, None, 122, 360,    27544     \n",
            "                             11)                                 \n",
            "                                                                 \n",
            " batch_normalization_6 (Bat  (None, None, 122, 360,    44        \n",
            " chNormalization)            11)                                 \n",
            "                                                                 \n",
            " conv_lstm2d_8 (ConvLSTM2D)  (None, None, 122, 360,    57076     \n",
            "                             19)                                 \n",
            "                                                                 \n",
            " batch_normalization_7 (Bat  (None, None, 122, 360,    76        \n",
            " chNormalization)            19)                                 \n",
            "                                                                 \n",
            " conv_lstm2d_9 (ConvLSTM2D)  (None, None, 122, 360,    10480     \n",
            "                             10)                                 \n",
            "                                                                 \n",
            " batch_normalization_8 (Bat  (None, None, 122, 360,    40        \n",
            " chNormalization)            10)                                 \n",
            "                                                                 \n",
            " conv_lstm2d_10 (ConvLSTM2D  (None, 122, 360, 16)      15040     \n",
            " )                                                               \n",
            "                                                                 \n",
            " conv2d_1 (Conv2D)           (None, 122, 360, 1)       145       \n",
            "                                                                 \n",
            "=================================================================\n",
            "Total params: 206245 (805.64 KB)\n",
            "Trainable params: 206069 (804.96 KB)\n",
            "Non-trainable params: 176 (704.00 Byte)\n",
            "_________________________________________________________________\n",
            "None\n",
            "139/139 [==============================] - 242s 2s/step - loss: 0.0530 - val_loss: 0.4247 - lr: 0.0010\n",
            "Model: \"sequential_2\"\n",
            "_________________________________________________________________\n",
            " Layer (type)                Output Shape              Param #   \n",
            "=================================================================\n",
            " conv_lstm2d_11 (ConvLSTM2D  (None, None, 122, 360,    55292     \n",
            " )                           23)                                 \n",
            "                                                                 \n",
            " batch_normalization_9 (Bat  (None, None, 122, 360,    92        \n",
            " chNormalization)            23)                                 \n",
            "                                                                 \n",
            " conv_lstm2d_12 (ConvLSTM2D  (None, 122, 360, 16)      22528     \n",
            " )                                                               \n",
            "                                                                 \n",
            " conv2d_2 (Conv2D)           (None, 122, 360, 1)       145       \n",
            "                                                                 \n",
            "=================================================================\n",
            "Total params: 78057 (304.91 KB)\n",
            "Trainable params: 78011 (304.73 KB)\n",
            "Non-trainable params: 46 (184.00 Byte)\n",
            "_________________________________________________________________\n",
            "None\n",
            "87/87 [==============================] - 61s 622ms/step - loss: 0.1823 - val_loss: 0.5622 - lr: 0.0010\n",
            "Model: \"sequential_3\"\n",
            "_________________________________________________________________\n",
            " Layer (type)                Output Shape              Param #   \n",
            "=================================================================\n",
            " conv_lstm2d_13 (ConvLSTM2D  (None, None, 122, 360,    15200     \n",
            " )                           20)                                 \n",
            "                                                                 \n",
            " batch_normalization_10 (Ba  (None, None, 122, 360,    80        \n",
            " tchNormalization)           20)                                 \n",
            "                                                                 \n",
            " conv_lstm2d_14 (ConvLSTM2D  (None, None, 122, 360,    62968     \n",
            " )                           17)                                 \n",
            "                                                                 \n",
            " batch_normalization_11 (Ba  (None, None, 122, 360,    68        \n",
            " tchNormalization)           17)                                 \n",
            "                                                                 \n",
            " conv_lstm2d_15 (ConvLSTM2D  (None, None, 122, 360,    30976     \n",
            " )                           22)                                 \n",
            "                                                                 \n",
            " batch_normalization_12 (Ba  (None, None, 122, 360,    88        \n",
            " tchNormalization)           22)                                 \n",
            "                                                                 \n",
            " conv_lstm2d_16 (ConvLSTM2D  (None, None, 122, 360,    30320     \n",
            " )                           20)                                 \n",
            "                                                                 \n",
            " batch_normalization_13 (Ba  (None, None, 122, 360,    80        \n",
            " tchNormalization)           20)                                 \n",
            "                                                                 \n",
            " conv_lstm2d_17 (ConvLSTM2D  (None, 122, 360, 16)      20800     \n",
            " )                                                               \n",
            "                                                                 \n",
            " conv2d_3 (Conv2D)           (None, 122, 360, 1)       145       \n",
            "                                                                 \n",
            "=================================================================\n",
            "Total params: 160725 (627.83 KB)\n",
            "Trainable params: 160567 (627.21 KB)\n",
            "Non-trainable params: 158 (632.00 Byte)\n",
            "_________________________________________________________________\n",
            "None\n",
            "87/87 [==============================] - 153s 2s/step - loss: 0.0464 - val_loss: 0.4272 - lr: 0.0010\n",
            "Model: \"sequential_4\"\n",
            "_________________________________________________________________\n",
            " Layer (type)                Output Shape              Param #   \n",
            "=================================================================\n",
            " conv_lstm2d_18 (ConvLSTM2D  (None, None, 122, 360,    27264     \n",
            " )                           16)                                 \n",
            "                                                                 \n",
            " batch_normalization_14 (Ba  (None, None, 122, 360,    64        \n",
            " tchNormalization)           16)                                 \n",
            "                                                                 \n",
            " conv_lstm2d_19 (ConvLSTM2D  (None, 122, 360, 16)      18496     \n",
            " )                                                               \n",
            "                                                                 \n",
            " conv2d_4 (Conv2D)           (None, 122, 360, 1)       145       \n",
            "                                                                 \n",
            "=================================================================\n",
            "Total params: 45969 (179.57 KB)\n",
            "Trainable params: 45937 (179.44 KB)\n",
            "Non-trainable params: 32 (128.00 Byte)\n",
            "_________________________________________________________________\n",
            "None\n",
            "87/87 [==============================] - 49s 494ms/step - loss: 0.0495 - val_loss: 0.2337 - lr: 0.0010\n",
            "Model: \"sequential_5\"\n",
            "_________________________________________________________________\n",
            " Layer (type)                Output Shape              Param #   \n",
            "=================================================================\n",
            " conv_lstm2d_20 (ConvLSTM2D  (None, None, 122, 360,    13756     \n",
            " )                           19)                                 \n",
            "                                                                 \n",
            " batch_normalization_15 (Ba  (None, None, 122, 360,    76        \n",
            " tchNormalization)           19)                                 \n",
            "                                                                 \n",
            " conv_lstm2d_21 (ConvLSTM2D  (None, None, 122, 360,    30324     \n",
            " )                           21)                                 \n",
            "                                                                 \n",
            " batch_normalization_16 (Ba  (None, None, 122, 360,    84        \n",
            " tchNormalization)           21)                                 \n",
            "                                                                 \n",
            " conv_lstm2d_22 (ConvLSTM2D  (None, None, 122, 360,    9756      \n",
            " )                           9)                                  \n",
            "                                                                 \n",
            " batch_normalization_17 (Ba  (None, None, 122, 360,    36        \n",
            " tchNormalization)           9)                                  \n",
            "                                                                 \n",
            " conv_lstm2d_23 (ConvLSTM2D  (None, 122, 360, 16)      14464     \n",
            " )                                                               \n",
            "                                                                 \n",
            " conv2d_5 (Conv2D)           (None, 122, 360, 1)       145       \n",
            "                                                                 \n",
            "=================================================================\n",
            "Total params: 68641 (268.13 KB)\n",
            "Trainable params: 68543 (267.75 KB)\n",
            "Non-trainable params: 98 (392.00 Byte)\n",
            "_________________________________________________________________\n",
            "None\n",
            "99/99 [==============================] - 100s 851ms/step - loss: 0.0445 - val_loss: 0.4486 - lr: 0.0010\n",
            "Model: \"sequential_6\"\n",
            "_________________________________________________________________\n",
            " Layer (type)                Output Shape              Param #   \n",
            "=================================================================\n",
            " conv_lstm2d_24 (ConvLSTM2D  (None, None, 122, 360,    38076     \n",
            " )                           19)                                 \n",
            "                                                                 \n",
            " batch_normalization_18 (Ba  (None, None, 122, 360,    76        \n",
            " tchNormalization)           19)                                 \n",
            "                                                                 \n",
            " conv_lstm2d_25 (ConvLSTM2D  (None, None, 122, 360,    13440     \n",
            " )                           12)                                 \n",
            "                                                                 \n",
            " batch_normalization_19 (Ba  (None, None, 122, 360,    48        \n",
            " tchNormalization)           12)                                 \n",
            "                                                                 \n",
            " conv_lstm2d_26 (ConvLSTM2D  (None, None, 122, 360,    25344     \n",
            " )                           11)                                 \n",
            "                                                                 \n",
            " batch_normalization_20 (Ba  (None, None, 122, 360,    44        \n",
            " tchNormalization)           11)                                 \n",
            "                                                                 \n",
            " conv_lstm2d_27 (ConvLSTM2D  (None, None, 122, 360,    52272     \n",
            " )                           18)                                 \n",
            "                                                                 \n",
            " batch_normalization_21 (Ba  (None, None, 122, 360,    72        \n",
            " tchNormalization)           18)                                 \n",
            "                                                                 \n",
            " conv_lstm2d_28 (ConvLSTM2D  (None, None, 122, 360,    25384     \n",
            " )                           19)                                 \n",
            "                                                                 \n",
            " batch_normalization_22 (Ba  (None, None, 122, 360,    76        \n",
            " tchNormalization)           19)                                 \n",
            "                                                                 \n",
            " conv_lstm2d_29 (ConvLSTM2D  (None, 122, 360, 16)      20224     \n",
            " )                                                               \n",
            "                                                                 \n",
            " conv2d_6 (Conv2D)           (None, 122, 360, 1)       145       \n",
            "                                                                 \n",
            "=================================================================\n",
            "Total params: 175201 (684.38 KB)\n",
            "Trainable params: 175043 (683.76 KB)\n",
            "Non-trainable params: 158 (632.00 Byte)\n",
            "_________________________________________________________________\n",
            "None\n",
            "116/116 [==============================] - 191s 1s/step - loss: 0.4265 - val_loss: 0.4443 - lr: 0.0100\n",
            "Model: \"sequential_7\"\n",
            "_________________________________________________________________\n",
            " Layer (type)                Output Shape              Param #   \n",
            "=================================================================\n",
            " conv_lstm2d_30 (ConvLSTM2D  (None, None, 122, 360,    55292     \n",
            " )                           23)                                 \n",
            "                                                                 \n",
            " batch_normalization_23 (Ba  (None, None, 122, 360,    92        \n",
            " tchNormalization)           23)                                 \n",
            "                                                                 \n",
            " conv_lstm2d_31 (ConvLSTM2D  (None, None, 122, 360,    86080     \n",
            " )                           20)                                 \n",
            "                                                                 \n",
            " batch_normalization_24 (Ba  (None, None, 122, 360,    80        \n",
            " tchNormalization)           20)                                 \n",
            "                                                                 \n",
            " conv_lstm2d_32 (ConvLSTM2D  (None, 122, 360, 16)      20800     \n",
            " )                                                               \n",
            "                                                                 \n",
            " conv2d_7 (Conv2D)           (None, 122, 360, 1)       145       \n",
            "                                                                 \n",
            "=================================================================\n",
            "Total params: 162489 (634.72 KB)\n",
            "Trainable params: 162403 (634.39 KB)\n",
            "Non-trainable params: 86 (344.00 Byte)\n",
            "_________________________________________________________________\n",
            "None\n",
            "99/99 [==============================] - 111s 1s/step - loss: 0.0386 - val_loss: 0.4152 - lr: 0.0010\n",
            "Model: \"sequential_8\"\n",
            "_________________________________________________________________\n",
            " Layer (type)                Output Shape              Param #   \n",
            "=================================================================\n",
            " conv_lstm2d_33 (ConvLSTM2D  (None, None, 122, 360,    2624      \n",
            " )                           8)                                  \n",
            "                                                                 \n",
            " batch_normalization_25 (Ba  (None, None, 122, 360,    32        \n",
            " tchNormalization)           8)                                  \n",
            "                                                                 \n",
            " conv_lstm2d_34 (ConvLSTM2D  (None, None, 122, 360,    12480     \n",
            " )                           15)                                 \n",
            "                                                                 \n",
            " batch_normalization_26 (Ba  (None, None, 122, 360,    60        \n",
            " tchNormalization)           15)                                 \n",
            "                                                                 \n",
            " conv_lstm2d_35 (ConvLSTM2D  (None, None, 122, 360,    25040     \n",
            " )                           10)                                 \n",
            "                                                                 \n",
            " batch_normalization_27 (Ba  (None, None, 122, 360,    40        \n",
            " tchNormalization)           10)                                 \n",
            "                                                                 \n",
            " conv_lstm2d_36 (ConvLSTM2D  (None, None, 122, 360,    10816     \n",
            " )                           13)                                 \n",
            "                                                                 \n",
            " batch_normalization_28 (Ba  (None, None, 122, 360,    52        \n",
            " tchNormalization)           13)                                 \n",
            "                                                                 \n",
            " conv_lstm2d_37 (ConvLSTM2D  (None, 122, 360, 16)      16768     \n",
            " )                                                               \n",
            "                                                                 \n",
            " conv2d_8 (Conv2D)           (None, 122, 360, 1)       145       \n",
            "                                                                 \n",
            "=================================================================\n",
            "Total params: 68057 (265.85 KB)\n",
            "Trainable params: 67965 (265.49 KB)\n",
            "Non-trainable params: 92 (368.00 Byte)\n",
            "_________________________________________________________________\n",
            "None\n",
            "87/87 [==============================] - 121s 1s/step - loss: 0.2412 - val_loss: 0.6864 - lr: 0.0010\n",
            "Model: \"sequential_9\"\n",
            "_________________________________________________________________\n",
            " Layer (type)                Output Shape              Param #   \n",
            "=================================================================\n",
            " conv_lstm2d_38 (ConvLSTM2D  (None, None, 122, 360,    30668     \n",
            " )                           17)                                 \n",
            "                                                                 \n",
            " batch_normalization_29 (Ba  (None, None, 122, 360,    68        \n",
            " tchNormalization)           17)                                 \n",
            "                                                                 \n",
            " conv_lstm2d_39 (ConvLSTM2D  (None, None, 122, 360,    30844     \n",
            " )                           11)                                 \n",
            "                                                                 \n",
            " batch_normalization_30 (Ba  (None, None, 122, 360,    44        \n",
            " tchNormalization)           11)                                 \n",
            "                                                                 \n",
            " conv_lstm2d_40 (ConvLSTM2D  (None, None, 122, 360,    5504      \n",
            " )                           8)                                  \n",
            "                                                                 \n",
            " batch_normalization_31 (Ba  (None, None, 122, 360,    32        \n",
            " tchNormalization)           8)                                  \n",
            "                                                                 \n",
            " conv_lstm2d_41 (ConvLSTM2D  (None, None, 122, 360,    46872     \n",
            " )                           18)                                 \n",
            "                                                                 \n",
            " batch_normalization_32 (Ba  (None, None, 122, 360,    72        \n",
            " tchNormalization)           18)                                 \n",
            "                                                                 \n",
            " conv_lstm2d_42 (ConvLSTM2D  (None, None, 122, 360,    54464     \n",
            " )                           16)                                 \n",
            "                                                                 \n",
            " batch_normalization_33 (Ba  (None, None, 122, 360,    64        \n",
            " tchNormalization)           16)                                 \n",
            "                                                                 \n",
            " conv_lstm2d_43 (ConvLSTM2D  (None, 122, 360, 16)      18496     \n",
            " )                                                               \n",
            "                                                                 \n",
            " conv2d_9 (Conv2D)           (None, 122, 360, 1)       145       \n",
            "                                                                 \n",
            "=================================================================\n",
            "Total params: 187273 (731.54 KB)\n",
            "Trainable params: 187133 (730.99 KB)\n",
            "Non-trainable params: 140 (560.00 Byte)\n",
            "_________________________________________________________________\n",
            "None\n",
            "173/173 [==============================] - 195s 1s/step - loss: 0.1553 - val_loss: 0.4509 - lr: 0.0100\n",
            "Model: \"sequential_10\"\n",
            "_________________________________________________________________\n",
            " Layer (type)                Output Shape              Param #   \n",
            "=================================================================\n",
            " conv_lstm2d_44 (ConvLSTM2D  (None, None, 122, 360,    15648     \n",
            " )                           12)                                 \n",
            "                                                                 \n",
            " batch_normalization_34 (Ba  (None, None, 122, 360,    48        \n",
            " tchNormalization)           12)                                 \n",
            "                                                                 \n",
            " conv_lstm2d_45 (ConvLSTM2D  (None, 122, 360, 16)      16192     \n",
            " )                                                               \n",
            "                                                                 \n",
            " conv2d_10 (Conv2D)          (None, 122, 360, 1)       145       \n",
            "                                                                 \n",
            "=================================================================\n",
            "Total params: 32033 (125.13 KB)\n",
            "Trainable params: 32009 (125.04 KB)\n",
            "Non-trainable params: 24 (96.00 Byte)\n",
            "_________________________________________________________________\n",
            "None\n",
            "139/139 [==============================] - 47s 298ms/step - loss: 0.0581 - val_loss: 0.0681 - lr: 0.0010\n",
            "Model: \"sequential_11\"\n",
            "_________________________________________________________________\n",
            " Layer (type)                Output Shape              Param #   \n",
            "=================================================================\n",
            " conv_lstm2d_46 (ConvLSTM2D  (None, None, 122, 360,    9856      \n",
            " )                           16)                                 \n",
            "                                                                 \n",
            " batch_normalization_35 (Ba  (None, None, 122, 360,    64        \n",
            " tchNormalization)           16)                                 \n",
            "                                                                 \n",
            " conv_lstm2d_47 (ConvLSTM2D  (None, None, 122, 360,    37752     \n",
            " )                           13)                                 \n",
            "                                                                 \n",
            " batch_normalization_36 (Ba  (None, None, 122, 360,    52        \n",
            " tchNormalization)           13)                                 \n",
            "                                                                 \n",
            " conv_lstm2d_48 (ConvLSTM2D  (None, None, 122, 360,    71484     \n",
            " )                           21)                                 \n",
            "                                                                 \n",
            " batch_normalization_37 (Ba  (None, None, 122, 360,    84        \n",
            " tchNormalization)           21)                                 \n",
            "                                                                 \n",
            " conv_lstm2d_49 (ConvLSTM2D  (None, 122, 360, 16)      21376     \n",
            " )                                                               \n",
            "                                                                 \n",
            " conv2d_11 (Conv2D)          (None, 122, 360, 1)       145       \n",
            "                                                                 \n",
            "=================================================================\n",
            "Total params: 140813 (550.05 KB)\n",
            "Trainable params: 140713 (549.66 KB)\n",
            "Non-trainable params: 100 (400.00 Byte)\n",
            "_________________________________________________________________\n",
            "None\n",
            "173/173 [==============================] - 139s 753ms/step - loss: 0.0952 - val_loss: 0.4391 - lr: 0.0100\n",
            "Model: \"sequential_12\"\n",
            "_________________________________________________________________\n",
            " Layer (type)                Output Shape              Param #   \n",
            "=================================================================\n",
            " conv_lstm2d_50 (ConvLSTM2D  (None, None, 122, 360,    3276      \n",
            " )                           9)                                  \n",
            "                                                                 \n",
            " batch_normalization_38 (Ba  (None, None, 122, 360,    36        \n",
            " tchNormalization)           9)                                  \n",
            "                                                                 \n",
            " conv_lstm2d_51 (ConvLSTM2D  (None, None, 122, 360,    19228     \n",
            " )                           19)                                 \n",
            "                                                                 \n",
            " batch_normalization_39 (Ba  (None, None, 122, 360,    76        \n",
            " tchNormalization)           19)                                 \n",
            "                                                                 \n",
            " conv_lstm2d_52 (ConvLSTM2D  (None, None, 122, 360,    25236     \n",
            " )                           9)                                  \n",
            "                                                                 \n",
            " batch_normalization_40 (Ba  (None, None, 122, 360,    36        \n",
            " tchNormalization)           9)                                  \n",
            "                                                                 \n",
            " conv_lstm2d_53 (ConvLSTM2D  (None, 122, 360, 16)      14464     \n",
            " )                                                               \n",
            "                                                                 \n",
            " conv2d_12 (Conv2D)          (None, 122, 360, 1)       145       \n",
            "                                                                 \n",
            "=================================================================\n",
            "Total params: 62497 (244.13 KB)\n",
            "Trainable params: 62423 (243.84 KB)\n",
            "Non-trainable params: 74 (296.00 Byte)\n",
            "_________________________________________________________________\n",
            "None\n",
            "173/173 [==============================] - 100s 531ms/step - loss: 0.0353 - val_loss: 0.4025 - lr: 0.0010\n",
            "Model: \"sequential_13\"\n",
            "_________________________________________________________________\n",
            " Layer (type)                Output Shape              Param #   \n",
            "=================================================================\n",
            " conv_lstm2d_54 (ConvLSTM2D  (None, None, 122, 360,    2624      \n",
            " )                           8)                                  \n",
            "                                                                 \n",
            " batch_normalization_41 (Ba  (None, None, 122, 360,    32        \n",
            " tchNormalization)           8)                                  \n",
            "                                                                 \n",
            " conv_lstm2d_55 (ConvLSTM2D  (None, None, 122, 360,    23848     \n",
            " )                           22)                                 \n",
            "                                                                 \n",
            " batch_normalization_42 (Ba  (None, None, 122, 360,    88        \n",
            " tchNormalization)           22)                                 \n",
            "                                                                 \n",
            " conv_lstm2d_56 (ConvLSTM2D  (None, None, 122, 360,    77976     \n",
            " )                           19)                                 \n",
            "                                                                 \n",
            " batch_normalization_43 (Ba  (None, None, 122, 360,    76        \n",
            " tchNormalization)           19)                                 \n",
            "                                                                 \n",
            " conv_lstm2d_57 (ConvLSTM2D  (None, None, 122, 360,    24048     \n",
            " )                           18)                                 \n",
            "                                                                 \n",
            " batch_normalization_44 (Ba  (None, None, 122, 360,    72        \n",
            " tchNormalization)           18)                                 \n",
            "                                                                 \n",
            " conv_lstm2d_58 (ConvLSTM2D  (None, None, 122, 360,    25384     \n",
            " )                           19)                                 \n",
            "                                                                 \n",
            " batch_normalization_45 (Ba  (None, None, 122, 360,    76        \n",
            " tchNormalization)           19)                                 \n",
            "                                                                 \n",
            " conv_lstm2d_59 (ConvLSTM2D  (None, None, 122, 360,    9108      \n",
            " )                           9)                                  \n",
            "                                                                 \n",
            " batch_normalization_46 (Ba  (None, None, 122, 360,    36        \n",
            " tchNormalization)           9)                                  \n",
            "                                                                 \n",
            " conv_lstm2d_60 (ConvLSTM2D  (None, 122, 360, 16)      14464     \n",
            " )                                                               \n",
            "                                                                 \n",
            " conv2d_13 (Conv2D)          (None, 122, 360, 1)       145       \n",
            "                                                                 \n",
            "=================================================================\n",
            "Total params: 177977 (695.22 KB)\n",
            "Trainable params: 177787 (694.48 KB)\n",
            "Non-trainable params: 190 (760.00 Byte)\n",
            "_________________________________________________________________\n",
            "None\n",
            "346/346 [==============================] - 205s 543ms/step - loss: 0.0451 - val_loss: 0.3827 - lr: 0.0010\n",
            "Model: \"sequential_14\"\n",
            "_________________________________________________________________\n",
            " Layer (type)                Output Shape              Param #   \n",
            "=================================================================\n",
            " conv_lstm2d_61 (ConvLSTM2D  (None, None, 122, 360,    5664      \n",
            " )                           12)                                 \n",
            "                                                                 \n",
            " batch_normalization_47 (Ba  (None, None, 122, 360,    48        \n",
            " tchNormalization)           12)                                 \n",
            "                                                                 \n",
            " conv_lstm2d_62 (ConvLSTM2D  (None, None, 122, 360,    36456     \n",
            " )                           14)                                 \n",
            "                                                                 \n",
            " batch_normalization_48 (Ba  (None, None, 122, 360,    56        \n",
            " tchNormalization)           14)                                 \n",
            "                                                                 \n",
            " conv_lstm2d_63 (ConvLSTM2D  (None, None, 122, 360,    68080     \n",
            " )                           20)                                 \n",
            "                                                                 \n",
            " batch_normalization_49 (Ba  (None, None, 122, 360,    80        \n",
            " tchNormalization)           20)                                 \n",
            "                                                                 \n",
            " conv_lstm2d_64 (ConvLSTM2D  (None, None, 122, 360,    28880     \n",
            " )                           20)                                 \n",
            "                                                                 \n",
            " batch_normalization_50 (Ba  (None, None, 122, 360,    80        \n",
            " tchNormalization)           20)                                 \n",
            "                                                                 \n",
            " conv_lstm2d_65 (ConvLSTM2D  (None, None, 122, 360,    22712     \n",
            " )                           17)                                 \n",
            "                                                                 \n",
            " batch_normalization_51 (Ba  (None, None, 122, 360,    68        \n",
            " tchNormalization)           17)                                 \n",
            "                                                                 \n",
            " conv_lstm2d_66 (ConvLSTM2D  (None, None, 122, 360,    7232      \n",
            " )                           8)                                  \n",
            "                                                                 \n",
            " batch_normalization_52 (Ba  (None, None, 122, 360,    32        \n",
            " tchNormalization)           8)                                  \n",
            "                                                                 \n",
            " conv_lstm2d_67 (ConvLSTM2D  (None, 122, 360, 16)      13888     \n",
            " )                                                               \n",
            "                                                                 \n",
            " conv2d_14 (Conv2D)          (None, 122, 360, 1)       145       \n",
            "                                                                 \n",
            "=================================================================\n",
            "Total params: 183421 (716.49 KB)\n",
            "Trainable params: 183239 (715.78 KB)\n",
            "Non-trainable params: 182 (728.00 Byte)\n",
            "_________________________________________________________________\n",
            "None\n",
            "139/139 [==============================] - 204s 1s/step - loss: 0.6466 - val_loss: 0.6915 - lr: 0.0100\n",
            "Model: \"sequential_15\"\n",
            "_________________________________________________________________\n",
            " Layer (type)                Output Shape              Param #   \n",
            "=================================================================\n",
            " conv_lstm2d_68 (ConvLSTM2D  (None, None, 122, 360,    30668     \n",
            " )                           17)                                 \n",
            "                                                                 \n",
            " batch_normalization_53 (Ba  (None, None, 122, 360,    68        \n",
            " tchNormalization)           17)                                 \n",
            "                                                                 \n",
            " conv_lstm2d_69 (ConvLSTM2D  (None, None, 122, 360,    85888     \n",
            " )                           22)                                 \n",
            "                                                                 \n",
            " batch_normalization_54 (Ba  (None, None, 122, 360,    88        \n",
            " tchNormalization)           22)                                 \n",
            "                                                                 \n",
            " conv_lstm2d_70 (ConvLSTM2D  (None, None, 122, 360,    24032     \n",
            " )                           8)                                  \n",
            "                                                                 \n",
            " batch_normalization_55 (Ba  (None, None, 122, 360,    32        \n",
            " tchNormalization)           8)                                  \n",
            "                                                                 \n",
            " conv_lstm2d_71 (ConvLSTM2D  (None, None, 122, 360,    16920     \n",
            " )                           18)                                 \n",
            "                                                                 \n",
            " batch_normalization_56 (Ba  (None, None, 122, 360,    72        \n",
            " tchNormalization)           18)                                 \n",
            "                                                                 \n",
            " conv_lstm2d_72 (ConvLSTM2D  (None, None, 122, 360,    81984     \n",
            " )                           21)                                 \n",
            "                                                                 \n",
            " batch_normalization_57 (Ba  (None, None, 122, 360,    84        \n",
            " tchNormalization)           21)                                 \n",
            "                                                                 \n",
            " conv_lstm2d_73 (ConvLSTM2D  (None, None, 122, 360,    27436     \n",
            " )                           19)                                 \n",
            "                                                                 \n",
            " batch_normalization_58 (Ba  (None, None, 122, 360,    76        \n",
            " tchNormalization)           19)                                 \n",
            "                                                                 \n",
            " conv_lstm2d_74 (ConvLSTM2D  (None, 122, 360, 16)      20224     \n",
            " )                                                               \n",
            "                                                                 \n",
            " conv2d_15 (Conv2D)          (None, 122, 360, 1)       145       \n",
            "                                                                 \n",
            "=================================================================\n",
            "Total params: 287717 (1.10 MB)\n",
            "Trainable params: 287507 (1.10 MB)\n",
            "Non-trainable params: 210 (840.00 Byte)\n",
            "_________________________________________________________________\n",
            "None\n",
            "139/139 [==============================] - 254s 2s/step - loss: 0.2840 - val_loss: 0.4543 - lr: 0.0100\n",
            "Model: \"sequential_16\"\n",
            "_________________________________________________________________\n",
            " Layer (type)                Output Shape              Param #   \n",
            "=================================================================\n",
            " conv_lstm2d_75 (ConvLSTM2D  (None, None, 122, 360,    4000      \n",
            " )                           10)                                 \n",
            "                                                                 \n",
            " batch_normalization_59 (Ba  (None, None, 122, 360,    40        \n",
            " tchNormalization)           10)                                 \n",
            "                                                                 \n",
            " conv_lstm2d_76 (ConvLSTM2D  (None, None, 122, 360,    17136     \n",
            " )                           9)                                  \n",
            "                                                                 \n",
            " batch_normalization_60 (Ba  (None, None, 122, 360,    36        \n",
            " tchNormalization)           9)                                  \n",
            "                                                                 \n",
            " conv_lstm2d_77 (ConvLSTM2D  (None, None, 122, 360,    63084     \n",
            " )                           21)                                 \n",
            "                                                                 \n",
            " batch_normalization_61 (Ba  (None, None, 122, 360,    84        \n",
            " tchNormalization)           21)                                 \n",
            "                                                                 \n",
            " conv_lstm2d_78 (ConvLSTM2D  (None, None, 122, 360,    17696     \n",
            " )                           14)                                 \n",
            "                                                                 \n",
            " batch_normalization_62 (Ba  (None, None, 122, 360,    56        \n",
            " tchNormalization)           14)                                 \n",
            "                                                                 \n",
            " conv_lstm2d_79 (ConvLSTM2D  (None, None, 122, 360,    9944      \n",
            " )                           11)                                 \n",
            "                                                                 \n",
            " batch_normalization_63 (Ba  (None, None, 122, 360,    44        \n",
            " tchNormalization)           11)                                 \n",
            "                                                                 \n",
            " conv_lstm2d_80 (ConvLSTM2D  (None, 122, 360, 16)      15616     \n",
            " )                                                               \n",
            "                                                                 \n",
            " conv2d_16 (Conv2D)          (None, 122, 360, 1)       145       \n",
            "                                                                 \n",
            "=================================================================\n",
            "Total params: 127881 (499.54 KB)\n",
            "Trainable params: 127751 (499.03 KB)\n",
            "Non-trainable params: 130 (520.00 Byte)\n",
            "_________________________________________________________________\n",
            "None\n",
            "346/346 [==============================] - 174s 462ms/step - loss: 0.0537 - val_loss: 0.5057 - lr: 0.0010\n",
            "Model: \"sequential_17\"\n",
            "_________________________________________________________________\n",
            " Layer (type)                Output Shape              Param #   \n",
            "=================================================================\n",
            " conv_lstm2d_81 (ConvLSTM2D  (None, None, 122, 360,    46284     \n",
            " )                           21)                                 \n",
            "                                                                 \n",
            " batch_normalization_64 (Ba  (None, None, 122, 360,    84        \n",
            " tchNormalization)           21)                                 \n",
            "                                                                 \n",
            " conv_lstm2d_82 (ConvLSTM2D  (None, None, 122, 360,    64668     \n",
            " )                           17)                                 \n",
            "                                                                 \n",
            " batch_normalization_65 (Ba  (None, None, 122, 360,    68        \n",
            " tchNormalization)           17)                                 \n",
            "                                                                 \n",
            " conv_lstm2d_83 (ConvLSTM2D  (None, None, 122, 360,    68476     \n",
            " )                           19)                                 \n",
            "                                                                 \n",
            " batch_normalization_66 (Ba  (None, None, 122, 360,    76        \n",
            " tchNormalization)           19)                                 \n",
            "                                                                 \n",
            " conv_lstm2d_84 (ConvLSTM2D  (None, None, 122, 360,    37248     \n",
            " )                           12)                                 \n",
            "                                                                 \n",
            " batch_normalization_67 (Ba  (None, None, 122, 360,    48        \n",
            " tchNormalization)           12)                                 \n",
            "                                                                 \n",
            " conv_lstm2d_85 (ConvLSTM2D  (None, None, 122, 360,    11752     \n",
            " )                           13)                                 \n",
            "                                                                 \n",
            " batch_normalization_68 (Ba  (None, None, 122, 360,    52        \n",
            " tchNormalization)           13)                                 \n",
            "                                                                 \n",
            " conv_lstm2d_86 (ConvLSTM2D  (None, None, 122, 360,    60876     \n",
            " )                           19)                                 \n",
            "                                                                 \n",
            " batch_normalization_69 (Ba  (None, None, 122, 360,    76        \n",
            " tchNormalization)           19)                                 \n",
            "                                                                 \n",
            " conv_lstm2d_87 (ConvLSTM2D  (None, 122, 360, 16)      20224     \n",
            " )                                                               \n",
            "                                                                 \n",
            " conv2d_17 (Conv2D)          (None, 122, 360, 1)       145       \n",
            "                                                                 \n",
            "=================================================================\n",
            "Total params: 310077 (1.18 MB)\n",
            "Trainable params: 309875 (1.18 MB)\n",
            "Non-trainable params: 202 (808.00 Byte)\n",
            "_________________________________________________________________\n",
            "None\n",
            "139/139 [==============================] - 265s 2s/step - loss: 0.0441 - val_loss: 0.4464 - lr: 0.0010\n",
            "Model: \"sequential_18\"\n",
            "_________________________________________________________________\n",
            " Layer (type)                Output Shape              Param #   \n",
            "=================================================================\n",
            " conv_lstm2d_88 (ConvLSTM2D  (None, None, 122, 360,    5664      \n",
            " )                           12)                                 \n",
            "                                                                 \n",
            " batch_normalization_70 (Ba  (None, None, 122, 360,    48        \n",
            " tchNormalization)           12)                                 \n",
            "                                                                 \n",
            " conv_lstm2d_89 (ConvLSTM2D  (None, None, 122, 360,    58976     \n",
            " )                           19)                                 \n",
            "                                                                 \n",
            " batch_normalization_71 (Ba  (None, None, 122, 360,    76        \n",
            " tchNormalization)           19)                                 \n",
            "                                                                 \n",
            " conv_lstm2d_90 (ConvLSTM2D  (None, 122, 360, 16)      20224     \n",
            " )                                                               \n",
            "                                                                 \n",
            " conv2d_18 (Conv2D)          (None, 122, 360, 1)       145       \n",
            "                                                                 \n",
            "=================================================================\n",
            "Total params: 85133 (332.55 KB)\n",
            "Trainable params: 85071 (332.31 KB)\n",
            "Non-trainable params: 62 (248.00 Byte)\n",
            "_________________________________________________________________\n",
            "None\n",
            "87/87 [==============================] - 82s 835ms/step - loss: 0.0636 - val_loss: 0.4307 - lr: 0.0010\n",
            "Model: \"sequential_19\"\n",
            "_________________________________________________________________\n",
            " Layer (type)                Output Shape              Param #   \n",
            "=================================================================\n",
            " conv_lstm2d_91 (ConvLSTM2D  (None, None, 122, 360,    34272     \n",
            " )                           18)                                 \n",
            "                                                                 \n",
            " batch_normalization_72 (Ba  (None, None, 122, 360,    72        \n",
            " tchNormalization)           18)                                 \n",
            "                                                                 \n",
            " conv_lstm2d_92 (ConvLSTM2D  (None, None, 122, 360,    11528     \n",
            " )                           11)                                 \n",
            "                                                                 \n",
            " batch_normalization_73 (Ba  (None, None, 122, 360,    44        \n",
            " tchNormalization)           11)                                 \n",
            "                                                                 \n",
            " conv_lstm2d_93 (ConvLSTM2D  (None, None, 122, 360,    5504      \n",
            " )                           8)                                  \n",
            "                                                                 \n",
            " batch_normalization_74 (Ba  (None, None, 122, 360,    32        \n",
            " tchNormalization)           8)                                  \n",
            "                                                                 \n",
            " conv_lstm2d_94 (ConvLSTM2D  (None, None, 122, 360,    11144     \n",
            " )                           14)                                 \n",
            "                                                                 \n",
            " batch_normalization_75 (Ba  (None, None, 122, 360,    56        \n",
            " tchNormalization)           14)                                 \n",
            "                                                                 \n",
            " conv_lstm2d_95 (ConvLSTM2D  (None, None, 122, 360,    73584     \n",
            " )                           21)                                 \n",
            "                                                                 \n",
            " batch_normalization_76 (Ba  (None, None, 122, 360,    84        \n",
            " tchNormalization)           21)                                 \n",
            "                                                                 \n",
            " conv_lstm2d_96 (ConvLSTM2D  (None, None, 122, 360,    14304     \n",
            " )                           12)                                 \n",
            "                                                                 \n",
            " batch_normalization_77 (Ba  (None, None, 122, 360,    48        \n",
            " tchNormalization)           12)                                 \n",
            "                                                                 \n",
            " conv_lstm2d_97 (ConvLSTM2D  (None, 122, 360, 16)      16192     \n",
            " )                                                               \n",
            "                                                                 \n",
            " conv2d_19 (Conv2D)          (None, 122, 360, 1)       145       \n",
            "                                                                 \n",
            "=================================================================\n",
            "Total params: 167009 (652.38 KB)\n",
            "Trainable params: 166841 (651.72 KB)\n",
            "Non-trainable params: 168 (672.00 Byte)\n",
            "_________________________________________________________________\n",
            "None\n",
            "139/139 [==============================] - 197s 1s/step - loss: 0.0894 - val_loss: 0.4893 - lr: 0.0010\n"
          ]
        }
      ]
    },
    {
      "cell_type": "code",
      "source": [
        "hof_decoded = [decodificar_ind(ind.chrom) for ind in hof]\n",
        "\n",
        "hof_decoded"
      ],
      "metadata": {
        "id": "j7ur2n5G9E02",
        "outputId": "75955e3f-6a7f-4ba0-c4ed-22eaf04cd082",
        "colab": {
          "base_uri": "https://localhost:8080/"
        }
      },
      "execution_count": 43,
      "outputs": [
        {
          "output_type": "execute_result",
          "data": {
            "text/plain": [
              "[{'loss': 'mae',\n",
              "  'batch_size': 5,\n",
              "  'optimizer': 'adam',\n",
              "  'n_modulos': 1,\n",
              "  'modulos': [{'kernel': (5, 5),\n",
              "    'filters': 12,\n",
              "    'dropout': 0.47,\n",
              "    'recurrent_dropout': 0.809}]},\n",
              " {'loss': 'mae',\n",
              "  'batch_size': 8,\n",
              "  'optimizer': 'rmsprop',\n",
              "  'n_modulos': 1,\n",
              "  'modulos': [{'kernel': (5, 5),\n",
              "    'filters': 16,\n",
              "    'dropout': 0.28,\n",
              "    'recurrent_dropout': 0.602}]},\n",
              " {'loss': 'mae',\n",
              "  'batch_size': 2,\n",
              "  'optimizer': 'adam',\n",
              "  'n_modulos': 6,\n",
              "  'modulos': [{'kernel': (3, 3),\n",
              "    'filters': 8,\n",
              "    'dropout': 0.3,\n",
              "    'recurrent_dropout': 0.41},\n",
              "   {'kernel': (3, 3),\n",
              "    'filters': 22,\n",
              "    'dropout': 0.002,\n",
              "    'recurrent_dropout': 0.069},\n",
              "   {'kernel': (5, 5),\n",
              "    'filters': 19,\n",
              "    'dropout': 0.527,\n",
              "    'recurrent_dropout': 0.0},\n",
              "   {'kernel': (3, 3),\n",
              "    'filters': 18,\n",
              "    'dropout': 0.754,\n",
              "    'recurrent_dropout': 0.052},\n",
              "   {'kernel': (3, 3),\n",
              "    'filters': 19,\n",
              "    'dropout': 0.001,\n",
              "    'recurrent_dropout': 0.07},\n",
              "   {'kernel': (3, 3),\n",
              "    'filters': 9,\n",
              "    'dropout': 0.905,\n",
              "    'recurrent_dropout': 0.19}]}]"
            ]
          },
          "metadata": {},
          "execution_count": 43
        }
      ]
    },
    {
      "cell_type": "markdown",
      "source": [],
      "metadata": {
        "id": "FdI5nfdM9w_b"
      }
    }
  ],
  "metadata": {
    "colab": {
      "collapsed_sections": [
        "YNr4xFjnGHRJ",
        "-PlAdLYpCipv"
      ],
      "provenance": [],
      "gpuType": "T4",
      "include_colab_link": true
    },
    "kernelspec": {
      "display_name": "Python 3",
      "name": "python3"
    },
    "language_info": {
      "codemirror_mode": {
        "name": "ipython",
        "version": 3
      },
      "file_extension": ".py",
      "mimetype": "text/x-python",
      "name": "python",
      "nbconvert_exporter": "python",
      "pygments_lexer": "ipython3",
      "version": "3.8.0"
    },
    "accelerator": "GPU"
  },
  "nbformat": 4,
  "nbformat_minor": 0
}