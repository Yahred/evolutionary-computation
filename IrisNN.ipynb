{
  "cells": [
    {
      "cell_type": "markdown",
      "metadata": {
        "id": "view-in-github",
        "colab_type": "text"
      },
      "source": [
        "<a href=\"https://colab.research.google.com/github/Yahred/evolutionary-computation/blob/main/IrisNN.ipynb\" target=\"_parent\"><img src=\"https://colab.research.google.com/assets/colab-badge.svg\" alt=\"Open In Colab\"/></a>"
      ]
    },
    {
      "cell_type": "markdown",
      "source": [
        "# Red neuronal para IRIS DATASET\n",
        "\n"
      ],
      "metadata": {
        "id": "NHbuN3BX_Bk6"
      }
    },
    {
      "cell_type": "markdown",
      "source": [
        "Importamos las bibliotecas necesarias"
      ],
      "metadata": {
        "id": "tvq_Vh7P_KY7"
      }
    },
    {
      "cell_type": "code",
      "execution_count": 22,
      "metadata": {
        "id": "qUOuV7Jq-vBx"
      },
      "outputs": [],
      "source": [
        "import numpy as np\n",
        "import tensorflow as tf\n",
        "\n",
        "from sklearn.datasets import load_iris\n",
        "from sklearn.model_selection import train_test_split\n",
        "from sklearn.preprocessing import StandardScaler\n",
        "from sklearn.metrics import accuracy_score"
      ]
    },
    {
      "cell_type": "markdown",
      "source": [
        "Cargamos el dataset"
      ],
      "metadata": {
        "id": "3KWugvrG_UzI"
      }
    },
    {
      "cell_type": "code",
      "source": [
        "iris = load_iris()\n",
        "X = iris.data\n",
        "y = iris.target"
      ],
      "metadata": {
        "id": "kmRgFVLS_WG4"
      },
      "execution_count": 23,
      "outputs": []
    },
    {
      "cell_type": "markdown",
      "source": [
        "Definimos una función que nos va a mapear cada categoría con su nombre"
      ],
      "metadata": {
        "id": "hjeFCO35DbHK"
      }
    },
    {
      "cell_type": "code",
      "source": [
        "def to_class(code: int) -> str:\n",
        "  # Setosa, Versicolour, and Virginica\n",
        "  classes = {\n",
        "      0: 'Setosa',\n",
        "      1: 'Versicolour',\n",
        "      2: 'Virginica'\n",
        "  }\n",
        "\n",
        "  return classes[code]"
      ],
      "metadata": {
        "id": "i01_98yHDhDe"
      },
      "execution_count": 24,
      "outputs": []
    },
    {
      "cell_type": "markdown",
      "source": [
        "Segmentamos nuestros en datos para entrenamiento y para test"
      ],
      "metadata": {
        "id": "OsDH6Qp4_Y2L"
      }
    },
    {
      "cell_type": "code",
      "source": [
        "X_train, X_test, y_train, y_test = train_test_split(X, y, test_size=0.3, random_state=42)"
      ],
      "metadata": {
        "id": "9jxa94wJ_efH"
      },
      "execution_count": 25,
      "outputs": []
    },
    {
      "cell_type": "markdown",
      "source": [
        "Normalizamos las propiedades del dataset"
      ],
      "metadata": {
        "id": "_Z0N8ziS_i1a"
      }
    },
    {
      "cell_type": "code",
      "source": [
        "scaler = StandardScaler()\n",
        "X_train = scaler.fit_transform(X_train)\n",
        "X_test = scaler.transform(X_test)"
      ],
      "metadata": {
        "id": "WG0KW0Mg_mSW"
      },
      "execution_count": 26,
      "outputs": []
    },
    {
      "cell_type": "markdown",
      "source": [
        "Definimos el modelo de red neuronal"
      ],
      "metadata": {
        "id": "dYfqMabHCN6r"
      }
    },
    {
      "cell_type": "code",
      "source": [
        "model = tf.keras.Sequential([\n",
        "    tf.keras.layers.Dense(10, activation='relu', input_shape=(4,)),\n",
        "    tf.keras.layers.Dense(10, activation='relu'),\n",
        "    tf.keras.layers.Dense(3, activation='softmax')\n",
        "])"
      ],
      "metadata": {
        "id": "73sl2hqbCQNe"
      },
      "execution_count": 27,
      "outputs": []
    },
    {
      "cell_type": "markdown",
      "source": [
        "Se compila el modelo"
      ],
      "metadata": {
        "id": "eIrWRCLgCSjM"
      }
    },
    {
      "cell_type": "code",
      "source": [
        "model.compile(optimizer='adam',\n",
        "              loss='sparse_categorical_crossentropy',\n",
        "              metrics=['accuracy'])"
      ],
      "metadata": {
        "id": "MOFJJcM7CVPo"
      },
      "execution_count": 28,
      "outputs": []
    },
    {
      "cell_type": "markdown",
      "source": [
        "Entrenar el modelo"
      ],
      "metadata": {
        "id": "uOtV7zmUCb3P"
      }
    },
    {
      "cell_type": "code",
      "source": [
        "model.fit(X_train, y_train, epochs=100, batch_size=16, verbose=1)"
      ],
      "metadata": {
        "colab": {
          "base_uri": "https://localhost:8080/"
        },
        "id": "4QY8s4hCCaPj",
        "outputId": "ac740ce3-7680-4792-8617-8c98d60d796a"
      },
      "execution_count": 29,
      "outputs": [
        {
          "output_type": "stream",
          "name": "stdout",
          "text": [
            "Epoch 1/100\n",
            "7/7 [==============================] - 2s 4ms/step - loss: 1.1644 - accuracy: 0.4667\n",
            "Epoch 2/100\n",
            "7/7 [==============================] - 0s 3ms/step - loss: 1.1294 - accuracy: 0.4857\n",
            "Epoch 3/100\n",
            "7/7 [==============================] - 0s 3ms/step - loss: 1.0978 - accuracy: 0.4762\n",
            "Epoch 4/100\n",
            "7/7 [==============================] - 0s 3ms/step - loss: 1.0700 - accuracy: 0.4762\n",
            "Epoch 5/100\n",
            "7/7 [==============================] - 0s 4ms/step - loss: 1.0411 - accuracy: 0.5048\n",
            "Epoch 6/100\n",
            "7/7 [==============================] - 0s 3ms/step - loss: 1.0157 - accuracy: 0.5048\n",
            "Epoch 7/100\n",
            "7/7 [==============================] - 0s 3ms/step - loss: 0.9922 - accuracy: 0.5238\n",
            "Epoch 8/100\n",
            "7/7 [==============================] - 0s 4ms/step - loss: 0.9703 - accuracy: 0.5333\n",
            "Epoch 9/100\n",
            "7/7 [==============================] - 0s 3ms/step - loss: 0.9486 - accuracy: 0.5143\n",
            "Epoch 10/100\n",
            "7/7 [==============================] - 0s 3ms/step - loss: 0.9289 - accuracy: 0.5143\n",
            "Epoch 11/100\n",
            "7/7 [==============================] - 0s 3ms/step - loss: 0.9087 - accuracy: 0.5143\n",
            "Epoch 12/100\n",
            "7/7 [==============================] - 0s 4ms/step - loss: 0.8898 - accuracy: 0.5143\n",
            "Epoch 13/100\n",
            "7/7 [==============================] - 0s 3ms/step - loss: 0.8719 - accuracy: 0.5048\n",
            "Epoch 14/100\n",
            "7/7 [==============================] - 0s 3ms/step - loss: 0.8545 - accuracy: 0.5143\n",
            "Epoch 15/100\n",
            "7/7 [==============================] - 0s 5ms/step - loss: 0.8377 - accuracy: 0.5048\n",
            "Epoch 16/100\n",
            "7/7 [==============================] - 0s 4ms/step - loss: 0.8215 - accuracy: 0.5333\n",
            "Epoch 17/100\n",
            "7/7 [==============================] - 0s 4ms/step - loss: 0.8059 - accuracy: 0.5333\n",
            "Epoch 18/100\n",
            "7/7 [==============================] - 0s 5ms/step - loss: 0.7921 - accuracy: 0.5429\n",
            "Epoch 19/100\n",
            "7/7 [==============================] - 0s 9ms/step - loss: 0.7771 - accuracy: 0.5333\n",
            "Epoch 20/100\n",
            "7/7 [==============================] - 0s 16ms/step - loss: 0.7625 - accuracy: 0.5429\n",
            "Epoch 21/100\n",
            "7/7 [==============================] - 0s 8ms/step - loss: 0.7489 - accuracy: 0.5524\n",
            "Epoch 22/100\n",
            "7/7 [==============================] - 0s 4ms/step - loss: 0.7359 - accuracy: 0.5524\n",
            "Epoch 23/100\n",
            "7/7 [==============================] - 0s 5ms/step - loss: 0.7223 - accuracy: 0.5524\n",
            "Epoch 24/100\n",
            "7/7 [==============================] - 0s 6ms/step - loss: 0.7091 - accuracy: 0.5524\n",
            "Epoch 25/100\n",
            "7/7 [==============================] - 0s 5ms/step - loss: 0.6967 - accuracy: 0.5619\n",
            "Epoch 26/100\n",
            "7/7 [==============================] - 0s 5ms/step - loss: 0.6846 - accuracy: 0.5714\n",
            "Epoch 27/100\n",
            "7/7 [==============================] - 0s 3ms/step - loss: 0.6726 - accuracy: 0.6095\n",
            "Epoch 28/100\n",
            "7/7 [==============================] - 0s 3ms/step - loss: 0.6601 - accuracy: 0.7048\n",
            "Epoch 29/100\n",
            "7/7 [==============================] - 0s 3ms/step - loss: 0.6468 - accuracy: 0.8000\n",
            "Epoch 30/100\n",
            "7/7 [==============================] - 0s 3ms/step - loss: 0.6315 - accuracy: 0.8381\n",
            "Epoch 31/100\n",
            "7/7 [==============================] - 0s 3ms/step - loss: 0.6144 - accuracy: 0.8476\n",
            "Epoch 32/100\n",
            "7/7 [==============================] - 0s 3ms/step - loss: 0.5964 - accuracy: 0.8476\n",
            "Epoch 33/100\n",
            "7/7 [==============================] - 0s 3ms/step - loss: 0.5771 - accuracy: 0.8476\n",
            "Epoch 34/100\n",
            "7/7 [==============================] - 0s 3ms/step - loss: 0.5583 - accuracy: 0.8571\n",
            "Epoch 35/100\n",
            "7/7 [==============================] - 0s 3ms/step - loss: 0.5388 - accuracy: 0.8667\n",
            "Epoch 36/100\n",
            "7/7 [==============================] - 0s 3ms/step - loss: 0.5196 - accuracy: 0.8667\n",
            "Epoch 37/100\n",
            "7/7 [==============================] - 0s 3ms/step - loss: 0.4999 - accuracy: 0.8762\n",
            "Epoch 38/100\n",
            "7/7 [==============================] - 0s 3ms/step - loss: 0.4811 - accuracy: 0.8762\n",
            "Epoch 39/100\n",
            "7/7 [==============================] - 0s 3ms/step - loss: 0.4619 - accuracy: 0.8762\n",
            "Epoch 40/100\n",
            "7/7 [==============================] - 0s 3ms/step - loss: 0.4434 - accuracy: 0.8857\n",
            "Epoch 41/100\n",
            "7/7 [==============================] - 0s 4ms/step - loss: 0.4256 - accuracy: 0.8952\n",
            "Epoch 42/100\n",
            "7/7 [==============================] - 0s 3ms/step - loss: 0.4083 - accuracy: 0.9048\n",
            "Epoch 43/100\n",
            "7/7 [==============================] - 0s 3ms/step - loss: 0.3936 - accuracy: 0.9048\n",
            "Epoch 44/100\n",
            "7/7 [==============================] - 0s 3ms/step - loss: 0.3789 - accuracy: 0.9143\n",
            "Epoch 45/100\n",
            "7/7 [==============================] - 0s 3ms/step - loss: 0.3667 - accuracy: 0.9143\n",
            "Epoch 46/100\n",
            "7/7 [==============================] - 0s 3ms/step - loss: 0.3529 - accuracy: 0.9143\n",
            "Epoch 47/100\n",
            "7/7 [==============================] - 0s 3ms/step - loss: 0.3409 - accuracy: 0.9143\n",
            "Epoch 48/100\n",
            "7/7 [==============================] - 0s 4ms/step - loss: 0.3298 - accuracy: 0.9238\n",
            "Epoch 49/100\n",
            "7/7 [==============================] - 0s 3ms/step - loss: 0.3201 - accuracy: 0.9143\n",
            "Epoch 50/100\n",
            "7/7 [==============================] - 0s 3ms/step - loss: 0.3112 - accuracy: 0.9143\n",
            "Epoch 51/100\n",
            "7/7 [==============================] - 0s 4ms/step - loss: 0.3015 - accuracy: 0.9238\n",
            "Epoch 52/100\n",
            "7/7 [==============================] - 0s 4ms/step - loss: 0.2937 - accuracy: 0.9143\n",
            "Epoch 53/100\n",
            "7/7 [==============================] - 0s 3ms/step - loss: 0.2861 - accuracy: 0.9333\n",
            "Epoch 54/100\n",
            "7/7 [==============================] - 0s 3ms/step - loss: 0.2785 - accuracy: 0.9333\n",
            "Epoch 55/100\n",
            "7/7 [==============================] - 0s 3ms/step - loss: 0.2720 - accuracy: 0.9333\n",
            "Epoch 56/100\n",
            "7/7 [==============================] - 0s 3ms/step - loss: 0.2657 - accuracy: 0.9333\n",
            "Epoch 57/100\n",
            "7/7 [==============================] - 0s 3ms/step - loss: 0.2595 - accuracy: 0.9333\n",
            "Epoch 58/100\n",
            "7/7 [==============================] - 0s 3ms/step - loss: 0.2535 - accuracy: 0.9333\n",
            "Epoch 59/100\n",
            "7/7 [==============================] - 0s 3ms/step - loss: 0.2500 - accuracy: 0.9333\n",
            "Epoch 60/100\n",
            "7/7 [==============================] - 0s 3ms/step - loss: 0.2434 - accuracy: 0.9238\n",
            "Epoch 61/100\n",
            "7/7 [==============================] - 0s 2ms/step - loss: 0.2385 - accuracy: 0.9333\n",
            "Epoch 62/100\n",
            "7/7 [==============================] - 0s 3ms/step - loss: 0.2333 - accuracy: 0.9333\n",
            "Epoch 63/100\n",
            "7/7 [==============================] - 0s 3ms/step - loss: 0.2290 - accuracy: 0.9333\n",
            "Epoch 64/100\n",
            "7/7 [==============================] - 0s 3ms/step - loss: 0.2247 - accuracy: 0.9333\n",
            "Epoch 65/100\n",
            "7/7 [==============================] - 0s 3ms/step - loss: 0.2211 - accuracy: 0.9238\n",
            "Epoch 66/100\n",
            "7/7 [==============================] - 0s 5ms/step - loss: 0.2165 - accuracy: 0.9238\n",
            "Epoch 67/100\n",
            "7/7 [==============================] - 0s 3ms/step - loss: 0.2130 - accuracy: 0.9238\n",
            "Epoch 68/100\n",
            "7/7 [==============================] - 0s 3ms/step - loss: 0.2091 - accuracy: 0.9238\n",
            "Epoch 69/100\n",
            "7/7 [==============================] - 0s 3ms/step - loss: 0.2054 - accuracy: 0.9238\n",
            "Epoch 70/100\n",
            "7/7 [==============================] - 0s 4ms/step - loss: 0.2020 - accuracy: 0.9238\n",
            "Epoch 71/100\n",
            "7/7 [==============================] - 0s 6ms/step - loss: 0.1977 - accuracy: 0.9238\n",
            "Epoch 72/100\n",
            "7/7 [==============================] - 0s 3ms/step - loss: 0.1941 - accuracy: 0.9238\n",
            "Epoch 73/100\n",
            "7/7 [==============================] - 0s 4ms/step - loss: 0.1907 - accuracy: 0.9333\n",
            "Epoch 74/100\n",
            "7/7 [==============================] - 0s 4ms/step - loss: 0.1875 - accuracy: 0.9333\n",
            "Epoch 75/100\n",
            "7/7 [==============================] - 0s 3ms/step - loss: 0.1844 - accuracy: 0.9333\n",
            "Epoch 76/100\n",
            "7/7 [==============================] - 0s 4ms/step - loss: 0.1815 - accuracy: 0.9333\n",
            "Epoch 77/100\n",
            "7/7 [==============================] - 0s 3ms/step - loss: 0.1782 - accuracy: 0.9333\n",
            "Epoch 78/100\n",
            "7/7 [==============================] - 0s 3ms/step - loss: 0.1748 - accuracy: 0.9333\n",
            "Epoch 79/100\n",
            "7/7 [==============================] - 0s 3ms/step - loss: 0.1724 - accuracy: 0.9429\n",
            "Epoch 80/100\n",
            "7/7 [==============================] - 0s 3ms/step - loss: 0.1693 - accuracy: 0.9429\n",
            "Epoch 81/100\n",
            "7/7 [==============================] - 0s 3ms/step - loss: 0.1659 - accuracy: 0.9429\n",
            "Epoch 82/100\n",
            "7/7 [==============================] - 0s 3ms/step - loss: 0.1637 - accuracy: 0.9429\n",
            "Epoch 83/100\n",
            "7/7 [==============================] - 0s 4ms/step - loss: 0.1605 - accuracy: 0.9429\n",
            "Epoch 84/100\n",
            "7/7 [==============================] - 0s 4ms/step - loss: 0.1578 - accuracy: 0.9429\n",
            "Epoch 85/100\n",
            "7/7 [==============================] - 0s 4ms/step - loss: 0.1556 - accuracy: 0.9429\n",
            "Epoch 86/100\n",
            "7/7 [==============================] - 0s 3ms/step - loss: 0.1536 - accuracy: 0.9429\n",
            "Epoch 87/100\n",
            "7/7 [==============================] - 0s 3ms/step - loss: 0.1504 - accuracy: 0.9429\n",
            "Epoch 88/100\n",
            "7/7 [==============================] - 0s 4ms/step - loss: 0.1490 - accuracy: 0.9429\n",
            "Epoch 89/100\n",
            "7/7 [==============================] - 0s 3ms/step - loss: 0.1466 - accuracy: 0.9429\n",
            "Epoch 90/100\n",
            "7/7 [==============================] - 0s 3ms/step - loss: 0.1449 - accuracy: 0.9429\n",
            "Epoch 91/100\n",
            "7/7 [==============================] - 0s 4ms/step - loss: 0.1423 - accuracy: 0.9429\n",
            "Epoch 92/100\n",
            "7/7 [==============================] - 0s 3ms/step - loss: 0.1404 - accuracy: 0.9429\n",
            "Epoch 93/100\n",
            "7/7 [==============================] - 0s 3ms/step - loss: 0.1385 - accuracy: 0.9429\n",
            "Epoch 94/100\n",
            "7/7 [==============================] - 0s 4ms/step - loss: 0.1364 - accuracy: 0.9429\n",
            "Epoch 95/100\n",
            "7/7 [==============================] - 0s 3ms/step - loss: 0.1355 - accuracy: 0.9429\n",
            "Epoch 96/100\n",
            "7/7 [==============================] - 0s 4ms/step - loss: 0.1330 - accuracy: 0.9429\n",
            "Epoch 97/100\n",
            "7/7 [==============================] - 0s 3ms/step - loss: 0.1311 - accuracy: 0.9429\n",
            "Epoch 98/100\n",
            "7/7 [==============================] - 0s 3ms/step - loss: 0.1293 - accuracy: 0.9429\n",
            "Epoch 99/100\n",
            "7/7 [==============================] - 0s 4ms/step - loss: 0.1277 - accuracy: 0.9429\n",
            "Epoch 100/100\n",
            "7/7 [==============================] - 0s 3ms/step - loss: 0.1260 - accuracy: 0.9429\n"
          ]
        },
        {
          "output_type": "execute_result",
          "data": {
            "text/plain": [
              "<keras.src.callbacks.History at 0x7ed05ceb2710>"
            ]
          },
          "metadata": {},
          "execution_count": 29
        }
      ]
    },
    {
      "cell_type": "markdown",
      "source": [
        "Evaluamos el modelo"
      ],
      "metadata": {
        "id": "2sssAI_TCggl"
      }
    },
    {
      "cell_type": "code",
      "source": [
        "loss, accuracy = model.evaluate(X_test, y_test)"
      ],
      "metadata": {
        "colab": {
          "base_uri": "https://localhost:8080/"
        },
        "id": "luhPeB4aChxl",
        "outputId": "ef784fd8-a317-4505-cb2e-5bcf304eaafa"
      },
      "execution_count": 30,
      "outputs": [
        {
          "output_type": "stream",
          "name": "stdout",
          "text": [
            "2/2 [==============================] - 0s 9ms/step - loss: 0.0814 - accuracy: 1.0000\n"
          ]
        }
      ]
    },
    {
      "cell_type": "code",
      "source": [
        "loss"
      ],
      "metadata": {
        "colab": {
          "base_uri": "https://localhost:8080/"
        },
        "id": "HqxgZINIClqa",
        "outputId": "1c0b7862-371e-460f-f69f-4f2175b1834b"
      },
      "execution_count": 31,
      "outputs": [
        {
          "output_type": "execute_result",
          "data": {
            "text/plain": [
              "0.08144109696149826"
            ]
          },
          "metadata": {},
          "execution_count": 31
        }
      ]
    },
    {
      "cell_type": "code",
      "source": [
        "accuracy"
      ],
      "metadata": {
        "colab": {
          "base_uri": "https://localhost:8080/"
        },
        "id": "rnZzMewVCnZp",
        "outputId": "0c5e8a9d-4365-4019-c812-bd00c8f991ab"
      },
      "execution_count": 32,
      "outputs": [
        {
          "output_type": "execute_result",
          "data": {
            "text/plain": [
              "1.0"
            ]
          },
          "metadata": {},
          "execution_count": 32
        }
      ]
    },
    {
      "cell_type": "markdown",
      "source": [
        "Realizamos predicciones"
      ],
      "metadata": {
        "id": "F_eWGRexCtBM"
      }
    },
    {
      "cell_type": "code",
      "source": [
        "y_pred = model.predict(X_test)"
      ],
      "metadata": {
        "colab": {
          "base_uri": "https://localhost:8080/"
        },
        "id": "Cu6zWBpsCvHf",
        "outputId": "a4ea5611-9d8c-4309-c00c-f4c384823a8a"
      },
      "execution_count": 33,
      "outputs": [
        {
          "output_type": "stream",
          "name": "stdout",
          "text": [
            "2/2 [==============================] - 0s 7ms/step\n"
          ]
        }
      ]
    },
    {
      "cell_type": "markdown",
      "source": [
        "Nos retorna un vector de probabilidades"
      ],
      "metadata": {
        "id": "4fHCWTspD-LX"
      }
    },
    {
      "cell_type": "code",
      "source": [
        "y_pred"
      ],
      "metadata": {
        "colab": {
          "base_uri": "https://localhost:8080/"
        },
        "id": "bbdnUq-zC3YV",
        "outputId": "76af2ca6-5498-4416-bc66-a63121f0204b"
      },
      "execution_count": 14,
      "outputs": [
        {
          "output_type": "execute_result",
          "data": {
            "text/plain": [
              "array([[1.23673771e-03, 9.25015450e-01, 7.37477466e-02],\n",
              "       [9.73780453e-01, 2.42107343e-02, 2.00885022e-03],\n",
              "       [1.31848395e-07, 9.90425586e-04, 9.99009311e-01],\n",
              "       [7.64097134e-03, 7.31008410e-01, 2.61350691e-01],\n",
              "       [3.74005322e-04, 7.90534973e-01, 2.09090963e-01],\n",
              "       [9.87757802e-01, 1.11641595e-02, 1.07812893e-03],\n",
              "       [1.37647688e-01, 8.10720980e-01, 5.16312122e-02],\n",
              "       [3.96610150e-04, 3.05273440e-02, 9.69076037e-01],\n",
              "       [3.42759653e-04, 5.73622048e-01, 4.26035136e-01],\n",
              "       [3.99038289e-03, 9.74647820e-01, 2.13618092e-02],\n",
              "       [2.55775452e-03, 1.22137822e-01, 8.75304461e-01],\n",
              "       [9.84423339e-01, 1.49135198e-02, 6.63215760e-04],\n",
              "       [9.88056242e-01, 1.10863289e-02, 8.57515144e-04],\n",
              "       [9.84497964e-01, 1.47517389e-02, 7.50245061e-04],\n",
              "       [9.95827317e-01, 3.80067900e-03, 3.72076727e-04],\n",
              "       [1.20845847e-02, 6.41132236e-01, 3.46783161e-01],\n",
              "       [2.21597598e-04, 1.50410123e-02, 9.84737396e-01],\n",
              "       [2.05447292e-03, 9.82578397e-01, 1.53671727e-02],\n",
              "       [5.93670923e-03, 8.95593047e-01, 9.84702185e-02],\n",
              "       [1.76587389e-04, 1.28702568e-02, 9.86953080e-01],\n",
              "       [9.93976116e-01, 5.58777293e-03, 4.36185481e-04],\n",
              "       [6.21672766e-03, 2.30735734e-01, 7.63047516e-01],\n",
              "       [9.94315088e-01, 5.13526564e-03, 5.49672463e-04],\n",
              "       [1.85159588e-04, 1.64161716e-02, 9.83398676e-01],\n",
              "       [3.36276098e-05, 6.24889284e-02, 9.37477410e-01],\n",
              "       [4.32683737e-04, 2.40674391e-02, 9.75499928e-01],\n",
              "       [2.61381356e-05, 5.90463094e-02, 9.40927625e-01],\n",
              "       [1.58940762e-04, 1.70089956e-02, 9.82832015e-01],\n",
              "       [9.90012944e-01, 9.38737020e-03, 5.99752937e-04],\n",
              "       [9.88121390e-01, 1.11964541e-02, 6.82167883e-04],\n",
              "       [9.99133468e-01, 7.94291846e-04, 7.21724427e-05],\n",
              "       [9.91200387e-01, 8.05552024e-03, 7.43972254e-04],\n",
              "       [2.65624165e-03, 8.68575871e-01, 1.28767788e-01],\n",
              "       [9.95498002e-01, 4.14477056e-03, 3.57260142e-04],\n",
              "       [9.98165488e-01, 1.67379866e-03, 1.60627897e-04],\n",
              "       [3.30901734e-04, 7.95130059e-02, 9.20156121e-01],\n",
              "       [8.08211137e-03, 7.81941533e-01, 2.09976301e-01],\n",
              "       [9.91375864e-01, 7.98373297e-03, 6.40429847e-04],\n",
              "       [9.96254742e-01, 3.43113276e-03, 3.14067322e-04],\n",
              "       [9.95394647e-01, 4.26069601e-03, 3.44642118e-04],\n",
              "       [2.07764283e-03, 7.95331597e-02, 9.18389142e-01],\n",
              "       [3.99543010e-02, 6.75181329e-01, 2.84864455e-01],\n",
              "       [2.45121517e-03, 7.27426589e-01, 2.70122141e-01],\n",
              "       [9.95144308e-01, 4.40564519e-03, 4.49929386e-04],\n",
              "       [9.89326715e-01, 9.88367666e-03, 7.89635640e-04]], dtype=float32)"
            ]
          },
          "metadata": {},
          "execution_count": 14
        }
      ]
    },
    {
      "cell_type": "markdown",
      "source": [
        "Desplegamos las primeras 5 predicciones"
      ],
      "metadata": {
        "id": "G43NR_KcEM55"
      }
    },
    {
      "cell_type": "code",
      "source": [
        "resultados = []\n",
        "for i in range(5):\n",
        "  categoria = y_pred[i].argmax()\n",
        "  clase = to_class(categoria)\n",
        "  resultado = (X_test[i], clase)\n",
        "  resultados.append(resultado)"
      ],
      "metadata": {
        "id": "Gq76JQA8EBfe"
      },
      "execution_count": 37,
      "outputs": []
    },
    {
      "cell_type": "code",
      "source": [
        "caracteristicas = ['Sepal Length', 'Sepal Width', 'Petal Length', 'Petal Width', 'Clase']\n",
        "\n",
        "print('| {:1} | {:^4} | {:>4} | {:<3} | {:4}'.format(*caracteristicas))\n",
        "for res in resultados:\n",
        "  x, clase = res\n",
        "  s_length, s_width, p_length, p_width = x\n",
        "  print('| {:1} | {:^4} | {:>4} | {:<3} | {:4}'.format(*x, clase))"
      ],
      "metadata": {
        "colab": {
          "base_uri": "https://localhost:8080/"
        },
        "id": "LXrGOAziFNgK",
        "outputId": "f500ed6d-feee-4fb9-905c-e807798ef282"
      },
      "execution_count": 49,
      "outputs": [
        {
          "output_type": "stream",
          "name": "stdout",
          "text": [
            "| Sepal Length | Sepal Width | Petal Length | Petal Width | Clase\n",
            "| 0.3100622994335013 | -0.5025634854229344 | 0.48421300161831227 | -0.052825928927301556 | Versicolour\n",
            "| -0.1722568330186079 | 1.8960349677319732 | -1.266959162672944 | -1.2703991688370584 | Setosa\n",
            "| 2.2393388292419414 | -0.9822831760539154 | 1.7684059220985668 | 1.4353191420735123 | Virginica\n",
            "| 0.18948251632047425 | -0.26270364010744346 | 0.36746819066556174 | 0.35303181770928416 | Versicolour\n",
            "| 1.1541207812246936 | -0.5025634854229344 | 0.5425854070946873 | 0.21774590216375547 | Versicolour\n"
          ]
        }
      ]
    }
  ],
  "metadata": {
    "language_info": {
      "name": "python"
    },
    "orig_nbformat": 4,
    "colab": {
      "provenance": [],
      "include_colab_link": true
    },
    "kernelspec": {
      "name": "python3",
      "display_name": "Python 3"
    }
  },
  "nbformat": 4,
  "nbformat_minor": 0
}