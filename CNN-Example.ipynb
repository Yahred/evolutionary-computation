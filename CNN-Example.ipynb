{
  "cells": [
    {
      "cell_type": "markdown",
      "metadata": {
        "id": "view-in-github",
        "colab_type": "text"
      },
      "source": [
        "<a href=\"https://colab.research.google.com/github/Yahred/evolutionary-computation/blob/main/CNN-Example.ipynb\" target=\"_parent\"><img src=\"https://colab.research.google.com/assets/colab-badge.svg\" alt=\"Open In Colab\"/></a>"
      ]
    },
    {
      "cell_type": "markdown",
      "source": [
        "# Ejemplo de una red neuronal convolucional\n",
        "\n",
        "En este Notebook se llevará a cabo la realización de una red neuronal convolucional para la clasificación de imagenes con el dataset de numeros MNIST mediante el uso de TF y Keras."
      ],
      "metadata": {
        "id": "bkLAvGKyzHXS"
      }
    },
    {
      "cell_type": "markdown",
      "source": [
        "# 1. Tratamiento de los datos\n",
        "\n",
        "Primero cargaremos todos los módulos necesarios."
      ],
      "metadata": {
        "id": "IfNXvUHQz-vc"
      }
    },
    {
      "cell_type": "code",
      "execution_count": 5,
      "metadata": {
        "id": "tO7RQWFlzGRj"
      },
      "outputs": [],
      "source": [
        "import tensorflow as tf\n",
        "import matplotlib.pyplot as plt"
      ]
    },
    {
      "cell_type": "markdown",
      "source": [
        "Se carga el dataset y se divide:"
      ],
      "metadata": {
        "id": "9JAA_fqk0OHU"
      }
    },
    {
      "cell_type": "code",
      "source": [
        "mnist = tf.keras.datasets.mnist\n",
        "(train_images, train_labels), (test_images, test_labels) = mnist.load_data()"
      ],
      "metadata": {
        "id": "lfdxjPUb0TOE",
        "outputId": "a6161cd0-db1a-4c9c-b0e1-bd1cf4b56641",
        "colab": {
          "base_uri": "https://localhost:8080/"
        }
      },
      "execution_count": 3,
      "outputs": [
        {
          "output_type": "stream",
          "name": "stdout",
          "text": [
            "Downloading data from https://storage.googleapis.com/tensorflow/tf-keras-datasets/mnist.npz\n",
            "11490434/11490434 [==============================] - 0s 0us/step\n"
          ]
        }
      ]
    },
    {
      "cell_type": "markdown",
      "source": [
        "Definimos una función para graficar un conjunto de imagenes"
      ],
      "metadata": {
        "id": "AEZfA5P10tCM"
      }
    },
    {
      "cell_type": "code",
      "source": [
        "def graficar_imagenes(imagenes, etiquetas):\n",
        "  plt.figure(figsize=(10, 5))\n",
        "  for i in range(len(imagenes)):\n",
        "    plt.subplot(4, 5, i + 1)\n",
        "    plt.xticks([])\n",
        "    plt.yticks([])\n",
        "    plt.grid(False)\n",
        "    plt.imshow(imagenes[i], cmap='gray')\n",
        "    plt.xlabel(etiquetas[i])\n",
        "\n",
        "  plt.tight_layout()\n",
        "  plt.show()\n",
        "\n",
        "graficar_imagenes(train_images[0:5], train_labels[0:5])"
      ],
      "metadata": {
        "id": "guDyZJCn0szj",
        "outputId": "ee17de5f-863d-4e27-d77a-7a5192359e82",
        "colab": {
          "base_uri": "https://localhost:8080/",
          "height": 148
        }
      },
      "execution_count": 9,
      "outputs": [
        {
          "output_type": "display_data",
          "data": {
            "text/plain": [
              "<Figure size 1000x500 with 5 Axes>"
            ],
            "image/png": "[encoded data removed]"
          },
          "metadata": {}
        }
      ]
    },
    {
      "cell_type": "markdown",
      "source": [
        "Normalización del dataset"
      ],
      "metadata": {
        "id": "RiPlP7e90bhA"
      }
    },
    {
      "cell_type": "code",
      "source": [
        "train_images, test_images = train_images / 255.0, test_images / 255.0"
      ],
      "metadata": {
        "id": "oPi6luyY0YXL"
      },
      "execution_count": 4,
      "outputs": []
    },
    {
      "cell_type": "markdown",
      "source": [
        "# 2. Definición del modelo"
      ],
      "metadata": {
        "id": "CN1aHTTs1zZV"
      }
    }
  ],
  "metadata": {
    "language_info": {
      "name": "python"
    },
    "colab": {
      "provenance": [],
      "include_colab_link": true
    },
    "kernelspec": {
      "name": "python3",
      "display_name": "Python 3"
    }
  },
  "nbformat": 4,
  "nbformat_minor": 0
}