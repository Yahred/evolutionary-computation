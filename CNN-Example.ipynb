{
  "cells": [
    {
      "cell_type": "markdown",
      "metadata": {
        "id": "view-in-github",
        "colab_type": "text"
      },
      "source": [
        "<a href=\"https://colab.research.google.com/github/Yahred/evolutionary-computation/blob/main/CNN-Example.ipynb\" target=\"_parent\"><img src=\"https://colab.research.google.com/assets/colab-badge.svg\" alt=\"Open In Colab\"/></a>"
      ]
    },
    {
      "cell_type": "markdown",
      "source": [
        "# Ejemplo de una red neuronal convolucional\n",
        "\n",
        "En este Notebook se llevará a cabo la realización de una red neuronal convolucional para la clasificación de imagenes con el dataset de numeros MNIST mediante el uso de TF y Keras."
      ],
      "metadata": {
        "id": "bkLAvGKyzHXS"
      }
    },
    {
      "cell_type": "markdown",
      "source": [
        "# 1. Tratamiento de los datos\n",
        "\n",
        "Primero cargaremos todos los módulos necesarios."
      ],
      "metadata": {
        "id": "IfNXvUHQz-vc"
      }
    },
    {
      "cell_type": "code",
      "execution_count": 31,
      "metadata": {
        "id": "tO7RQWFlzGRj"
      },
      "outputs": [],
      "source": [
        "import matplotlib.pyplot as plt\n",
        "import numpy as np\n",
        "\n",
        "from tensorflow.keras import Sequential, datasets\n",
        "from tensorflow.keras.layers import Dropout, Conv2D, MaxPooling2D, Flatten, Dense, Softmax, Dropout"
      ]
    },
    {
      "cell_type": "markdown",
      "source": [
        "Se carga el dataset y se divide:"
      ],
      "metadata": {
        "id": "9JAA_fqk0OHU"
      }
    },
    {
      "cell_type": "code",
      "source": [
        "mnist = datasets.mnist\n",
        "(train_images, train_labels), (test_images, test_labels) = mnist.load_data()"
      ],
      "metadata": {
        "id": "lfdxjPUb0TOE"
      },
      "execution_count": 18,
      "outputs": []
    },
    {
      "cell_type": "markdown",
      "source": [
        "Definimos una función para graficar un conjunto de imagenes"
      ],
      "metadata": {
        "id": "AEZfA5P10tCM"
      }
    },
    {
      "cell_type": "code",
      "source": [
        "def graficar_imagenes(imagenes, etiquetas):\n",
        "  plt.figure(figsize=(10, 5))\n",
        "  for i in range(len(imagenes)):\n",
        "    plt.subplot(4, 5, i + 1)\n",
        "    plt.xticks([])\n",
        "    plt.yticks([])\n",
        "    plt.grid(False)\n",
        "    plt.imshow(imagenes[i], cmap='gray')\n",
        "    plt.xlabel(etiquetas[i])\n",
        "\n",
        "  plt.tight_layout()\n",
        "  plt.show()\n",
        "\n",
        "graficar_imagenes(train_images[0:5], train_labels[0:5])"
      ],
      "metadata": {
        "colab": {
          "base_uri": "https://localhost:8080/",
          "height": 148
        },
        "id": "guDyZJCn0szj",
        "outputId": "ee17de5f-863d-4e27-d77a-7a5192359e82"
      },
      "execution_count": 9,
      "outputs": [
        {
          "output_type": "display_data",
          "data": {
            "text/plain": [
              "<Figure size 1000x500 with 5 Axes>"
            ],
            "image/png": "[encoded data removed]"
          },
          "metadata": {}
        }
      ]
    },
    {
      "cell_type": "markdown",
      "source": [
        "Normalización del dataset"
      ],
      "metadata": {
        "id": "RiPlP7e90bhA"
      }
    },
    {
      "cell_type": "code",
      "source": [
        "train_images, test_images = train_images / 255.0, test_images / 255.0"
      ],
      "metadata": {
        "id": "oPi6luyY0YXL"
      },
      "execution_count": 4,
      "outputs": []
    },
    {
      "cell_type": "markdown",
      "source": [
        "# 2. Definición del modelo\n",
        "\n",
        "La arquitectura del modelo se va a componer del siguiente patrón:\n",
        "\n",
        " Conv-Pool-Conv-Pool-FC-FC-FC-Softmax."
      ],
      "metadata": {
        "id": "CN1aHTTs1zZV"
      }
    },
    {
      "cell_type": "code",
      "source": [
        "model = Sequential([\n",
        "    Conv2D(32, (3, 3), activation='relu', input_shape=(28, 28, 1)),\n",
        "    MaxPooling2D((2, 2)),\n",
        "    Conv2D(64, (3, 3), activation='relu'),\n",
        "    MaxPooling2D((2, 2)),\n",
        "    Flatten(),\n",
        "    Dense(128, activation='relu'),\n",
        "    Dense(64, activation='relu'),\n",
        "    Dense(32, activation='relu'),\n",
        "    Dropout(0.2),\n",
        "    Dense(10, activation='softmax')\n",
        "])\n",
        "\n",
        "model.compile(optimizer='adam',\n",
        "              loss='sparse_categorical_crossentropy',\n",
        "              metrics=['accuracy'])"
      ],
      "metadata": {
        "id": "askSdc3r2VBS"
      },
      "execution_count": 26,
      "outputs": []
    },
    {
      "cell_type": "markdown",
      "source": [
        "# 3. Entrenamiento del modelo"
      ],
      "metadata": {
        "id": "e5AtM9AE4bmO"
      }
    },
    {
      "cell_type": "code",
      "source": [
        "model.fit(train_images, train_labels, epochs=5, batch_size=32, validation_data=(test_images, test_labels))"
      ],
      "metadata": {
        "id": "Y9UGN7_64bVf",
        "outputId": "9ac1a2f8-4f51-4892-c61f-23e32babd83c",
        "colab": {
          "base_uri": "https://localhost:8080/"
        }
      },
      "execution_count": 28,
      "outputs": [
        {
          "output_type": "stream",
          "name": "stdout",
          "text": [
            "Epoch 1/5\n",
            "1875/1875 [==============================] - 62s 33ms/step - loss: 0.0818 - accuracy: 0.9784 - val_loss: 0.0419 - val_accuracy: 0.9890\n",
            "Epoch 2/5\n",
            "1875/1875 [==============================] - 55s 29ms/step - loss: 0.0635 - accuracy: 0.9838 - val_loss: 0.0581 - val_accuracy: 0.9832\n",
            "Epoch 3/5\n",
            "1875/1875 [==============================] - 48s 26ms/step - loss: 0.0523 - accuracy: 0.9867 - val_loss: 0.0483 - val_accuracy: 0.9873\n",
            "Epoch 4/5\n",
            "1875/1875 [==============================] - 52s 28ms/step - loss: 0.0468 - accuracy: 0.9878 - val_loss: 0.0711 - val_accuracy: 0.9820\n",
            "Epoch 5/5\n",
            "1875/1875 [==============================] - 62s 33ms/step - loss: 0.0392 - accuracy: 0.9889 - val_loss: 0.0957 - val_accuracy: 0.9789\n"
          ]
        },
        {
          "output_type": "execute_result",
          "data": {
            "text/plain": [
              "<keras.src.callbacks.History at 0x7d2290327be0>"
            ]
          },
          "metadata": {},
          "execution_count": 28
        }
      ]
    },
    {
      "cell_type": "markdown",
      "source": [
        "# 4. Validación del modelo"
      ],
      "metadata": {
        "id": "I55WVIYv5lm-"
      }
    },
    {
      "cell_type": "code",
      "source": [
        "y_pred = model.predict(test_images)"
      ],
      "metadata": {
        "id": "3cHeAssB5skF",
        "outputId": "e1915376-c8b2-4d47-b7d4-93c1838d940c",
        "colab": {
          "base_uri": "https://localhost:8080/"
        }
      },
      "execution_count": 29,
      "outputs": [
        {
          "output_type": "stream",
          "name": "stdout",
          "text": [
            "313/313 [==============================] - 2s 7ms/step\n"
          ]
        }
      ]
    },
    {
      "cell_type": "markdown",
      "source": [
        "Se grafican las primeras diez predicciones"
      ],
      "metadata": {
        "id": "NeqioP_q6Fjv"
      }
    },
    {
      "cell_type": "code",
      "source": [
        "imagenes = test_images[0:10]\n",
        "etiquetas = [np.argmax(pred) for pred in y_pred[0:10]]\n",
        "\n",
        "graficar_imagenes(imagenes, etiquetas)"
      ],
      "metadata": {
        "id": "ERys19Vl6FL5",
        "outputId": "4d30158d-5a37-4273-cdce-0730a03ca27d",
        "colab": {
          "base_uri": "https://localhost:8080/",
          "height": 274
        }
      },
      "execution_count": 33,
      "outputs": [
        {
          "output_type": "display_data",
          "data": {
            "text/plain": [
              "<Figure size 1000x500 with 10 Axes>"
            ],
            "image/png": "[encoded data removed]"
          },
          "metadata": {}
        }
      ]
    }
  ],
  "metadata": {
    "language_info": {
      "name": "python"
    },
    "colab": {
      "provenance": [],
      "include_colab_link": true
    },
    "kernelspec": {
      "name": "python3",
      "display_name": "Python 3"
    }
  },
  "nbformat": 4,
  "nbformat_minor": 0
}