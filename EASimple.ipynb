{
  "nbformat": 4,
  "nbformat_minor": 0,
  "metadata": {
    "colab": {
      "provenance": [],
      "toc_visible": true,
      "authorship_tag": "ABX9TyNfE9fy3n7ikXr/y28lJTiX",
      "include_colab_link": true
    },
    "kernelspec": {
      "name": "python3",
      "display_name": "Python 3"
    },
    "language_info": {
      "name": "python"
    }
  },
  "cells": [
    {
      "cell_type": "markdown",
      "metadata": {
        "id": "view-in-github",
        "colab_type": "text"
      },
      "source": [
        "<a href=\"https://colab.research.google.com/github/Yahred/evolutionary-computation/blob/main/EASimple.ipynb\" target=\"_parent\"><img src=\"https://colab.research.google.com/assets/colab-badge.svg\" alt=\"Open In Colab\"/></a>"
      ]
    },
    {
      "cell_type": "markdown",
      "source": [
        "# Implementación de un algoritmo genético\n",
        "\n",
        "Vamos a buscar al individuo el cual la suma de su cromosoma sea lo más parecido a nuestro objetivo"
      ],
      "metadata": {
        "id": "sqg_3PXHM-4I"
      }
    },
    {
      "cell_type": "markdown",
      "source": [
        "Instalamos el framework DEAP que nos facilitará la implementación de algoritmos de computación evolutiva en Python"
      ],
      "metadata": {
        "id": "s51iHnAaNqq7"
      }
    },
    {
      "cell_type": "code",
      "source": [
        "!pip install deap"
      ],
      "metadata": {
        "colab": {
          "base_uri": "https://localhost:8080/"
        },
        "id": "kZwexICwN0E-",
        "outputId": "5acb02c7-8000-4f1d-cf60-8278bffd36c3"
      },
      "execution_count": 2,
      "outputs": [
        {
          "output_type": "stream",
          "name": "stdout",
          "text": [
            "Collecting deap\n",
            "  Downloading deap-1.4.1-cp310-cp310-manylinux_2_5_x86_64.manylinux1_x86_64.manylinux_2_17_x86_64.manylinux2014_x86_64.whl (135 kB)\n",
            "\u001b[?25l     \u001b[90m━━━━━━━━━━━━━━━━━━━━━━━━━━━━━━━━━━━━━━━━\u001b[0m \u001b[32m0.0/135.4 kB\u001b[0m \u001b[31m?\u001b[0m eta \u001b[36m-:--:--\u001b[0m\r\u001b[2K     \u001b[91m━━━━━━━━━━━━━━━━━━━━━━━━━━━━━━━━\u001b[0m\u001b[90m╺\u001b[0m\u001b[90m━━━━━━\u001b[0m \u001b[32m112.6/135.4 kB\u001b[0m \u001b[31m3.3 MB/s\u001b[0m eta \u001b[36m0:00:01\u001b[0m\r\u001b[2K     \u001b[90m━━━━━━━━━━━━━━━━━━━━━━━━━━━━━━━━━━━━━━━\u001b[0m \u001b[32m135.4/135.4 kB\u001b[0m \u001b[31m3.0 MB/s\u001b[0m eta \u001b[36m0:00:00\u001b[0m\n",
            "\u001b[?25hRequirement already satisfied: numpy in /usr/local/lib/python3.10/dist-packages (from deap) (1.23.5)\n",
            "Installing collected packages: deap\n",
            "Successfully installed deap-1.4.1\n"
          ]
        }
      ]
    },
    {
      "cell_type": "markdown",
      "source": [
        "Importamos los módulos"
      ],
      "metadata": {
        "id": "SDdl4a3iN97p"
      }
    },
    {
      "cell_type": "code",
      "source": [
        "import random\n",
        "import array\n",
        "import random\n",
        "\n",
        "import numpy\n",
        "from deap import base, creator, tools, algorithms"
      ],
      "metadata": {
        "id": "G5mzLkF0N6zg"
      },
      "execution_count": 28,
      "outputs": []
    },
    {
      "cell_type": "code",
      "source": [
        "generaciones = 10\n",
        "tamaño_poblacion = 100\n",
        "longitud_cromosoma = 10\n",
        "objetivo = 3\n",
        "tamaño_torneo = 3\n",
        "poblacion = []"
      ],
      "metadata": {
        "id": "l-QLKvlNM_HC"
      },
      "execution_count": 67,
      "outputs": []
    },
    {
      "cell_type": "markdown",
      "source": [
        "Definimos nuestra función de aptitud que simplemente retorna la diferencia entre la suma de nuestro individuo y el objetivo"
      ],
      "metadata": {
        "id": "_lr30IB6NWjO"
      }
    },
    {
      "cell_type": "code",
      "execution_count": 68,
      "metadata": {
        "id": "SBVCT5URM56q"
      },
      "outputs": [],
      "source": [
        "def aptitud(individuo):\n",
        "  return abs(sum(individuo) - objetivo),"
      ]
    },
    {
      "cell_type": "markdown",
      "source": [
        "Definimos la configuración para DEAP"
      ],
      "metadata": {
        "id": "XJFCd2OeOF8u"
      }
    },
    {
      "cell_type": "code",
      "source": [
        "# Configuración de DEAP\n",
        "creator.create(\"FitnessMin\", base.Fitness, weights=(-1.0,))\n",
        "creator.create(\"Individual\", list, fitness=creator.FitnessMin)\n",
        "\n",
        "toolbox = base.Toolbox()\n",
        "\n",
        "# Attribute generator\n",
        "toolbox.register(\"attr_bool\", random.randint, 0, 1)\n",
        "\n",
        "# Structure initializers\n",
        "toolbox.register(\"individual\", tools.initRepeat, creator.Individual, toolbox.attr_bool, longitud_cromosoma)\n",
        "toolbox.register(\"population\", tools.initRepeat, list, toolbox.individual)\n",
        "\n",
        "toolbox.register(\"evaluate\", aptitud)\n",
        "toolbox.register(\"mate\", tools.cxTwoPoint)\n",
        "toolbox.register(\"mutate\", tools.mutFlipBit, indpb=0.05)\n",
        "toolbox.register(\"select\", tools.selTournament, tournsize=tamaño_torneo)"
      ],
      "metadata": {
        "id": "67-9TR9ZOIso"
      },
      "execution_count": 69,
      "outputs": []
    },
    {
      "cell_type": "markdown",
      "source": [
        "Ejecutamos nuestra evolución"
      ],
      "metadata": {
        "id": "vxWoL7zLOWyQ"
      }
    },
    {
      "cell_type": "code",
      "source": [
        "random.seed(64)\n",
        "\n",
        "pop = toolbox.population(n=300)\n",
        "hof = tools.HallOfFame(1)\n",
        "\n",
        "pop, log = algorithms.eaSimple(pop, toolbox, cxpb=0.5, mutpb=0.2, ngen=40, halloffame=hof, verbose=True)\n",
        "\n",
        "ganador = tools.selBest(pop, k=1)[0]"
      ],
      "metadata": {
        "colab": {
          "base_uri": "https://localhost:8080/"
        },
        "id": "6ANwxOuyOZR1",
        "outputId": "3dce67b7-b346-461e-9183-5fe3341b02a5"
      },
      "execution_count": 70,
      "outputs": [
        {
          "output_type": "stream",
          "name": "stdout",
          "text": [
            "gen\tnevals\n",
            "0  \t300   \n",
            "1  \t168   \n",
            "2  \t193   \n",
            "3  \t162   \n",
            "4  \t177   \n",
            "5  \t174   \n",
            "6  \t161   \n",
            "7  \t185   \n",
            "8  \t176   \n",
            "9  \t178   \n",
            "10 \t176   \n",
            "11 \t169   \n",
            "12 \t167   \n",
            "13 \t191   \n",
            "14 \t176   \n",
            "15 \t176   \n",
            "16 \t178   \n",
            "17 \t173   \n",
            "18 \t176   \n",
            "19 \t164   \n",
            "20 \t190   \n",
            "21 \t192   \n",
            "22 \t184   \n",
            "23 \t194   \n",
            "24 \t177   \n",
            "25 \t192   \n",
            "26 \t182   \n",
            "27 \t174   \n",
            "28 \t186   \n",
            "29 \t158   \n",
            "30 \t163   \n",
            "31 \t170   \n",
            "32 \t176   \n",
            "33 \t180   \n",
            "34 \t164   \n",
            "35 \t165   \n",
            "36 \t191   \n",
            "37 \t161   \n",
            "38 \t174   \n",
            "39 \t203   \n",
            "40 \t195   \n"
          ]
        }
      ]
    },
    {
      "cell_type": "code",
      "source": [
        "ganador"
      ],
      "metadata": {
        "colab": {
          "base_uri": "https://localhost:8080/"
        },
        "id": "s25q5eMcOxYu",
        "outputId": "1b6e81ea-c6fa-4aba-c309-92de163edd85"
      },
      "execution_count": 71,
      "outputs": [
        {
          "output_type": "execute_result",
          "data": {
            "text/plain": [
              "[0, 1, 0, 0, 0, 1, 0, 0, 1, 0]"
            ]
          },
          "metadata": {},
          "execution_count": 71
        }
      ]
    },
    {
      "cell_type": "code",
      "source": [
        "sum(ganador)"
      ],
      "metadata": {
        "colab": {
          "base_uri": "https://localhost:8080/"
        },
        "id": "zEO0pQzcOymw",
        "outputId": "04288e5a-a683-4ea2-a3c3-013424629d34"
      },
      "execution_count": 72,
      "outputs": [
        {
          "output_type": "execute_result",
          "data": {
            "text/plain": [
              "3"
            ]
          },
          "metadata": {},
          "execution_count": 72
        }
      ]
    },
    {
      "cell_type": "code",
      "source": [
        "aptitud(ganador)"
      ],
      "metadata": {
        "colab": {
          "base_uri": "https://localhost:8080/"
        },
        "id": "-YWH39UVO1IG",
        "outputId": "29a0544e-bcec-41a8-b5c8-f58cb25e1c07"
      },
      "execution_count": 73,
      "outputs": [
        {
          "output_type": "execute_result",
          "data": {
            "text/plain": [
              "(0,)"
            ]
          },
          "metadata": {},
          "execution_count": 73
        }
      ]
    }
  ]
}